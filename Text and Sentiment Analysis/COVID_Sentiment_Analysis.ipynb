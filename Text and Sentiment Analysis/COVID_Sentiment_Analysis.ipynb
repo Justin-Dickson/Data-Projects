{
 "cells": [
  {
   "cell_type": "code",
   "execution_count": 1,
   "id": "adebc009",
   "metadata": {},
   "outputs": [],
   "source": [
    "import pandas as pd\n",
    "import numpy as np\n",
    "import seaborn as sns\n",
    "import spacy\n",
    "from spacy import displacy\n",
    "import scattertext as st\n",
    "import re\n",
    "import matplotlib.pyplot as plt\n",
    "from sklearn.feature_extraction.text import TfidfVectorizer\n",
    "from sklearn.feature_extraction.text import TfidfTransformer\n",
    "from sklearn.feature_extraction.text import CountVectorizer\n",
    "from sklearn import preprocessing\n",
    "from sklearn.pipeline import Pipeline\n",
    "from sklearn.ensemble import RandomForestClassifier\n",
    "from sklearn.linear_model import LogisticRegression\n",
    "from sklearn.svm import SVC\n",
    "from time import time\n",
    "from sklearn.model_selection import GridSearchCV\n",
    "from sklearn.metrics import classification_report\n",
    "from sklearn.decomposition import LatentDirichletAllocation\n",
    "import pyLDAvis\n",
    "import pyLDAvis.sklearn"
   ]
  },
  {
   "cell_type": "code",
   "execution_count": 2,
   "id": "2b2179e2",
   "metadata": {},
   "outputs": [
    {
     "data": {
      "text/html": [
       "<div>\n",
       "<style scoped>\n",
       "    .dataframe tbody tr th:only-of-type {\n",
       "        vertical-align: middle;\n",
       "    }\n",
       "\n",
       "    .dataframe tbody tr th {\n",
       "        vertical-align: top;\n",
       "    }\n",
       "\n",
       "    .dataframe thead th {\n",
       "        text-align: right;\n",
       "    }\n",
       "</style>\n",
       "<table border=\"1\" class=\"dataframe\">\n",
       "  <thead>\n",
       "    <tr style=\"text-align: right;\">\n",
       "      <th></th>\n",
       "      <th>UserName</th>\n",
       "      <th>ScreenName</th>\n",
       "      <th>Location</th>\n",
       "      <th>TweetAt</th>\n",
       "      <th>OriginalTweet</th>\n",
       "      <th>Sentiment</th>\n",
       "    </tr>\n",
       "  </thead>\n",
       "  <tbody>\n",
       "    <tr>\n",
       "      <th>0</th>\n",
       "      <td>3799</td>\n",
       "      <td>48751</td>\n",
       "      <td>London</td>\n",
       "      <td>16-03-2020</td>\n",
       "      <td>@MeNyrbie @Phil_Gahan @Chrisitv https://t.co/i...</td>\n",
       "      <td>Neutral</td>\n",
       "    </tr>\n",
       "    <tr>\n",
       "      <th>1</th>\n",
       "      <td>3800</td>\n",
       "      <td>48752</td>\n",
       "      <td>UK</td>\n",
       "      <td>16-03-2020</td>\n",
       "      <td>advice Talk to your neighbours family to excha...</td>\n",
       "      <td>Positive</td>\n",
       "    </tr>\n",
       "    <tr>\n",
       "      <th>2</th>\n",
       "      <td>3801</td>\n",
       "      <td>48753</td>\n",
       "      <td>Vagabonds</td>\n",
       "      <td>16-03-2020</td>\n",
       "      <td>Coronavirus Australia: Woolworths to give elde...</td>\n",
       "      <td>Positive</td>\n",
       "    </tr>\n",
       "    <tr>\n",
       "      <th>3</th>\n",
       "      <td>3802</td>\n",
       "      <td>48754</td>\n",
       "      <td>NaN</td>\n",
       "      <td>16-03-2020</td>\n",
       "      <td>My food stock is not the only one which is emp...</td>\n",
       "      <td>Positive</td>\n",
       "    </tr>\n",
       "    <tr>\n",
       "      <th>4</th>\n",
       "      <td>3803</td>\n",
       "      <td>48755</td>\n",
       "      <td>NaN</td>\n",
       "      <td>16-03-2020</td>\n",
       "      <td>Me, ready to go at supermarket during the #COV...</td>\n",
       "      <td>Extremely Negative</td>\n",
       "    </tr>\n",
       "    <tr>\n",
       "      <th>5</th>\n",
       "      <td>3804</td>\n",
       "      <td>48756</td>\n",
       "      <td>ÃT: 36.319708,-82.363649</td>\n",
       "      <td>16-03-2020</td>\n",
       "      <td>As news of the regionÂs first confirmed COVID...</td>\n",
       "      <td>Positive</td>\n",
       "    </tr>\n",
       "    <tr>\n",
       "      <th>6</th>\n",
       "      <td>3805</td>\n",
       "      <td>48757</td>\n",
       "      <td>35.926541,-78.753267</td>\n",
       "      <td>16-03-2020</td>\n",
       "      <td>Cashier at grocery store was sharing his insig...</td>\n",
       "      <td>Positive</td>\n",
       "    </tr>\n",
       "    <tr>\n",
       "      <th>7</th>\n",
       "      <td>3806</td>\n",
       "      <td>48758</td>\n",
       "      <td>Austria</td>\n",
       "      <td>16-03-2020</td>\n",
       "      <td>Was at the supermarket today. Didn't buy toile...</td>\n",
       "      <td>Neutral</td>\n",
       "    </tr>\n",
       "    <tr>\n",
       "      <th>8</th>\n",
       "      <td>3807</td>\n",
       "      <td>48759</td>\n",
       "      <td>Atlanta, GA USA</td>\n",
       "      <td>16-03-2020</td>\n",
       "      <td>Due to COVID-19 our retail store and classroom...</td>\n",
       "      <td>Positive</td>\n",
       "    </tr>\n",
       "    <tr>\n",
       "      <th>9</th>\n",
       "      <td>3808</td>\n",
       "      <td>48760</td>\n",
       "      <td>BHAVNAGAR,GUJRAT</td>\n",
       "      <td>16-03-2020</td>\n",
       "      <td>For corona prevention,we should stop to buy th...</td>\n",
       "      <td>Negative</td>\n",
       "    </tr>\n",
       "  </tbody>\n",
       "</table>\n",
       "</div>"
      ],
      "text/plain": [
       "   UserName  ScreenName                   Location     TweetAt  \\\n",
       "0      3799       48751                     London  16-03-2020   \n",
       "1      3800       48752                         UK  16-03-2020   \n",
       "2      3801       48753                  Vagabonds  16-03-2020   \n",
       "3      3802       48754                        NaN  16-03-2020   \n",
       "4      3803       48755                        NaN  16-03-2020   \n",
       "5      3804       48756  ÃT: 36.319708,-82.363649  16-03-2020   \n",
       "6      3805       48757       35.926541,-78.753267  16-03-2020   \n",
       "7      3806       48758                    Austria  16-03-2020   \n",
       "8      3807       48759            Atlanta, GA USA  16-03-2020   \n",
       "9      3808       48760           BHAVNAGAR,GUJRAT  16-03-2020   \n",
       "\n",
       "                                       OriginalTweet           Sentiment  \n",
       "0  @MeNyrbie @Phil_Gahan @Chrisitv https://t.co/i...             Neutral  \n",
       "1  advice Talk to your neighbours family to excha...            Positive  \n",
       "2  Coronavirus Australia: Woolworths to give elde...            Positive  \n",
       "3  My food stock is not the only one which is emp...            Positive  \n",
       "4  Me, ready to go at supermarket during the #COV...  Extremely Negative  \n",
       "5  As news of the regionÂs first confirmed COVID...            Positive  \n",
       "6  Cashier at grocery store was sharing his insig...            Positive  \n",
       "7  Was at the supermarket today. Didn't buy toile...             Neutral  \n",
       "8  Due to COVID-19 our retail store and classroom...            Positive  \n",
       "9  For corona prevention,we should stop to buy th...            Negative  "
      ]
     },
     "execution_count": 2,
     "metadata": {},
     "output_type": "execute_result"
    }
   ],
   "source": [
    "covid = pd.read_csv('Corona_NLP_train.csv', encoding = 'latin-1', sep=',')\n",
    "covid_test = pd.read_csv('Corona_NLP_test.csv', encoding = 'latin-1', sep=',')\n",
    "covid.head(10)"
   ]
  },
  {
   "cell_type": "markdown",
   "id": "c8a8e2e5",
   "metadata": {},
   "source": [
    "## 1. Concatenate the following three columns into a new column of Tweet_texts: Location, TweetAt, OriginalTweet\n",
    "Note: Question 2.1 has been moved to after question 2.5"
   ]
  },
  {
   "cell_type": "code",
   "execution_count": 3,
   "id": "8ba6e0b6",
   "metadata": {},
   "outputs": [],
   "source": [
    "columns = ['Location','TweetAt','OriginalTweet']\n",
    "covid['Tweet_texts'] = covid[columns].apply(lambda row: ' '.join(row.values.astype(str)), axis=1)\n",
    "covid_test['Tweet_texts'] = covid_test[columns].apply(lambda row: ' '.join(row.values.astype(str)), axis=1)"
   ]
  },
  {
   "cell_type": "markdown",
   "id": "c9d737a4",
   "metadata": {},
   "source": [
    "## 2. Clean and preprocess the new column of Tweet_texts"
   ]
  },
  {
   "cell_type": "markdown",
   "id": "479c11cf",
   "metadata": {},
   "source": [
    "### 2.2 Remove the date and time in the tweets using a regular expression"
   ]
  },
  {
   "cell_type": "code",
   "execution_count": 4,
   "id": "8fa096dd",
   "metadata": {},
   "outputs": [],
   "source": [
    "pattern = r\"\\d{2}-\\d{2}-\\d{4}\"\n",
    "covid['Tweet_texts'] = covid['Tweet_texts'].apply(lambda row: re.sub(pattern,\"\",row))\n",
    "covid_test['Tweet_texts'] = covid_test['Tweet_texts'].apply(lambda row: re.sub(pattern,\"\",row))"
   ]
  },
  {
   "cell_type": "markdown",
   "id": "1fbcfcf7",
   "metadata": {},
   "source": [
    "### 2.3 Remove the hyperlink URL in the tweets using a regular expression"
   ]
  },
  {
   "cell_type": "code",
   "execution_count": 5,
   "id": "ce20daeb",
   "metadata": {},
   "outputs": [],
   "source": [
    "pattern = r\"https?://[^' ']*\"\n",
    "covid['Tweet_texts'] = covid['Tweet_texts'].apply(lambda row: re.sub(pattern,\"\",row))\n",
    "covid_test['Tweet_texts'] = covid_test['Tweet_texts'].apply(lambda row: re.sub(pattern,\"\",row))"
   ]
  },
  {
   "cell_type": "markdown",
   "id": "1255132c",
   "metadata": {},
   "source": [
    "### 2.4 Remove the Twitter hashtags in the tweets using a regular expression"
   ]
  },
  {
   "cell_type": "code",
   "execution_count": 6,
   "id": "8360e1a5",
   "metadata": {},
   "outputs": [],
   "source": [
    "pattern = r\"(#[A-Za-z]\\w*|#\\w*[A-Za-z]\\w*?)\"\n",
    "covid['Tweet_texts'] = covid['Tweet_texts'].apply(lambda row: re.sub(pattern,\"\",row))\n",
    "covid_test['Tweet_texts'] = covid_test['Tweet_texts'].apply(lambda row: re.sub(pattern,\"\",row))"
   ]
  },
  {
   "cell_type": "markdown",
   "id": "1a276a82",
   "metadata": {},
   "source": [
    "### 2.5 Remove the usernames using a regular expression"
   ]
  },
  {
   "cell_type": "code",
   "execution_count": 7,
   "id": "e5284f9e",
   "metadata": {},
   "outputs": [],
   "source": [
    "pattern = r\"@\\w{1,15}\"\n",
    "covid['Tweet_texts'] = covid['Tweet_texts'].apply(lambda row: re.sub(pattern,\"\",row))\n",
    "covid_test['Tweet_texts'] = covid_test['Tweet_texts'].apply(lambda row: re.sub(pattern,\"\",row))"
   ]
  },
  {
   "cell_type": "markdown",
   "id": "07815abe",
   "metadata": {},
   "source": [
    "### 2.1 Remove all special characters, punctuation using a regular expression"
   ]
  },
  {
   "cell_type": "code",
   "execution_count": 8,
   "id": "4dc69324",
   "metadata": {},
   "outputs": [],
   "source": [
    "pattern = r\"[^0-9A-Za-z \\t]\"\n",
    "covid['Tweet_texts'] = covid['Tweet_texts'].apply(lambda row: re.sub(pattern,\"\",row))\n",
    "covid_test['Tweet_texts'] = covid_test['Tweet_texts'].apply(lambda row: re.sub(pattern,\"\",row))"
   ]
  },
  {
   "cell_type": "markdown",
   "id": "2e726778",
   "metadata": {},
   "source": [
    "### 2.6 Remove all words containing at most two characters"
   ]
  },
  {
   "cell_type": "code",
   "execution_count": 9,
   "id": "728ea9c2",
   "metadata": {},
   "outputs": [],
   "source": [
    "pattern = r\"\\b[A-Za-z]{1,2}\\b|nan\"\n",
    "covid['Tweet_texts'] = covid['Tweet_texts'].apply(lambda row: re.sub(pattern,\"\",row))\n",
    "covid_test['Tweet_texts'] = covid_test['Tweet_texts'].apply(lambda row: re.sub(pattern,\"\",row))"
   ]
  },
  {
   "cell_type": "markdown",
   "id": "d313beb2",
   "metadata": {},
   "source": [
    "### 2.6.5 Remove extra spaces"
   ]
  },
  {
   "cell_type": "code",
   "execution_count": 10,
   "id": "7fb1c697",
   "metadata": {},
   "outputs": [],
   "source": [
    "pattern = r\"\\s+\"\n",
    "covid['Tweet_texts'] = covid['Tweet_texts'].apply(lambda row: re.sub(pattern,\" \",row).strip())\n",
    "covid_test['Tweet_texts'] = covid_test['Tweet_texts'].apply(lambda row: re.sub(pattern,\" \",row).strip())"
   ]
  },
  {
   "cell_type": "markdown",
   "id": "0e9716a2",
   "metadata": {
    "tags": []
   },
   "source": [
    "### 2.7 Remove all rows without any text left in the column of Tweet_texts"
   ]
  },
  {
   "cell_type": "code",
   "execution_count": 11,
   "id": "2a94d378",
   "metadata": {},
   "outputs": [],
   "source": [
    "drop_blank = covid[covid['Tweet_texts'] == ''].index\n",
    "covid.drop(drop_blank, inplace = True)\n",
    "covid.reset_index(inplace = True, drop = True)\n",
    "\n",
    "drop_blank = covid_test[covid_test['Tweet_texts'] == ''].index\n",
    "covid_test.drop(drop_blank, inplace = True)\n",
    "covid_test.reset_index(inplace = True, drop = True)"
   ]
  },
  {
   "cell_type": "markdown",
   "id": "496829fc",
   "metadata": {},
   "source": [
    "### 2.8 Perform the part of speech tagging for the texts"
   ]
  },
  {
   "cell_type": "code",
   "execution_count": 12,
   "id": "daa18b49",
   "metadata": {},
   "outputs": [],
   "source": [
    "nlp = spacy.load('en_core_web_lg')\n",
    "stop_words = nlp.Defaults.stop_words\n",
    "\n",
    "def nlp_text(text):\n",
    "    processed = nlp(text)\n",
    "    return processed"
   ]
  },
  {
   "cell_type": "code",
   "execution_count": 13,
   "id": "5cd7850e",
   "metadata": {},
   "outputs": [
    {
     "name": "stdout",
     "output_type": "stream",
     "text": [
      "542.7594559192657\n"
     ]
    }
   ],
   "source": [
    "t0 = time()\n",
    "covid['Tweet_texts'] = covid.Tweet_texts.apply(nlp_text)\n",
    "covid_test['Tweet_texts'] = covid_test.Tweet_texts.apply(nlp_text)\n",
    "print(time() - t0)"
   ]
  },
  {
   "cell_type": "code",
   "execution_count": 14,
   "id": "904d41fe-827e-4a4f-adcd-965652b1477c",
   "metadata": {},
   "outputs": [
    {
     "data": {
      "text/plain": [
       "spacy.tokens.doc.Doc"
      ]
     },
     "execution_count": 14,
     "metadata": {},
     "output_type": "execute_result"
    }
   ],
   "source": [
    "type(covid_test['Tweet_texts'][0])"
   ]
  },
  {
   "cell_type": "code",
   "execution_count": 15,
   "id": "7328b069",
   "metadata": {},
   "outputs": [
    {
     "name": "stdout",
     "output_type": "stream",
     "text": [
      "Word: London, Lemma: London, POS: PROPN, Tag: NNP, DEP: ROOT, Shape: Xxxxx, Is Alpha: True, Is Stop: False\n",
      "Word: and, Lemma: and, POS: CCONJ, Tag: CC, DEP: cc, Shape: xxx, Is Alpha: True, Is Stop: True\n",
      "Word: and, Lemma: and, POS: CCONJ, Tag: CC, DEP: cc, Shape: xxx, Is Alpha: True, Is Stop: True\n",
      "Word: advice, Lemma: advice, POS: NOUN, Tag: NN, DEP: nsubj, Shape: xxxx, Is Alpha: True, Is Stop: False\n",
      "Word: Talk, Lemma: talk, POS: VERB, Tag: VB, DEP: ROOT, Shape: Xxxx, Is Alpha: True, Is Stop: False\n",
      "Word: your, Lemma: your, POS: PRON, Tag: PRP$, DEP: poss, Shape: xxxx, Is Alpha: True, Is Stop: True\n",
      "Word: neighbours, Lemma: neighbour, POS: NOUN, Tag: NNS, DEP: dobj, Shape: xxxx, Is Alpha: True, Is Stop: False\n",
      "Word: family, Lemma: family, POS: NOUN, Tag: NN, DEP: nsubj, Shape: xxxx, Is Alpha: True, Is Stop: False\n",
      "Word: exchange, Lemma: exchange, POS: NOUN, Tag: NN, DEP: compound, Shape: xxxx, Is Alpha: True, Is Stop: False\n",
      "Word: phone, Lemma: phone, POS: NOUN, Tag: NN, DEP: compound, Shape: xxxx, Is Alpha: True, Is Stop: False\n",
      "Word: numbers, Lemma: number, POS: NOUN, Tag: NNS, DEP: nsubj, Shape: xxxx, Is Alpha: True, Is Stop: False\n",
      "Word: create, Lemma: create, POS: VERB, Tag: VBP, DEP: ccomp, Shape: xxxx, Is Alpha: True, Is Stop: False\n",
      "Word: contact, Lemma: contact, POS: NOUN, Tag: NN, DEP: compound, Shape: xxxx, Is Alpha: True, Is Stop: False\n",
      "Word: list, Lemma: list, POS: NOUN, Tag: NN, DEP: dobj, Shape: xxxx, Is Alpha: True, Is Stop: False\n",
      "Word: with, Lemma: with, POS: ADP, Tag: IN, DEP: prep, Shape: xxxx, Is Alpha: True, Is Stop: True\n",
      "Word: phone, Lemma: phone, POS: NOUN, Tag: NN, DEP: compound, Shape: xxxx, Is Alpha: True, Is Stop: False\n",
      "Word: numbers, Lemma: number, POS: NOUN, Tag: NNS, DEP: compound, Shape: xxxx, Is Alpha: True, Is Stop: False\n",
      "Word: neighbours, Lemma: neighbour, POS: NOUN, Tag: NNS, DEP: compound, Shape: xxxx, Is Alpha: True, Is Stop: False\n",
      "Word: schools, Lemma: school, POS: NOUN, Tag: NNS, DEP: compound, Shape: xxxx, Is Alpha: True, Is Stop: False\n",
      "Word: employer, Lemma: employer, POS: NOUN, Tag: NN, DEP: compound, Shape: xxxx, Is Alpha: True, Is Stop: False\n",
      "Word: chemist, Lemma: chemist, POS: NOUN, Tag: NN, DEP: nsubj, Shape: xxxx, Is Alpha: True, Is Stop: False\n",
      "Word: set, Lemma: set, POS: VERB, Tag: VBD, DEP: pcomp, Shape: xxx, Is Alpha: True, Is Stop: False\n",
      "Word: online, Lemma: online, POS: ADJ, Tag: JJ, DEP: amod, Shape: xxxx, Is Alpha: True, Is Stop: False\n",
      "Word: shopping, Lemma: shopping, POS: NOUN, Tag: NN, DEP: compound, Shape: xxxx, Is Alpha: True, Is Stop: False\n",
      "Word: accounts, Lemma: account, POS: NOUN, Tag: NNS, DEP: dobj, Shape: xxxx, Is Alpha: True, Is Stop: False\n",
      "Word: poss, Lemma: poss, POS: VERB, Tag: VBP, DEP: amod, Shape: xxxx, Is Alpha: True, Is Stop: False\n",
      "Word: adequate, Lemma: adequate, POS: ADJ, Tag: JJ, DEP: amod, Shape: xxxx, Is Alpha: True, Is Stop: False\n",
      "Word: supplies, Lemma: supply, POS: NOUN, Tag: NNS, DEP: nsubj, Shape: xxxx, Is Alpha: True, Is Stop: False\n",
      "Word: regular, Lemma: regular, POS: ADJ, Tag: JJ, DEP: amod, Shape: xxxx, Is Alpha: True, Is Stop: False\n",
      "Word: meds, Lemma: med, POS: NOUN, Tag: NNS, DEP: dobj, Shape: xxxx, Is Alpha: True, Is Stop: False\n",
      "Word: but, Lemma: but, POS: CCONJ, Tag: CC, DEP: cc, Shape: xxx, Is Alpha: True, Is Stop: True\n",
      "Word: not, Lemma: not, POS: PART, Tag: RB, DEP: neg, Shape: xxx, Is Alpha: True, Is Stop: True\n",
      "Word: over, Lemma: over, POS: ADP, Tag: IN, DEP: conj, Shape: xxxx, Is Alpha: True, Is Stop: True\n",
      "Word: order, Lemma: order, POS: NOUN, Tag: NN, DEP: pobj, Shape: xxxx, Is Alpha: True, Is Stop: False\n",
      "Word: Vagabonds, Lemma: Vagabonds, POS: PROPN, Tag: NNPS, DEP: compound, Shape: Xxxxx, Is Alpha: True, Is Stop: False\n",
      "Word: Coronavirus, Lemma: Coronavirus, POS: PROPN, Tag: NNP, DEP: compound, Shape: Xxxxx, Is Alpha: True, Is Stop: False\n",
      "Word: Australia, Lemma: Australia, POS: PROPN, Tag: NNP, DEP: compound, Shape: Xxxxx, Is Alpha: True, Is Stop: False\n",
      "Word: Woolworths, Lemma: Woolworths, POS: PROPN, Tag: NNPS, DEP: nsubj, Shape: Xxxxx, Is Alpha: True, Is Stop: False\n",
      "Word: give, Lemma: give, POS: VERB, Tag: VBP, DEP: ROOT, Shape: xxxx, Is Alpha: True, Is Stop: True\n",
      "Word: elderly, Lemma: elderly, POS: ADJ, Tag: JJ, DEP: amod, Shape: xxxx, Is Alpha: True, Is Stop: False\n",
      "Word: disabled, Lemma: disabled, POS: ADJ, Tag: JJ, DEP: amod, Shape: xxxx, Is Alpha: True, Is Stop: False\n",
      "Word: dedicated, Lemma: dedicated, POS: ADJ, Tag: JJ, DEP: amod, Shape: xxxx, Is Alpha: True, Is Stop: False\n",
      "Word: shopping, Lemma: shopping, POS: NOUN, Tag: NN, DEP: compound, Shape: xxxx, Is Alpha: True, Is Stop: False\n",
      "Word: hours, Lemma: hour, POS: NOUN, Tag: NNS, DEP: dobj, Shape: xxxx, Is Alpha: True, Is Stop: False\n",
      "Word: amid, Lemma: amid, POS: ADP, Tag: IN, DEP: prep, Shape: xxxx, Is Alpha: True, Is Stop: False\n",
      "Word: COVID19, Lemma: covid19, POS: ADJ, Tag: JJ, DEP: amod, Shape: XXXXdd, Is Alpha: False, Is Stop: False\n",
      "Word: outbreak, Lemma: outbreak, POS: NOUN, Tag: NN, DEP: pobj, Shape: xxxx, Is Alpha: True, Is Stop: False\n",
      "Word: food, Lemma: food, POS: NOUN, Tag: NN, DEP: compound, Shape: xxxx, Is Alpha: True, Is Stop: False\n",
      "Word: stock, Lemma: stock, POS: NOUN, Tag: NN, DEP: nsubj, Shape: xxxx, Is Alpha: True, Is Stop: False\n",
      "Word: not, Lemma: not, POS: PART, Tag: RB, DEP: neg, Shape: xxx, Is Alpha: True, Is Stop: True\n",
      "Word: the, Lemma: the, POS: DET, Tag: DT, DEP: det, Shape: xxx, Is Alpha: True, Is Stop: True\n",
      "Word: only, Lemma: only, POS: ADJ, Tag: JJ, DEP: amod, Shape: xxxx, Is Alpha: True, Is Stop: True\n",
      "Word: one, Lemma: one, POS: NUM, Tag: CD, DEP: appos, Shape: xxx, Is Alpha: True, Is Stop: True\n",
      "Word: which, Lemma: which, POS: DET, Tag: WDT, DEP: det, Shape: xxxx, Is Alpha: True, Is Stop: True\n",
      "Word: emptyPLEASE, Lemma: emptyplease, POS: NOUN, Tag: NN, DEP: relcl, Shape: xxxxXXXX, Is Alpha: True, Is Stop: False\n",
      "Word: do, Lemma: do, POS: AUX, Tag: VBP, DEP: aux, Shape: xx, Is Alpha: True, Is Stop: True\n",
      "Word: nt, Lemma: not, POS: PART, Tag: RB, DEP: neg, Shape: xx, Is Alpha: True, Is Stop: False\n",
      "Word: panic, Lemma: panic, POS: VERB, Tag: VB, DEP: ROOT, Shape: xxxx, Is Alpha: True, Is Stop: False\n",
      "Word: THERE, Lemma: there, POS: PRON, Tag: EX, DEP: expl, Shape: XXXX, Is Alpha: True, Is Stop: True\n",
      "Word: WILL, Lemma: will, POS: AUX, Tag: MD, DEP: aux, Shape: XXXX, Is Alpha: True, Is Stop: True\n",
      "Word: ENOUGH, Lemma: enough, POS: ADJ, Tag: JJ, DEP: amod, Shape: XXXX, Is Alpha: True, Is Stop: True\n",
      "Word: FOOD, Lemma: food, POS: NOUN, Tag: NN, DEP: dobj, Shape: XXXX, Is Alpha: True, Is Stop: False\n",
      "Word: FOR, Lemma: for, POS: ADP, Tag: IN, DEP: prep, Shape: XXX, Is Alpha: True, Is Stop: True\n",
      "Word: EVERYONE, Lemma: everyone, POS: PRON, Tag: NN, DEP: pobj, Shape: XXXX, Is Alpha: True, Is Stop: True\n",
      "Word: you, Lemma: you, POS: PRON, Tag: PRP, DEP: nsubj, Shape: xxx, Is Alpha: True, Is Stop: True\n",
      "Word: not, Lemma: not, POS: PART, Tag: RB, DEP: neg, Shape: xxx, Is Alpha: True, Is Stop: True\n",
      "Word: take, Lemma: take, POS: VERB, Tag: VB, DEP: relcl, Shape: xxxx, Is Alpha: True, Is Stop: True\n",
      "Word: more, Lemma: more, POS: ADJ, Tag: JJR, DEP: dobj, Shape: xxxx, Is Alpha: True, Is Stop: True\n",
      "Word: than, Lemma: than, POS: SCONJ, Tag: IN, DEP: mark, Shape: xxxx, Is Alpha: True, Is Stop: True\n",
      "Word: you, Lemma: you, POS: PRON, Tag: PRP, DEP: nsubj, Shape: xxx, Is Alpha: True, Is Stop: True\n",
      "Word: need, Lemma: need, POS: AUX, Tag: VBP, DEP: aux, Shape: xxxx, Is Alpha: True, Is Stop: False\n",
      "Word: Stay, Lemma: stay, POS: VERB, Tag: VB, DEP: advcl, Shape: Xxxx, Is Alpha: True, Is Stop: False\n",
      "Word: calm, Lemma: calm, POS: ADJ, Tag: JJ, DEP: acomp, Shape: xxxx, Is Alpha: True, Is Stop: False\n",
      "Word: stay, Lemma: stay, POS: VERB, Tag: VB, DEP: advcl, Shape: xxxx, Is Alpha: True, Is Stop: False\n",
      "Word: safe, Lemma: safe, POS: ADJ, Tag: JJ, DEP: acomp, Shape: xxxx, Is Alpha: True, Is Stop: False\n",
      "Word: ready, Lemma: ready, POS: ADJ, Tag: JJ, DEP: amod, Shape: xxxx, Is Alpha: True, Is Stop: False\n",
      "Word: supermarket, Lemma: supermarket, POS: NOUN, Tag: NN, DEP: nsubj, Shape: xxxx, Is Alpha: True, Is Stop: False\n",
      "Word: during, Lemma: during, POS: ADP, Tag: IN, DEP: prep, Shape: xxxx, Is Alpha: True, Is Stop: True\n",
      "Word: the, Lemma: the, POS: DET, Tag: DT, DEP: det, Shape: xxx, Is Alpha: True, Is Stop: True\n",
      "Word: outbreakNot, Lemma: outbreaknot, POS: NOUN, Tag: NN, DEP: pobj, Shape: xxxxXxx, Is Alpha: True, Is Stop: False\n",
      "Word: because, Lemma: because, POS: SCONJ, Tag: IN, DEP: prep, Shape: xxxx, Is Alpha: True, Is Stop: True\n",
      "Word: paranoid, Lemma: paranoid, POS: ADJ, Tag: JJ, DEP: amod, Shape: xxxx, Is Alpha: True, Is Stop: False\n",
      "Word: but, Lemma: but, POS: CCONJ, Tag: CC, DEP: cc, Shape: xxx, Is Alpha: True, Is Stop: True\n",
      "Word: because, Lemma: because, POS: SCONJ, Tag: IN, DEP: mark, Shape: xxxx, Is Alpha: True, Is Stop: True\n",
      "Word: food, Lemma: food, POS: NOUN, Tag: NN, DEP: compound, Shape: xxxx, Is Alpha: True, Is Stop: False\n",
      "Word: stock, Lemma: stock, POS: NOUN, Tag: NN, DEP: nsubj, Shape: xxxx, Is Alpha: True, Is Stop: False\n",
      "Word: litteraly, Lemma: litteraly, POS: ADV, Tag: RB, DEP: appos, Shape: xxxx, Is Alpha: True, Is Stop: False\n",
      "Word: empty, Lemma: empty, POS: ADP, Tag: IN, DEP: conj, Shape: xxxx, Is Alpha: True, Is Stop: True\n",
      "Word: The, Lemma: the, POS: DET, Tag: DT, DEP: det, Shape: Xxx, Is Alpha: True, Is Stop: True\n",
      "Word: serious, Lemma: serious, POS: ADJ, Tag: JJ, DEP: amod, Shape: xxxx, Is Alpha: True, Is Stop: True\n",
      "Word: thing, Lemma: thing, POS: NOUN, Tag: NN, DEP: dobj, Shape: xxxx, Is Alpha: True, Is Stop: False\n",
      "Word: but, Lemma: but, POS: CCONJ, Tag: CC, DEP: cc, Shape: xxx, Is Alpha: True, Is Stop: True\n",
      "Word: please, Lemma: please, POS: INTJ, Tag: UH, DEP: intj, Shape: xxxx, Is Alpha: True, Is Stop: True\n",
      "Word: do, Lemma: do, POS: AUX, Tag: VBP, DEP: aux, Shape: xx, Is Alpha: True, Is Stop: True\n",
      "Word: nt, Lemma: not, POS: PART, Tag: RB, DEP: neg, Shape: xx, Is Alpha: True, Is Stop: False\n",
      "Word: panic, Lemma: panic, POS: VERB, Tag: VB, DEP: pobj, Shape: xxxx, Is Alpha: True, Is Stop: False\n",
      "Word: causes, Lemma: cause, POS: VERB, Tag: VBZ, DEP: ROOT, Shape: xxxx, Is Alpha: True, Is Stop: False\n",
      "Word: shortage, Lemma: shortage, POS: NOUN, Tag: NN, DEP: dobj, Shape: xxxx, Is Alpha: True, Is Stop: False\n",
      "Word: 3631970882363649, Lemma: 3631970882363649, POS: NUM, Tag: CD, DEP: nummod, Shape: dddd, Is Alpha: False, Is Stop: False\n",
      "Word: news, Lemma: news, POS: NOUN, Tag: NN, DEP: nsubj, Shape: xxxx, Is Alpha: True, Is Stop: False\n",
      "Word: the, Lemma: the, POS: DET, Tag: DT, DEP: det, Shape: xxx, Is Alpha: True, Is Stop: True\n",
      "Word: regions, Lemma: region, POS: NOUN, Tag: NNS, DEP: nsubj, Shape: xxxx, Is Alpha: True, Is Stop: False\n",
      "Word: first, Lemma: first, POS: ADV, Tag: RB, DEP: advmod, Shape: xxxx, Is Alpha: True, Is Stop: True\n",
      "Word: confirmed, Lemma: confirm, POS: VERB, Tag: VBD, DEP: ccomp, Shape: xxxx, Is Alpha: True, Is Stop: False\n",
      "Word: COVID19, Lemma: covid19, POS: ADJ, Tag: JJ, DEP: amod, Shape: XXXXdd, Is Alpha: False, Is Stop: False\n",
      "Word: case, Lemma: case, POS: NOUN, Tag: NN, DEP: dobj, Shape: xxxx, Is Alpha: True, Is Stop: False\n",
      "Word: came, Lemma: come, POS: VERB, Tag: VBD, DEP: ROOT, Shape: xxxx, Is Alpha: True, Is Stop: False\n",
      "Word: out, Lemma: out, POS: ADP, Tag: RP, DEP: prt, Shape: xxx, Is Alpha: True, Is Stop: True\n",
      "Word: Sullivan, Lemma: Sullivan, POS: PROPN, Tag: NNP, DEP: compound, Shape: Xxxxx, Is Alpha: True, Is Stop: False\n",
      "Word: County, Lemma: County, POS: PROPN, Tag: NNP, DEP: dobj, Shape: Xxxxx, Is Alpha: True, Is Stop: False\n",
      "Word: last, Lemma: last, POS: ADJ, Tag: JJ, DEP: amod, Shape: xxxx, Is Alpha: True, Is Stop: True\n",
      "Word: week, Lemma: week, POS: NOUN, Tag: NN, DEP: npadvmod, Shape: xxxx, Is Alpha: True, Is Stop: False\n",
      "Word: people, Lemma: people, POS: NOUN, Tag: NNS, DEP: nsubj, Shape: xxxx, Is Alpha: True, Is Stop: False\n",
      "Word: flocked, Lemma: flock, POS: VERB, Tag: VBD, DEP: conj, Shape: xxxx, Is Alpha: True, Is Stop: False\n",
      "Word: area, Lemma: area, POS: NOUN, Tag: NN, DEP: compound, Shape: xxxx, Is Alpha: True, Is Stop: False\n",
      "Word: stores, Lemma: store, POS: NOUN, Tag: NNS, DEP: compound, Shape: xxxx, Is Alpha: True, Is Stop: False\n",
      "Word: purchase, Lemma: purchase, POS: NOUN, Tag: NN, DEP: compound, Shape: xxxx, Is Alpha: True, Is Stop: False\n",
      "Word: cleaning, Lemma: cleaning, POS: NOUN, Tag: NN, DEP: compound, Shape: xxxx, Is Alpha: True, Is Stop: False\n",
      "Word: supplies, Lemma: supply, POS: NOUN, Tag: NNS, DEP: compound, Shape: xxxx, Is Alpha: True, Is Stop: False\n",
      "Word: hand, Lemma: hand, POS: NOUN, Tag: NN, DEP: compound, Shape: xxxx, Is Alpha: True, Is Stop: False\n",
      "Word: sanitizer, Lemma: sanitizer, POS: NOUN, Tag: NN, DEP: compound, Shape: xxxx, Is Alpha: True, Is Stop: False\n",
      "Word: food, Lemma: food, POS: NOUN, Tag: NN, DEP: compound, Shape: xxxx, Is Alpha: True, Is Stop: False\n",
      "Word: toilet, Lemma: toilet, POS: NOUN, Tag: NN, DEP: compound, Shape: xxxx, Is Alpha: True, Is Stop: False\n",
      "Word: paper, Lemma: paper, POS: NOUN, Tag: NN, DEP: dobj, Shape: xxxx, Is Alpha: True, Is Stop: False\n",
      "Word: and, Lemma: and, POS: CCONJ, Tag: CC, DEP: cc, Shape: xxx, Is Alpha: True, Is Stop: True\n",
      "Word: other, Lemma: other, POS: ADJ, Tag: JJ, DEP: amod, Shape: xxxx, Is Alpha: True, Is Stop: True\n",
      "Word: goods, Lemma: good, POS: NOUN, Tag: NNS, DEP: compound, Shape: xxxx, Is Alpha: True, Is Stop: False\n",
      "Word: reports, Lemma: report, POS: NOUN, Tag: NNS, DEP: conj, Shape: xxxx, Is Alpha: True, Is Stop: False\n",
      "Word: 3592654178753267, Lemma: 3592654178753267, POS: NUM, Tag: CD, DEP: nummod, Shape: dddd, Is Alpha: False, Is Stop: False\n",
      "Word: Cashier, Lemma: Cashier, POS: PROPN, Tag: NNP, DEP: compound, Shape: Xxxxx, Is Alpha: True, Is Stop: False\n",
      "Word: grocery, Lemma: grocery, POS: NOUN, Tag: NN, DEP: compound, Shape: xxxx, Is Alpha: True, Is Stop: False\n",
      "Word: store, Lemma: store, POS: NOUN, Tag: NN, DEP: nsubj, Shape: xxxx, Is Alpha: True, Is Stop: False\n",
      "Word: was, Lemma: be, POS: AUX, Tag: VBD, DEP: aux, Shape: xxx, Is Alpha: True, Is Stop: True\n",
      "Word: sharing, Lemma: share, POS: VERB, Tag: VBG, DEP: ROOT, Shape: xxxx, Is Alpha: True, Is Stop: False\n",
      "Word: his, Lemma: his, POS: PRON, Tag: PRP$, DEP: poss, Shape: xxx, Is Alpha: True, Is Stop: True\n",
      "Word: insights, Lemma: insight, POS: NOUN, Tag: NNS, DEP: dobj, Shape: xxxx, Is Alpha: True, Is Stop: False\n",
      "Word: prove, Lemma: prove, POS: VERB, Tag: VBP, DEP: advcl, Shape: xxxx, Is Alpha: True, Is Stop: False\n",
      "Word: his, Lemma: his, POS: PRON, Tag: PRP$, DEP: poss, Shape: xxx, Is Alpha: True, Is Stop: True\n",
      "Word: credibility, Lemma: credibility, POS: NOUN, Tag: NN, DEP: nsubj, Shape: xxxx, Is Alpha: True, Is Stop: False\n",
      "Word: commented, Lemma: comment, POS: VERB, Tag: VBD, DEP: ccomp, Shape: xxxx, Is Alpha: True, Is Stop: False\n",
      "Word: Civics, Lemma: Civics, POS: PROPN, Tag: NNP, DEP: compound, Shape: Xxxxx, Is Alpha: True, Is Stop: False\n",
      "Word: class, Lemma: class, POS: NOUN, Tag: NN, DEP: nsubj, Shape: xxxx, Is Alpha: True, Is Stop: False\n",
      "Word: know, Lemma: know, POS: VERB, Tag: VBP, DEP: ccomp, Shape: xxxx, Is Alpha: True, Is Stop: False\n",
      "Word: what, Lemma: what, POS: PRON, Tag: WP, DEP: nsubj, Shape: xxxx, Is Alpha: True, Is Stop: True\n",
      "Word: talking, Lemma: talk, POS: VERB, Tag: VBG, DEP: ccomp, Shape: xxxx, Is Alpha: True, Is Stop: False\n",
      "Word: about, Lemma: about, POS: ADP, Tag: IN, DEP: prep, Shape: xxxx, Is Alpha: True, Is Stop: True\n",
      "Word: Austria, Lemma: Austria, POS: PROPN, Tag: NNP, DEP: nsubj, Shape: Xxxxx, Is Alpha: True, Is Stop: False\n",
      "Word: Was, Lemma: be, POS: AUX, Tag: VBD, DEP: ROOT, Shape: Xxx, Is Alpha: True, Is Stop: True\n",
      "Word: the, Lemma: the, POS: DET, Tag: DT, DEP: det, Shape: xxx, Is Alpha: True, Is Stop: True\n",
      "Word: supermarket, Lemma: supermarket, POS: NOUN, Tag: NN, DEP: attr, Shape: xxxx, Is Alpha: True, Is Stop: False\n",
      "Word: today, Lemma: today, POS: NOUN, Tag: NN, DEP: npadvmod, Shape: xxxx, Is Alpha: True, Is Stop: False\n",
      "Word: Did, Lemma: do, POS: AUX, Tag: VBD, DEP: aux, Shape: Xxx, Is Alpha: True, Is Stop: True\n",
      "Word: nt, Lemma: not, POS: PART, Tag: RB, DEP: neg, Shape: xx, Is Alpha: True, Is Stop: False\n",
      "Word: buy, Lemma: buy, POS: VERB, Tag: VB, DEP: dep, Shape: xxx, Is Alpha: True, Is Stop: False\n",
      "Word: toilet, Lemma: toilet, POS: NOUN, Tag: NN, DEP: compound, Shape: xxxx, Is Alpha: True, Is Stop: False\n",
      "Word: paper, Lemma: paper, POS: NOUN, Tag: NN, DEP: dobj, Shape: xxxx, Is Alpha: True, Is Stop: False\n",
      "Word: Atlanta, Lemma: Atlanta, POS: PROPN, Tag: NNP, DEP: compound, Shape: Xxxxx, Is Alpha: True, Is Stop: False\n",
      "Word: USA, Lemma: USA, POS: PROPN, Tag: NNP, DEP: nsubj, Shape: XXX, Is Alpha: True, Is Stop: False\n",
      "Word: Due, Lemma: Due, POS: PROPN, Tag: NNP, DEP: prep, Shape: Xxx, Is Alpha: True, Is Stop: True\n",
      "Word: COVID19, Lemma: covid19, POS: ADJ, Tag: JJ, DEP: pcomp, Shape: XXXXdd, Is Alpha: False, Is Stop: False\n",
      "Word: our, Lemma: our, POS: PRON, Tag: PRP$, DEP: poss, Shape: xxx, Is Alpha: True, Is Stop: True\n",
      "Word: retail, Lemma: retail, POS: ADJ, Tag: JJ, DEP: amod, Shape: xxxx, Is Alpha: True, Is Stop: False\n",
      "Word: store, Lemma: store, POS: NOUN, Tag: NN, DEP: nsubj, Shape: xxxx, Is Alpha: True, Is Stop: False\n",
      "Word: and, Lemma: and, POS: CCONJ, Tag: CC, DEP: cc, Shape: xxx, Is Alpha: True, Is Stop: True\n",
      "Word: classroom, Lemma: classroom, POS: NOUN, Tag: NN, DEP: conj, Shape: xxxx, Is Alpha: True, Is Stop: False\n",
      "Word: Atlanta, Lemma: Atlanta, POS: PROPN, Tag: NNP, DEP: appos, Shape: Xxxxx, Is Alpha: True, Is Stop: False\n",
      "Word: will, Lemma: will, POS: AUX, Tag: MD, DEP: aux, Shape: xxxx, Is Alpha: True, Is Stop: True\n",
      "Word: not, Lemma: not, POS: PART, Tag: RB, DEP: neg, Shape: xxx, Is Alpha: True, Is Stop: True\n",
      "Word: open, Lemma: open, POS: VERB, Tag: VB, DEP: csubj, Shape: xxxx, Is Alpha: True, Is Stop: False\n",
      "Word: for, Lemma: for, POS: ADP, Tag: IN, DEP: prep, Shape: xxx, Is Alpha: True, Is Stop: True\n",
      "Word: walkin, Lemma: walkin, POS: NOUN, Tag: NN, DEP: compound, Shape: xxxx, Is Alpha: True, Is Stop: False\n",
      "Word: business, Lemma: business, POS: NOUN, Tag: NN, DEP: compound, Shape: xxxx, Is Alpha: True, Is Stop: False\n",
      "Word: classes, Lemma: class, POS: NOUN, Tag: NNS, DEP: pobj, Shape: xxxx, Is Alpha: True, Is Stop: False\n",
      "Word: for, Lemma: for, POS: ADP, Tag: IN, DEP: prep, Shape: xxx, Is Alpha: True, Is Stop: True\n",
      "Word: the, Lemma: the, POS: DET, Tag: DT, DEP: det, Shape: xxx, Is Alpha: True, Is Stop: True\n",
      "Word: next, Lemma: next, POS: ADJ, Tag: JJ, DEP: amod, Shape: xxxx, Is Alpha: True, Is Stop: True\n",
      "Word: two, Lemma: two, POS: NUM, Tag: CD, DEP: nummod, Shape: xxx, Is Alpha: True, Is Stop: True\n",
      "Word: weeks, Lemma: week, POS: NOUN, Tag: NNS, DEP: pobj, Shape: xxxx, Is Alpha: True, Is Stop: False\n",
      "Word: beginning, Lemma: begin, POS: VERB, Tag: VBG, DEP: prep, Shape: xxxx, Is Alpha: True, Is Stop: False\n",
      "Word: Monday, Lemma: Monday, POS: PROPN, Tag: NNP, DEP: compound, Shape: Xxxxx, Is Alpha: True, Is Stop: False\n",
      "Word: March, Lemma: March, POS: PROPN, Tag: NNP, DEP: pobj, Shape: Xxxxx, Is Alpha: True, Is Stop: False\n",
      "Word: 16, Lemma: 16, POS: NUM, Tag: CD, DEP: nummod, Shape: dd, Is Alpha: False, Is Stop: False\n",
      "Word: will, Lemma: will, POS: AUX, Tag: MD, DEP: aux, Shape: xxxx, Is Alpha: True, Is Stop: True\n",
      "Word: continue, Lemma: continue, POS: VERB, Tag: VB, DEP: ROOT, Shape: xxxx, Is Alpha: True, Is Stop: False\n",
      "Word: process, Lemma: process, POS: VERB, Tag: VB, DEP: xcomp, Shape: xxxx, Is Alpha: True, Is Stop: False\n",
      "Word: online, Lemma: online, POS: ADV, Tag: RB, DEP: advmod, Shape: xxxx, Is Alpha: True, Is Stop: False\n",
      "Word: and, Lemma: and, POS: CCONJ, Tag: CC, DEP: cc, Shape: xxx, Is Alpha: True, Is Stop: True\n",
      "Word: phone, Lemma: phone, POS: NOUN, Tag: NN, DEP: compound, Shape: xxxx, Is Alpha: True, Is Stop: False\n",
      "Word: orders, Lemma: order, POS: NOUN, Tag: NNS, DEP: dobj, Shape: xxxx, Is Alpha: True, Is Stop: False\n",
      "Word: normal, Lemma: normal, POS: ADJ, Tag: JJ, DEP: advmod, Shape: xxxx, Is Alpha: True, Is Stop: False\n",
      "Word: Thank, Lemma: thank, POS: VERB, Tag: VBP, DEP: xcomp, Shape: Xxxxx, Is Alpha: True, Is Stop: False\n",
      "Word: you, Lemma: you, POS: PRON, Tag: PRP, DEP: dobj, Shape: xxx, Is Alpha: True, Is Stop: True\n",
      "Word: for, Lemma: for, POS: ADP, Tag: IN, DEP: prep, Shape: xxx, Is Alpha: True, Is Stop: True\n",
      "Word: your, Lemma: your, POS: PRON, Tag: PRP$, DEP: poss, Shape: xxxx, Is Alpha: True, Is Stop: True\n",
      "Word: understanding, Lemma: understanding, POS: NOUN, Tag: NN, DEP: pobj, Shape: xxxx, Is Alpha: True, Is Stop: False\n",
      "Word: BHAVNAGARGUJRAT, Lemma: BHAVNAGARGUJRAT, POS: PROPN, Tag: NNP, DEP: nsubj, Shape: XXXX, Is Alpha: True, Is Stop: False\n",
      "Word: For, Lemma: for, POS: ADP, Tag: IN, DEP: prep, Shape: Xxx, Is Alpha: True, Is Stop: True\n",
      "Word: corona, Lemma: corona, POS: NOUN, Tag: NN, DEP: pobj, Shape: xxxx, Is Alpha: True, Is Stop: False\n",
      "Word: preventionwe, Lemma: preventionwe, POS: NOUN, Tag: NN, DEP: conj, Shape: xxxx, Is Alpha: True, Is Stop: False\n",
      "Word: should, Lemma: should, POS: AUX, Tag: MD, DEP: aux, Shape: xxxx, Is Alpha: True, Is Stop: True\n",
      "Word: stop, Lemma: stop, POS: VERB, Tag: VB, DEP: ROOT, Shape: xxxx, Is Alpha: True, Is Stop: False\n",
      "Word: buy, Lemma: buy, POS: VERB, Tag: VB, DEP: xcomp, Shape: xxx, Is Alpha: True, Is Stop: False\n",
      "Word: things, Lemma: thing, POS: NOUN, Tag: NNS, DEP: dobj, Shape: xxxx, Is Alpha: True, Is Stop: False\n",
      "Word: with, Lemma: with, POS: ADP, Tag: IN, DEP: prep, Shape: xxxx, Is Alpha: True, Is Stop: True\n",
      "Word: the, Lemma: the, POS: DET, Tag: DT, DEP: det, Shape: xxx, Is Alpha: True, Is Stop: True\n",
      "Word: cash, Lemma: cash, POS: NOUN, Tag: NN, DEP: pobj, Shape: xxxx, Is Alpha: True, Is Stop: False\n",
      "Word: and, Lemma: and, POS: CCONJ, Tag: CC, DEP: cc, Shape: xxx, Is Alpha: True, Is Stop: True\n",
      "Word: should, Lemma: should, POS: AUX, Tag: MD, DEP: aux, Shape: xxxx, Is Alpha: True, Is Stop: True\n",
      "Word: use, Lemma: use, POS: VERB, Tag: VB, DEP: conj, Shape: xxx, Is Alpha: True, Is Stop: False\n",
      "Word: online, Lemma: online, POS: ADJ, Tag: JJ, DEP: amod, Shape: xxxx, Is Alpha: True, Is Stop: False\n",
      "Word: payment, Lemma: payment, POS: NOUN, Tag: NN, DEP: compound, Shape: xxxx, Is Alpha: True, Is Stop: False\n",
      "Word: methods, Lemma: method, POS: NOUN, Tag: NNS, DEP: dobj, Shape: xxxx, Is Alpha: True, Is Stop: False\n",
      "Word: because, Lemma: because, POS: SCONJ, Tag: IN, DEP: mark, Shape: xxxx, Is Alpha: True, Is Stop: True\n",
      "Word: corona, Lemma: corona, POS: PROPN, Tag: NNP, DEP: nsubj, Shape: xxxx, Is Alpha: True, Is Stop: False\n",
      "Word: can, Lemma: can, POS: AUX, Tag: MD, DEP: aux, Shape: xxx, Is Alpha: True, Is Stop: True\n",
      "Word: spread, Lemma: spread, POS: VERB, Tag: VB, DEP: advcl, Shape: xxxx, Is Alpha: True, Is Stop: False\n",
      "Word: through, Lemma: through, POS: ADP, Tag: IN, DEP: prep, Shape: xxxx, Is Alpha: True, Is Stop: True\n",
      "Word: the, Lemma: the, POS: DET, Tag: DT, DEP: det, Shape: xxx, Is Alpha: True, Is Stop: True\n",
      "Word: notes, Lemma: note, POS: NOUN, Tag: NNS, DEP: pobj, Shape: xxxx, Is Alpha: True, Is Stop: False\n",
      "Word: Also, Lemma: also, POS: ADV, Tag: RB, DEP: advmod, Shape: Xxxx, Is Alpha: True, Is Stop: True\n",
      "Word: should, Lemma: should, POS: AUX, Tag: MD, DEP: aux, Shape: xxxx, Is Alpha: True, Is Stop: True\n",
      "Word: prefer, Lemma: prefer, POS: VERB, Tag: VB, DEP: advcl, Shape: xxxx, Is Alpha: True, Is Stop: False\n",
      "Word: online, Lemma: online, POS: ADJ, Tag: JJ, DEP: amod, Shape: xxxx, Is Alpha: True, Is Stop: False\n",
      "Word: shopping, Lemma: shopping, POS: NOUN, Tag: NN, DEP: dobj, Shape: xxxx, Is Alpha: True, Is Stop: False\n",
      "Word: from, Lemma: from, POS: ADP, Tag: IN, DEP: prep, Shape: xxxx, Is Alpha: True, Is Stop: True\n",
      "Word: our, Lemma: our, POS: PRON, Tag: PRP$, DEP: poss, Shape: xxx, Is Alpha: True, Is Stop: True\n",
      "Word: home, Lemma: home, POS: NOUN, Tag: NN, DEP: pobj, Shape: xxxx, Is Alpha: True, Is Stop: False\n",
      "Word: Its, Lemma: its, POS: PRON, Tag: PRP$, DEP: poss, Shape: Xxx, Is Alpha: True, Is Stop: True\n",
      "Word: time, Lemma: time, POS: NOUN, Tag: NN, DEP: nsubj, Shape: xxxx, Is Alpha: True, Is Stop: False\n",
      "Word: fight, Lemma: fight, POS: NOUN, Tag: NN, DEP: advcl, Shape: xxxx, Is Alpha: True, Is Stop: False\n",
      "Word: against, Lemma: against, POS: ADP, Tag: IN, DEP: prep, Shape: xxxx, Is Alpha: True, Is Stop: True\n",
      "Word: COVID, Lemma: COVID, POS: PROPN, Tag: NNP, DEP: pobj, Shape: XXXX, Is Alpha: True, Is Stop: False\n",
      "Word: 19, Lemma: 19, POS: NUM, Tag: CD, DEP: nummod, Shape: dd, Is Alpha: False, Is Stop: False\n",
      "Word: Makati, Lemma: Makati, POS: PROPN, Tag: NNP, DEP: compound, Shape: Xxxxx, Is Alpha: True, Is Stop: False\n",
      "Word: Manila, Lemma: Manila, POS: PROPN, Tag: NNP, DEP: nsubj, Shape: Xxxxx, Is Alpha: True, Is Stop: False\n",
      "Word: All, Lemma: all, POS: DET, Tag: DT, DEP: det, Shape: Xxx, Is Alpha: True, Is Stop: True\n",
      "Word: month, Lemma: month, POS: NOUN, Tag: NN, DEP: npadvmod, Shape: xxxx, Is Alpha: True, Is Stop: False\n",
      "Word: there, Lemma: there, POS: PRON, Tag: EX, DEP: expl, Shape: xxxx, Is Alpha: True, Is Stop: True\n",
      "Word: has, Lemma: have, POS: AUX, Tag: VBZ, DEP: aux, Shape: xxx, Is Alpha: True, Is Stop: True\n",
      "Word: nt, Lemma: not, POS: PART, Tag: RB, DEP: neg, Shape: xx, Is Alpha: True, Is Stop: False\n",
      "Word: been, Lemma: be, POS: AUX, Tag: VBN, DEP: aux, Shape: xxxx, Is Alpha: True, Is Stop: True\n",
      "Word: crowding, Lemma: crowd, POS: VERB, Tag: VBG, DEP: ROOT, Shape: xxxx, Is Alpha: True, Is Stop: False\n",
      "Word: the, Lemma: the, POS: DET, Tag: DT, DEP: det, Shape: xxx, Is Alpha: True, Is Stop: True\n",
      "Word: supermarkets, Lemma: supermarket, POS: NOUN, Tag: NNS, DEP: compound, Shape: xxxx, Is Alpha: True, Is Stop: False\n",
      "Word: restaurants, Lemma: restaurant, POS: NOUN, Tag: NNS, DEP: dobj, Shape: xxxx, Is Alpha: True, Is Stop: False\n",
      "Word: however, Lemma: however, POS: ADV, Tag: RB, DEP: advmod, Shape: xxxx, Is Alpha: True, Is Stop: True\n",
      "Word: reducing, Lemma: reduce, POS: VERB, Tag: VBG, DEP: advcl, Shape: xxxx, Is Alpha: True, Is Stop: False\n",
      "Word: all, Lemma: all, POS: DET, Tag: PDT, DEP: predet, Shape: xxx, Is Alpha: True, Is Stop: True\n",
      "Word: the, Lemma: the, POS: DET, Tag: DT, DEP: det, Shape: xxx, Is Alpha: True, Is Stop: True\n",
      "Word: hours, Lemma: hour, POS: NOUN, Tag: NNS, DEP: dobj, Shape: xxxx, Is Alpha: True, Is Stop: False\n",
      "Word: and, Lemma: and, POS: CCONJ, Tag: CC, DEP: cc, Shape: xxx, Is Alpha: True, Is Stop: True\n",
      "Word: closing, Lemma: close, POS: VERB, Tag: VBG, DEP: conj, Shape: xxxx, Is Alpha: True, Is Stop: False\n",
      "Word: the, Lemma: the, POS: DET, Tag: DT, DEP: det, Shape: xxx, Is Alpha: True, Is Stop: True\n",
      "Word: malls, Lemma: mall, POS: NOUN, Tag: NNS, DEP: dobj, Shape: xxxx, Is Alpha: True, Is Stop: False\n",
      "Word: means, Lemma: mean, POS: VERB, Tag: VBZ, DEP: conj, Shape: xxxx, Is Alpha: True, Is Stop: False\n",
      "Word: everyone, Lemma: everyone, POS: PRON, Tag: NN, DEP: nsubj, Shape: xxxx, Is Alpha: True, Is Stop: True\n",
      "Word: now, Lemma: now, POS: ADV, Tag: RB, DEP: advmod, Shape: xxx, Is Alpha: True, Is Stop: True\n",
      "Word: using, Lemma: use, POS: VERB, Tag: VBG, DEP: ccomp, Shape: xxxx, Is Alpha: True, Is Stop: True\n",
      "Word: the, Lemma: the, POS: DET, Tag: DT, DEP: det, Shape: xxx, Is Alpha: True, Is Stop: True\n",
      "Word: same, Lemma: same, POS: ADJ, Tag: JJ, DEP: amod, Shape: xxxx, Is Alpha: True, Is Stop: True\n",
      "Word: entrance, Lemma: entrance, POS: NOUN, Tag: NN, DEP: dobj, Shape: xxxx, Is Alpha: True, Is Stop: False\n",
      "Word: and, Lemma: and, POS: CCONJ, Tag: CC, DEP: cc, Shape: xxx, Is Alpha: True, Is Stop: True\n",
      "Word: dependent, Lemma: dependent, POS: ADJ, Tag: JJ, DEP: amod, Shape: xxxx, Is Alpha: True, Is Stop: False\n",
      "Word: single, Lemma: single, POS: ADJ, Tag: JJ, DEP: amod, Shape: xxxx, Is Alpha: True, Is Stop: False\n",
      "Word: supermarket, Lemma: supermarket, POS: NOUN, Tag: NN, DEP: conj, Shape: xxxx, Is Alpha: True, Is Stop: False\n",
      "Word: Pitt, Lemma: Pitt, POS: PROPN, Tag: NNP, DEP: compound, Shape: Xxxx, Is Alpha: True, Is Stop: False\n",
      "Word: Meadows, Lemma: Meadows, POS: PROPN, Tag: NNP, DEP: compound, Shape: Xxxxx, Is Alpha: True, Is Stop: False\n",
      "Word: Canada, Lemma: Canada, POS: PROPN, Tag: NNP, DEP: ROOT, Shape: Xxxxx, Is Alpha: True, Is Stop: False\n",
      "Word: Due, Lemma: due, POS: ADP, Tag: IN, DEP: prep, Shape: Xxx, Is Alpha: True, Is Stop: True\n",
      "Word: the, Lemma: the, POS: DET, Tag: DT, DEP: det, Shape: xxx, Is Alpha: True, Is Stop: True\n",
      "Word: Covid19, Lemma: covid19, POS: ADJ, Tag: JJ, DEP: amod, Shape: Xxxxxdd, Is Alpha: False, Is Stop: False\n",
      "Word: situation, Lemma: situation, POS: NOUN, Tag: NN, DEP: nsubj, Shape: xxxx, Is Alpha: True, Is Stop: False\n",
      "Word: have, Lemma: have, POS: AUX, Tag: VBP, DEP: aux, Shape: xxxx, Is Alpha: True, Is Stop: True\n",
      "Word: increased, Lemma: increase, POS: VERB, Tag: VBN, DEP: ROOT, Shape: xxxx, Is Alpha: True, Is Stop: False\n",
      "Word: demand, Lemma: demand, POS: NOUN, Tag: NN, DEP: dobj, Shape: xxxx, Is Alpha: True, Is Stop: False\n",
      "Word: for, Lemma: for, POS: ADP, Tag: IN, DEP: prep, Shape: xxx, Is Alpha: True, Is Stop: True\n",
      "Word: all, Lemma: all, POS: DET, Tag: DT, DEP: det, Shape: xxx, Is Alpha: True, Is Stop: True\n",
      "Word: food, Lemma: food, POS: NOUN, Tag: NN, DEP: compound, Shape: xxxx, Is Alpha: True, Is Stop: False\n",
      "Word: products, Lemma: product, POS: NOUN, Tag: NNS, DEP: pobj, Shape: xxxx, Is Alpha: True, Is Stop: False\n",
      "Word: The, Lemma: the, POS: DET, Tag: DT, DEP: det, Shape: Xxx, Is Alpha: True, Is Stop: True\n",
      "Word: wait, Lemma: wait, POS: NOUN, Tag: NN, DEP: compound, Shape: xxxx, Is Alpha: True, Is Stop: False\n",
      "Word: time, Lemma: time, POS: NOUN, Tag: NN, DEP: nsubj, Shape: xxxx, Is Alpha: True, Is Stop: False\n",
      "Word: may, Lemma: may, POS: AUX, Tag: MD, DEP: aux, Shape: xxx, Is Alpha: True, Is Stop: True\n",
      "Word: longer, Lemma: long, POS: ADV, Tag: RBR, DEP: advmod, Shape: xxxx, Is Alpha: True, Is Stop: False\n",
      "Word: for, Lemma: for, POS: ADP, Tag: IN, DEP: prep, Shape: xxx, Is Alpha: True, Is Stop: True\n",
      "Word: all, Lemma: all, POS: DET, Tag: DT, DEP: det, Shape: xxx, Is Alpha: True, Is Stop: True\n",
      "Word: online, Lemma: online, POS: ADJ, Tag: JJ, DEP: amod, Shape: xxxx, Is Alpha: True, Is Stop: False\n",
      "Word: orders, Lemma: order, POS: NOUN, Tag: NNS, DEP: pobj, Shape: xxxx, Is Alpha: True, Is Stop: False\n",
      "Word: particularly, Lemma: particularly, POS: ADV, Tag: RB, DEP: advmod, Shape: xxxx, Is Alpha: True, Is Stop: False\n",
      "Word: beef, Lemma: beef, POS: NOUN, Tag: NN, DEP: nmod, Shape: xxxx, Is Alpha: True, Is Stop: False\n",
      "Word: share, Lemma: share, POS: NOUN, Tag: NN, DEP: nmod, Shape: xxxx, Is Alpha: True, Is Stop: False\n",
      "Word: and, Lemma: and, POS: CCONJ, Tag: CC, DEP: cc, Shape: xxx, Is Alpha: True, Is Stop: True\n",
      "Word: freezer, Lemma: freezer, POS: NOUN, Tag: NN, DEP: conj, Shape: xxxx, Is Alpha: True, Is Stop: False\n",
      "Word: packs, Lemma: pack, POS: NOUN, Tag: NNS, DEP: nsubj, Shape: xxxx, Is Alpha: True, Is Stop: False\n",
      "Word: thank, Lemma: thank, POS: VERB, Tag: VBP, DEP: ROOT, Shape: xxxx, Is Alpha: True, Is Stop: False\n",
      "Word: you, Lemma: you, POS: PRON, Tag: PRP, DEP: dobj, Shape: xxx, Is Alpha: True, Is Stop: True\n",
      "Word: for, Lemma: for, POS: ADP, Tag: IN, DEP: prep, Shape: xxx, Is Alpha: True, Is Stop: True\n",
      "Word: your, Lemma: your, POS: PRON, Tag: PRP$, DEP: poss, Shape: xxxx, Is Alpha: True, Is Stop: True\n",
      "Word: patience, Lemma: patience, POS: NOUN, Tag: NN, DEP: pobj, Shape: xxxx, Is Alpha: True, Is Stop: False\n",
      "Word: during, Lemma: during, POS: ADP, Tag: IN, DEP: prep, Shape: xxxx, Is Alpha: True, Is Stop: True\n",
      "Word: this, Lemma: this, POS: DET, Tag: DT, DEP: det, Shape: xxxx, Is Alpha: True, Is Stop: True\n",
      "Word: time, Lemma: time, POS: NOUN, Tag: NN, DEP: pobj, Shape: xxxx, Is Alpha: True, Is Stop: False\n",
      "Word: Horningsea, Lemma: Horningsea, POS: PROPN, Tag: NNP, DEP: compound, Shape: Xxxxx, Is Alpha: True, Is Stop: False\n",
      "Word: caring, Lemma: care, POS: VERB, Tag: VBG, DEP: amod, Shape: xxxx, Is Alpha: True, Is Stop: False\n",
      "Word: community, Lemma: community, POS: NOUN, Tag: NN, DEP: nsubj, Shape: xxxx, Is Alpha: True, Is Stop: False\n",
      "Word: Lets, Lemma: let, POS: VERB, Tag: VBZ, DEP: ROOT, Shape: Xxxx, Is Alpha: True, Is Stop: False\n",
      "Word: ALL, Lemma: all, POS: PRON, Tag: DT, DEP: nsubj, Shape: XXX, Is Alpha: True, Is Stop: True\n",
      "Word: look, Lemma: look, POS: VERB, Tag: VB, DEP: ccomp, Shape: xxxx, Is Alpha: True, Is Stop: False\n",
      "Word: after, Lemma: after, POS: SCONJ, Tag: IN, DEP: mark, Shape: xxxx, Is Alpha: True, Is Stop: True\n",
      "Word: the, Lemma: the, POS: PRON, Tag: DT, DEP: advmod, Shape: xxx, Is Alpha: True, Is Stop: True\n",
      "Word: less, Lemma: less, POS: ADV, Tag: RBR, DEP: advmod, Shape: xxxx, Is Alpha: True, Is Stop: True\n",
      "Word: capable, Lemma: capable, POS: ADJ, Tag: JJ, DEP: advcl, Shape: xxxx, Is Alpha: True, Is Stop: False\n",
      "Word: our, Lemma: our, POS: PRON, Tag: PRP$, DEP: poss, Shape: xxx, Is Alpha: True, Is Stop: True\n",
      "Word: village, Lemma: village, POS: NOUN, Tag: NN, DEP: dobj, Shape: xxxx, Is Alpha: True, Is Stop: False\n",
      "Word: and, Lemma: and, POS: CCONJ, Tag: CC, DEP: cc, Shape: xxx, Is Alpha: True, Is Stop: True\n",
      "Word: ensure, Lemma: ensure, POS: VERB, Tag: VB, DEP: conj, Shape: xxxx, Is Alpha: True, Is Stop: False\n",
      "Word: they, Lemma: they, POS: PRON, Tag: PRP, DEP: nsubj, Shape: xxxx, Is Alpha: True, Is Stop: True\n",
      "Word: stay, Lemma: stay, POS: VERB, Tag: VBP, DEP: ccomp, Shape: xxxx, Is Alpha: True, Is Stop: False\n",
      "Word: healthy, Lemma: healthy, POS: ADJ, Tag: JJ, DEP: amod, Shape: xxxx, Is Alpha: True, Is Stop: False\n",
      "Word: Bringing, Lemma: bringing, POS: NOUN, Tag: NN, DEP: dobj, Shape: Xxxxx, Is Alpha: True, Is Stop: False\n",
      "Word: shopping, Lemma: shop, POS: VERB, Tag: VBG, DEP: acl, Shape: xxxx, Is Alpha: True, Is Stop: False\n",
      "Word: their, Lemma: their, POS: PRON, Tag: PRP$, DEP: poss, Shape: xxxx, Is Alpha: True, Is Stop: True\n",
      "Word: doors, Lemma: door, POS: NOUN, Tag: NNS, DEP: dobj, Shape: xxxx, Is Alpha: True, Is Stop: False\n",
      "Word: help, Lemma: help, POS: VERB, Tag: VBP, DEP: ccomp, Shape: xxxx, Is Alpha: True, Is Stop: False\n",
      "Word: with, Lemma: with, POS: ADP, Tag: IN, DEP: prep, Shape: xxxx, Is Alpha: True, Is Stop: True\n",
      "Word: online, Lemma: online, POS: ADJ, Tag: JJ, DEP: amod, Shape: xxxx, Is Alpha: True, Is Stop: False\n",
      "Word: shopping, Lemma: shopping, POS: NOUN, Tag: NN, DEP: pobj, Shape: xxxx, Is Alpha: True, Is Stop: False\n",
      "Word: and, Lemma: and, POS: CCONJ, Tag: CC, DEP: cc, Shape: xxx, Is Alpha: True, Is Stop: True\n",
      "Word: self, Lemma: self, POS: NOUN, Tag: NN, DEP: compound, Shape: xxxx, Is Alpha: True, Is Stop: False\n",
      "Word: isolation, Lemma: isolation, POS: NOUN, Tag: NN, DEP: conj, Shape: xxxx, Is Alpha: True, Is Stop: False\n",
      "Word: you, Lemma: you, POS: PRON, Tag: PRP, DEP: nsubj, Shape: xxx, Is Alpha: True, Is Stop: True\n",
      "Word: have, Lemma: have, POS: VERB, Tag: VBP, DEP: conj, Shape: xxxx, Is Alpha: True, Is Stop: True\n",
      "Word: symptoms, Lemma: symptom, POS: NOUN, Tag: NNS, DEP: nsubjpass, Shape: xxxx, Is Alpha: True, Is Stop: False\n",
      "Word: been, Lemma: be, POS: AUX, Tag: VBN, DEP: auxpass, Shape: xxxx, Is Alpha: True, Is Stop: True\n",
      "Word: exposed, Lemma: expose, POS: VERB, Tag: VBN, DEP: ccomp, Shape: xxxx, Is Alpha: True, Is Stop: False\n",
      "Word: somebody, Lemma: somebody, POS: PRON, Tag: NN, DEP: dobj, Shape: xxxx, Is Alpha: True, Is Stop: False\n",
      "Word: who, Lemma: who, POS: PRON, Tag: WP, DEP: nsubj, Shape: xxx, Is Alpha: True, Is Stop: True\n",
      "Word: has, Lemma: have, POS: VERB, Tag: VBZ, DEP: relcl, Shape: xxx, Is Alpha: True, Is Stop: True\n",
      "Word: Chicago, Lemma: Chicago, POS: PROPN, Tag: NNP, DEP: nsubj, Shape: Xxxxx, Is Alpha: True, Is Stop: False\n",
      "Word: do, Lemma: do, POS: AUX, Tag: VBP, DEP: aux, Shape: xx, Is Alpha: True, Is Stop: True\n",
      "Word: nt, Lemma: not, POS: PART, Tag: RB, DEP: neg, Shape: xx, Is Alpha: True, Is Stop: False\n",
      "Word: need, Lemma: need, POS: VERB, Tag: VB, DEP: ROOT, Shape: xxxx, Is Alpha: True, Is Stop: False\n",
      "Word: stock, Lemma: stock, POS: NOUN, Tag: NN, DEP: compound, Shape: xxxx, Is Alpha: True, Is Stop: False\n",
      "Word: food, Lemma: food, POS: NOUN, Tag: NN, DEP: dobj, Shape: xxxx, Is Alpha: True, Is Stop: False\n",
      "Word: Ill, Lemma: ill, POS: ADJ, Tag: JJ, DEP: nsubj, Shape: Xxx, Is Alpha: True, Is Stop: False\n",
      "Word: just, Lemma: just, POS: ADV, Tag: RB, DEP: advmod, Shape: xxxx, Is Alpha: True, Is Stop: True\n",
      "Word: have, Lemma: have, POS: VERB, Tag: VBP, DEP: advcl, Shape: xxxx, Is Alpha: True, Is Stop: True\n",
      "Word: Amazon, Lemma: Amazon, POS: PROPN, Tag: NNP, DEP: nsubj, Shape: Xxxxx, Is Alpha: True, Is Stop: False\n",
      "Word: deliver, Lemma: deliver, POS: VERB, Tag: VB, DEP: ccomp, Shape: xxxx, Is Alpha: True, Is Stop: False\n",
      "Word: whatever, Lemma: whatever, POS: PRON, Tag: WDT, DEP: nsubj, Shape: xxxx, Is Alpha: True, Is Stop: True\n",
      "Word: need, Lemma: need, POS: VERB, Tag: VBP, DEP: ccomp, Shape: xxxx, Is Alpha: True, Is Stop: False\n",
      "Word: Amazon, Lemma: Amazon, POS: PROPN, Tag: NNP, DEP: dobj, Shape: Xxxxx, Is Alpha: True, Is Stop: False\n",
      "Word: ADARA, Lemma: ADARA, POS: PROPN, Tag: NNP, DEP: nsubj, Shape: XXXX, Is Alpha: True, Is Stop: False\n",
      "Word: Releases, Lemma: release, POS: VERB, Tag: VBZ, DEP: advcl, Shape: Xxxxx, Is Alpha: True, Is Stop: False\n",
      "Word: COVID19, Lemma: covid19, POS: ADJ, Tag: JJ, DEP: amod, Shape: XXXXdd, Is Alpha: False, Is Stop: False\n",
      "Word: Resource, Lemma: Resource, POS: PROPN, Tag: NNP, DEP: compound, Shape: Xxxxx, Is Alpha: True, Is Stop: False\n",
      "Word: Center, Lemma: Center, POS: PROPN, Tag: NNP, DEP: dobj, Shape: Xxxxx, Is Alpha: True, Is Stop: False\n",
      "Word: for, Lemma: for, POS: ADP, Tag: IN, DEP: prep, Shape: xxx, Is Alpha: True, Is Stop: True\n",
      "Word: Travel, Lemma: Travel, POS: PROPN, Tag: NNP, DEP: compound, Shape: Xxxxx, Is Alpha: True, Is Stop: False\n",
      "Word: Brands, Lemma: Brands, POS: PROPN, Tag: NNPS, DEP: pobj, Shape: Xxxxx, Is Alpha: True, Is Stop: False\n",
      "Word: Insights, Lemma: insight, POS: NOUN, Tag: NNS, DEP: nsubj, Shape: Xxxxx, Is Alpha: True, Is Stop: False\n",
      "Word: Help, Lemma: help, POS: VERB, Tag: VBP, DEP: ROOT, Shape: Xxxx, Is Alpha: True, Is Stop: False\n",
      "Word: Travel, Lemma: Travel, POS: PROPN, Tag: NNP, DEP: compound, Shape: Xxxxx, Is Alpha: True, Is Stop: False\n",
      "Word: Brands, Lemma: Brands, POS: PROPN, Tag: NNPS, DEP: nsubj, Shape: Xxxxx, Is Alpha: True, Is Stop: False\n",
      "Word: Stay, Lemma: stay, POS: VERB, Tag: VB, DEP: ccomp, Shape: Xxxx, Is Alpha: True, Is Stop: False\n",
      "Word: UpToDate, Lemma: uptodate, POS: ADJ, Tag: JJ, DEP: amod, Shape: XxXxXxxx, Is Alpha: True, Is Stop: False\n",
      "Word: Consumer, Lemma: Consumer, POS: PROPN, Tag: NNP, DEP: compound, Shape: Xxxxx, Is Alpha: True, Is Stop: False\n",
      "Word: Travel, Lemma: Travel, POS: PROPN, Tag: NNP, DEP: compound, Shape: Xxxxx, Is Alpha: True, Is Stop: False\n",
      "Word: Behavior, Lemma: Behavior, POS: PROPN, Tag: NNP, DEP: compound, Shape: Xxxxx, Is Alpha: True, Is Stop: False\n",
      "Word: Trends, Lemma: Trends, POS: PROPN, Tag: NNPS, DEP: dobj, Shape: Xxxxx, Is Alpha: True, Is Stop: False\n",
      "Word: Houston, Lemma: Houston, POS: PROPN, Tag: NNP, DEP: compound, Shape: Xxxxx, Is Alpha: True, Is Stop: False\n",
      "Word: Texas, Lemma: Texas, POS: PROPN, Tag: NNP, DEP: compound, Shape: Xxxxx, Is Alpha: True, Is Stop: False\n",
      "Word: Lines, Lemma: Lines, POS: PROPN, Tag: NNP, DEP: nsubj, Shape: Xxxxx, Is Alpha: True, Is Stop: False\n",
      "Word: the, Lemma: the, POS: DET, Tag: DT, DEP: det, Shape: xxx, Is Alpha: True, Is Stop: True\n",
      "Word: grocery, Lemma: grocery, POS: NOUN, Tag: NN, DEP: compound, Shape: xxxx, Is Alpha: True, Is Stop: False\n",
      "Word: store, Lemma: store, POS: NOUN, Tag: NN, DEP: appos, Shape: xxxx, Is Alpha: True, Is Stop: False\n",
      "Word: have, Lemma: have, POS: AUX, Tag: VBP, DEP: aux, Shape: xxxx, Is Alpha: True, Is Stop: True\n",
      "Word: been, Lemma: be, POS: AUX, Tag: VBN, DEP: ROOT, Shape: xxxx, Is Alpha: True, Is Stop: True\n",
      "Word: unpredictable, Lemma: unpredictable, POS: ADJ, Tag: JJ, DEP: acomp, Shape: xxxx, Is Alpha: True, Is Stop: False\n",
      "Word: but, Lemma: but, POS: CCONJ, Tag: CC, DEP: cc, Shape: xxx, Is Alpha: True, Is Stop: True\n",
      "Word: eating, Lemma: eat, POS: VERB, Tag: VBG, DEP: conj, Shape: xxxx, Is Alpha: True, Is Stop: False\n",
      "Word: out, Lemma: out, POS: ADP, Tag: RP, DEP: prt, Shape: xxx, Is Alpha: True, Is Stop: True\n",
      "Word: safe, Lemma: safe, POS: ADJ, Tag: JJ, DEP: amod, Shape: xxxx, Is Alpha: True, Is Stop: False\n",
      "Word: alternative, Lemma: alternative, POS: NOUN, Tag: NN, DEP: dobj, Shape: xxxx, Is Alpha: True, Is Stop: False\n",
      "Word: Find, Lemma: find, POS: VERB, Tag: VB, DEP: dep, Shape: Xxxx, Is Alpha: True, Is Stop: False\n",
      "Word: out, Lemma: out, POS: ADP, Tag: RP, DEP: prt, Shape: xxx, Is Alpha: True, Is Stop: True\n",
      "Word: more, Lemma: more, POS: ADJ, Tag: JJR, DEP: dobj, Shape: xxxx, Is Alpha: True, Is Stop: True\n",
      "Word: about, Lemma: about, POS: ADP, Tag: IN, DEP: prep, Shape: xxxx, Is Alpha: True, Is Stop: True\n",
      "Word: whether, Lemma: whether, POS: SCONJ, Tag: IN, DEP: mark, Shape: xxxx, Is Alpha: True, Is Stop: True\n",
      "Word: you, Lemma: you, POS: PRON, Tag: PRP, DEP: nsubj, Shape: xxx, Is Alpha: True, Is Stop: True\n",
      "Word: should, Lemma: should, POS: AUX, Tag: MD, DEP: aux, Shape: xxxx, Is Alpha: True, Is Stop: True\n",
      "Word: avoiding, Lemma: avoid, POS: VERB, Tag: VBG, DEP: pcomp, Shape: xxxx, Is Alpha: True, Is Stop: False\n",
      "Word: restaurants, Lemma: restaurant, POS: NOUN, Tag: NNS, DEP: dobj, Shape: xxxx, Is Alpha: True, Is Stop: False\n",
      "Word: right, Lemma: right, POS: ADV, Tag: RB, DEP: advmod, Shape: xxxx, Is Alpha: True, Is Stop: False\n",
      "Word: now, Lemma: now, POS: ADV, Tag: RB, DEP: advmod, Shape: xxx, Is Alpha: True, Is Stop: True\n",
      "Word: Saudi, Lemma: Saudi, POS: PROPN, Tag: NNP, DEP: compound, Shape: Xxxxx, Is Alpha: True, Is Stop: False\n",
      "Word: Arabia, Lemma: Arabia, POS: PROPN, Tag: NNP, DEP: ROOT, Shape: Xxxxx, Is Alpha: True, Is Stop: False\n",
      "Word: 13, Lemma: 13, POS: NUM, Tag: CD, DEP: nummod, Shape: dd, Is Alpha: False, Is Stop: False\n",
      "Word: Ontario, Lemma: Ontario, POS: PROPN, Tag: NNP, DEP: nsubj, Shape: Xxxxx, Is Alpha: True, Is Stop: False\n",
      "Word: Canada, Lemma: Canada, POS: PROPN, Tag: NNP, DEP: appos, Shape: Xxxxx, Is Alpha: True, Is Stop: False\n",
      "Word: 16MAR20, Lemma: 16MAR20, POS: VERB, Tag: VBD, DEP: ROOT, Shape: ddXXXdd, Is Alpha: False, Is Stop: False\n",
      "Word: Russia, Lemma: Russia, POS: PROPN, Tag: NNP, DEP: compound, Shape: Xxxxx, Is Alpha: True, Is Stop: False\n",
      "Word: consumer, Lemma: consumer, POS: NOUN, Tag: NN, DEP: compound, Shape: xxxx, Is Alpha: True, Is Stop: False\n",
      "Word: surveillance, Lemma: surveillance, POS: NOUN, Tag: NN, DEP: compound, Shape: xxxx, Is Alpha: True, Is Stop: False\n",
      "Word: watchdog, Lemma: watchdog, POS: NOUN, Tag: NN, DEP: nsubj, Shape: xxxx, Is Alpha: True, Is Stop: False\n",
      "Word: reported, Lemma: report, POS: VERB, Tag: VBD, DEP: ccomp, Shape: xxxx, Is Alpha: True, Is Stop: False\n",
      "Word: case, Lemma: case, POS: NOUN, Tag: NN, DEP: dobj, Shape: xxxx, Is Alpha: True, Is Stop: False\n",
      "Word: high, Lemma: high, POS: ADJ, Tag: JJ, DEP: amod, Shape: xxxx, Is Alpha: True, Is Stop: False\n",
      "Word: Arctic, Lemma: Arctic, POS: PROPN, Tag: NNP, DEP: appos, Shape: Xxxxx, Is Alpha: True, Is Stop: False\n",
      "Word: where, Lemma: where, POS: SCONJ, Tag: WRB, DEP: advmod, Shape: xxxx, Is Alpha: True, Is Stop: True\n",
      "Word: man, Lemma: man, POS: NOUN, Tag: NN, DEP: nsubj, Shape: xxx, Is Alpha: True, Is Stop: False\n",
      "Word: who, Lemma: who, POS: PRON, Tag: WP, DEP: nsubj, Shape: xxx, Is Alpha: True, Is Stop: True\n",
      "Word: traveled, Lemma: travel, POS: VERB, Tag: VBD, DEP: relcl, Shape: xxxx, Is Alpha: True, Is Stop: False\n",
      "Word: Iran, Lemma: Iran, POS: PROPN, Tag: NNP, DEP: dobj, Shape: Xxxx, Is Alpha: True, Is Stop: False\n",
      "Word: has, Lemma: have, POS: VERB, Tag: VBZ, DEP: relcl, Shape: xxx, Is Alpha: True, Is Stop: True\n",
      "Word: COVID19, Lemma: covid19, POS: NOUN, Tag: NN, DEP: dobj, Shape: XXXXdd, Is Alpha: False, Is Stop: False\n",
      "Word: and, Lemma: and, POS: CCONJ, Tag: CC, DEP: cc, Shape: xxx, Is Alpha: True, Is Stop: True\n",
      "Word: 101, Lemma: 101, POS: NUM, Tag: CD, DEP: nsubjpass, Shape: ddd, Is Alpha: False, Is Stop: False\n",
      "Word: are, Lemma: be, POS: AUX, Tag: VBP, DEP: auxpass, Shape: xxx, Is Alpha: True, Is Stop: True\n",
      "Word: observed, Lemma: observe, POS: VERB, Tag: VBN, DEP: conj, Shape: xxxx, Is Alpha: True, Is Stop: False\n",
      "Word: North, Lemma: North, POS: PROPN, Tag: NNP, DEP: compound, Shape: Xxxxx, Is Alpha: True, Is Stop: False\n",
      "Word: America, Lemma: America, POS: PROPN, Tag: NNP, DEP: compound, Shape: Xxxxx, Is Alpha: True, Is Stop: False\n",
      "Word: Amazon, Lemma: Amazon, POS: PROPN, Tag: NNP, DEP: compound, Shape: Xxxxx, Is Alpha: True, Is Stop: False\n",
      "Word: Glitch, Lemma: Glitch, POS: PROPN, Tag: NNP, DEP: nsubj, Shape: Xxxxx, Is Alpha: True, Is Stop: False\n",
      "Word: Stymies, Lemma: stymie, POS: VERB, Tag: VBZ, DEP: ROOT, Shape: Xxxxx, Is Alpha: True, Is Stop: False\n",
      "Word: Whole, Lemma: Whole, POS: PROPN, Tag: NNP, DEP: compound, Shape: Xxxxx, Is Alpha: True, Is Stop: True\n",
      "Word: Foods, Lemma: Foods, POS: PROPN, Tag: NNPS, DEP: compound, Shape: Xxxxx, Is Alpha: True, Is Stop: False\n",
      "Word: Fresh, Lemma: Fresh, POS: PROPN, Tag: NNP, DEP: compound, Shape: Xxxxx, Is Alpha: True, Is Stop: False\n",
      "Word: Grocery, Lemma: Grocery, POS: PROPN, Tag: NNP, DEP: dobj, Shape: Xxxxx, Is Alpha: True, Is Stop: False\n",
      "Word: DeliveriesAs, Lemma: DeliveriesAs, POS: PROPN, Tag: NNPS, DEP: punct, Shape: XxxxxXx, Is Alpha: True, Is Stop: False\n",
      "Word: COVID19, Lemma: covid19, POS: ADJ, Tag: JJ, DEP: nsubj, Shape: XXXXdd, Is Alpha: False, Is Stop: False\n",
      "Word: has, Lemma: have, POS: AUX, Tag: VBZ, DEP: aux, Shape: xxx, Is Alpha: True, Is Stop: True\n",
      "Word: spread, Lemma: spread, POS: VERB, Tag: VBN, DEP: ccomp, Shape: xxxx, Is Alpha: True, Is Stop: False\n",
      "Word: we, Lemma: we, POS: PRON, Tag: PRP, DEP: nsubj, Shape: xx, Is Alpha: True, Is Stop: True\n",
      "Word: ve, Lemma: ve, POS: AUX, Tag: VBP, DEP: aux, Shape: xx, Is Alpha: True, Is Stop: False\n",
      "Word: seen, Lemma: see, POS: VERB, Tag: VBN, DEP: advcl, Shape: xxxx, Is Alpha: True, Is Stop: False\n",
      "Word: significant, Lemma: significant, POS: ADJ, Tag: JJ, DEP: amod, Shape: xxxx, Is Alpha: True, Is Stop: False\n",
      "Word: increase, Lemma: increase, POS: NOUN, Tag: NN, DEP: dobj, Shape: xxxx, Is Alpha: True, Is Stop: False\n",
      "Word: people, Lemma: people, POS: NOUN, Tag: NNS, DEP: nsubj, Shape: xxxx, Is Alpha: True, Is Stop: False\n",
      "Word: shopping, Lemma: shop, POS: VERB, Tag: VBG, DEP: relcl, Shape: xxxx, Is Alpha: True, Is Stop: False\n",
      "Word: online, Lemma: online, POS: ADV, Tag: RB, DEP: advmod, Shape: xxxx, Is Alpha: True, Is Stop: False\n",
      "Word: for, Lemma: for, POS: ADP, Tag: IN, DEP: prep, Shape: xxx, Is Alpha: True, Is Stop: True\n",
      "Word: groceries, Lemma: grocery, POS: NOUN, Tag: NNS, DEP: compound, Shape: xxxx, Is Alpha: True, Is Stop: False\n",
      "Word: spokeswoman, Lemma: spokeswoman, POS: NOUN, Tag: NN, DEP: nsubj, Shape: xxxx, Is Alpha: True, Is Stop: False\n",
      "Word: said, Lemma: say, POS: VERB, Tag: VBD, DEP: ROOT, Shape: xxxx, Is Alpha: True, Is Stop: False\n",
      "Word: statement, Lemma: statement, POS: NOUN, Tag: NN, DEP: dobj, Shape: xxxx, Is Alpha: True, Is Stop: False\n",
      "Word: Today, Lemma: today, POS: NOUN, Tag: NN, DEP: npadvmod, Shape: Xxxxx, Is Alpha: True, Is Stop: False\n",
      "Word: this, Lemma: this, POS: PRON, Tag: DT, DEP: nsubj, Shape: xxxx, Is Alpha: True, Is Stop: True\n",
      "Word: resulted, Lemma: result, POS: VERB, Tag: VBD, DEP: ccomp, Shape: xxxx, Is Alpha: True, Is Stop: False\n",
      "Word: systems, Lemma: system, POS: NOUN, Tag: NNS, DEP: compound, Shape: xxxx, Is Alpha: True, Is Stop: False\n",
      "Word: impact, Lemma: impact, POS: NOUN, Tag: NN, DEP: dobj, Shape: xxxx, Is Alpha: True, Is Stop: False\n",
      "Word: affecting, Lemma: affect, POS: VERB, Tag: VBG, DEP: acl, Shape: xxxx, Is Alpha: True, Is Stop: False\n",
      "Word: our, Lemma: our, POS: PRON, Tag: PRP$, DEP: dobj, Shape: xxx, Is Alpha: True, Is Stop: True\n",
      "Word: Denver, Lemma: Denver, POS: PROPN, Tag: NNP, DEP: ROOT, Shape: Xxxxx, Is Alpha: True, Is Stop: False\n",
      "Word: For, Lemma: for, POS: ADP, Tag: IN, DEP: prep, Shape: Xxx, Is Alpha: True, Is Stop: True\n",
      "Word: those, Lemma: those, POS: PRON, Tag: DT, DEP: pobj, Shape: xxxx, Is Alpha: True, Is Stop: True\n",
      "Word: who, Lemma: who, POS: PRON, Tag: WP, DEP: nsubj, Shape: xxx, Is Alpha: True, Is Stop: True\n",
      "Word: are, Lemma: be, POS: AUX, Tag: VBP, DEP: aux, Shape: xxx, Is Alpha: True, Is Stop: True\n",
      "Word: nt, Lemma: not, POS: PART, Tag: RB, DEP: neg, Shape: xx, Is Alpha: True, Is Stop: False\n",
      "Word: struggling, Lemma: struggle, POS: VERB, Tag: VBG, DEP: relcl, Shape: xxxx, Is Alpha: True, Is Stop: False\n",
      "Word: please, Lemma: please, POS: INTJ, Tag: UH, DEP: intj, Shape: xxxx, Is Alpha: True, Is Stop: True\n",
      "Word: consider, Lemma: consider, POS: VERB, Tag: VB, DEP: ROOT, Shape: xxxx, Is Alpha: True, Is Stop: False\n",
      "Word: donating, Lemma: donate, POS: VERB, Tag: VBG, DEP: xcomp, Shape: xxxx, Is Alpha: True, Is Stop: False\n",
      "Word: food, Lemma: food, POS: NOUN, Tag: NN, DEP: compound, Shape: xxxx, Is Alpha: True, Is Stop: False\n",
      "Word: bank, Lemma: bank, POS: NOUN, Tag: NN, DEP: compound, Shape: xxxx, Is Alpha: True, Is Stop: False\n",
      "Word: nonprofit, Lemma: nonprofit, POS: NOUN, Tag: NN, DEP: dobj, Shape: xxxx, Is Alpha: True, Is Stop: False\n",
      "Word: The, Lemma: the, POS: DET, Tag: DT, DEP: det, Shape: Xxx, Is Alpha: True, Is Stop: True\n",
      "Word: demand, Lemma: demand, POS: NOUN, Tag: NN, DEP: nsubj, Shape: xxxx, Is Alpha: True, Is Stop: False\n",
      "Word: for, Lemma: for, POS: ADP, Tag: IN, DEP: prep, Shape: xxx, Is Alpha: True, Is Stop: True\n",
      "Word: these, Lemma: these, POS: DET, Tag: DT, DEP: det, Shape: xxxx, Is Alpha: True, Is Stop: True\n",
      "Word: services, Lemma: service, POS: NOUN, Tag: NNS, DEP: pobj, Shape: xxxx, Is Alpha: True, Is Stop: False\n",
      "Word: will, Lemma: will, POS: AUX, Tag: MD, DEP: aux, Shape: xxxx, Is Alpha: True, Is Stop: True\n",
      "Word: increase, Lemma: increase, POS: VERB, Tag: VB, DEP: ccomp, Shape: xxxx, Is Alpha: True, Is Stop: False\n",
      "Word: COVID19, Lemma: covid19, POS: ADJ, Tag: JJ, DEP: amod, Shape: XXXXdd, Is Alpha: False, Is Stop: False\n",
      "Word: impacts, Lemma: impact, POS: NOUN, Tag: NNS, DEP: compound, Shape: xxxx, Is Alpha: True, Is Stop: False\n",
      "Word: jobs, Lemma: job, POS: NOUN, Tag: NNS, DEP: dobj, Shape: xxxx, Is Alpha: True, Is Stop: False\n",
      "Word: and, Lemma: and, POS: CCONJ, Tag: CC, DEP: cc, Shape: xxx, Is Alpha: True, Is Stop: True\n",
      "Word: peoples, Lemma: people, POS: NOUN, Tag: NNS, DEP: conj, Shape: xxxx, Is Alpha: True, Is Stop: False\n",
      "Word: way, Lemma: way, POS: NOUN, Tag: NN, DEP: compound, Shape: xxx, Is Alpha: True, Is Stop: False\n",
      "Word: life, Lemma: life, POS: NOUN, Tag: NN, DEP: npadvmod, Shape: xxxx, Is Alpha: True, Is Stop: False\n"
     ]
    }
   ],
   "source": [
    "for i in range(0,20):\n",
    "    for word in covid.Tweet_texts[i]:\n",
    "        print(f\"Word: {word.text}, Lemma: {word.lemma_}, POS: {word.pos_}, Tag: {word.tag_}, DEP: {word.dep_}, Shape: {word.shape_}, Is Alpha: {word.is_alpha}, Is Stop: {word.is_stop}\")"
   ]
  },
  {
   "cell_type": "markdown",
   "id": "2018a250",
   "metadata": {},
   "source": [
    "### 2.10 Perform the named entities recognition for the texts"
   ]
  },
  {
   "cell_type": "code",
   "execution_count": 16,
   "id": "f18c4b76",
   "metadata": {},
   "outputs": [
    {
     "name": "stdout",
     "output_type": "stream",
     "text": [
      "Text: London\n",
      "Label: GPE\n",
      "\n",
      "Text: Vagabonds Coronavirus Australia\n",
      "Label: ORG\n",
      "\n",
      "Text: 3631970882363649\n",
      "Label: CARDINAL\n",
      "\n",
      "Text: first\n",
      "Label: ORDINAL\n",
      "\n",
      "Text: COVID19\n",
      "Label: PERSON\n",
      "\n",
      "Text: Sullivan County\n",
      "Label: GPE\n",
      "\n",
      "Text: last week\n",
      "Label: DATE\n",
      "\n",
      "Text: 3592654178753267\n",
      "Label: CARDINAL\n",
      "\n",
      "Text: Austria\n",
      "Label: GPE\n",
      "\n",
      "Text: today\n",
      "Label: DATE\n",
      "\n",
      "Text: Atlanta USA\n",
      "Label: ORG\n",
      "\n",
      "Text: Atlanta\n",
      "Label: GPE\n",
      "\n",
      "Text: the next two weeks\n",
      "Label: DATE\n",
      "\n",
      "Text: Monday March 16\n",
      "Label: DATE\n",
      "\n",
      "Text: Makati\n",
      "Label: GPE\n",
      "\n",
      "Text: All month\n",
      "Label: DATE\n",
      "\n",
      "Text: all the hours\n",
      "Label: TIME\n",
      "\n",
      "Text: Pitt Meadows Canada\n",
      "Label: ORG\n",
      "\n",
      "Text: Chicago\n",
      "Label: GPE\n",
      "\n",
      "Text: Ill\n",
      "Label: ORG\n",
      "\n",
      "Text: Amazon\n",
      "Label: ORG\n",
      "\n",
      "Text: Amazon\n",
      "Label: ORG\n",
      "\n",
      "Text: Houston Texas Lines\n",
      "Label: ORG\n",
      "\n",
      "Text: Saudi Arabia\n",
      "Label: GPE\n",
      "\n",
      "Text: Ontario\n",
      "Label: GPE\n",
      "\n",
      "Text: Canada\n",
      "Label: GPE\n",
      "\n",
      "Text: Russia\n",
      "Label: GPE\n",
      "\n",
      "Text: Arctic\n",
      "Label: LOC\n",
      "\n",
      "Text: Iran\n",
      "Label: GPE\n",
      "\n",
      "Text: 101\n",
      "Label: CARDINAL\n",
      "\n",
      "Text: North America Amazon Glitch Stymies Whole Foods Fresh Grocery\n",
      "Label: ORG\n",
      "\n",
      "Text: Today\n",
      "Label: DATE\n",
      "\n",
      "Text: Denver\n",
      "Label: GPE\n",
      "\n"
     ]
    }
   ],
   "source": [
    "for i in range(0,20):\n",
    "    for ent in covid.Tweet_texts[i].ents:\n",
    "        print(f'Text: {ent.text}\\nLabel: {ent.label_}\\n')"
   ]
  },
  {
   "cell_type": "markdown",
   "id": "27940546",
   "metadata": {},
   "source": [
    "### 2.11 Visualize the GEOLOCATION, MONEY, and QUANTITY in the texts"
   ]
  },
  {
   "cell_type": "code",
   "execution_count": 17,
   "id": "759e5cf9",
   "metadata": {},
   "outputs": [
    {
     "data": {
      "text/html": [
       "<span class=\"tex2jax_ignore\"><div class=\"entities\" style=\"line-height: 2.5; direction: ltr\">London and and</div></span>"
      ],
      "text/plain": [
       "<IPython.core.display.HTML object>"
      ]
     },
     "metadata": {},
     "output_type": "display_data"
    },
    {
     "name": "stderr",
     "output_type": "stream",
     "text": [
      "C:\\Users\\Justin\\anaconda3\\lib\\site-packages\\spacy\\displacy\\__init__.py:200: UserWarning: [W006] No entities to visualize found in Doc object. If this is surprising to you, make sure the Doc was processed using a model that supports named entity recognition, and check the `doc.ents` property manually if necessary.\n",
      "  warnings.warn(Warnings.W006)\n"
     ]
    },
    {
     "data": {
      "text/html": [
       "<span class=\"tex2jax_ignore\"><div class=\"entities\" style=\"line-height: 2.5; direction: ltr\">advice Talk your neighbours family exchange phone numbers create contact list with phone numbers neighbours schools employer chemist set online shopping accounts poss adequate supplies regular meds but not over order</div></span>"
      ],
      "text/plain": [
       "<IPython.core.display.HTML object>"
      ]
     },
     "metadata": {},
     "output_type": "display_data"
    },
    {
     "data": {
      "text/html": [
       "<span class=\"tex2jax_ignore\"><div class=\"entities\" style=\"line-height: 2.5; direction: ltr\">Vagabonds Coronavirus Australia Woolworths give elderly disabled dedicated shopping hours amid COVID19 outbreak</div></span>"
      ],
      "text/plain": [
       "<IPython.core.display.HTML object>"
      ]
     },
     "metadata": {},
     "output_type": "display_data"
    },
    {
     "data": {
      "text/html": [
       "<span class=\"tex2jax_ignore\"><div class=\"entities\" style=\"line-height: 2.5; direction: ltr\">food stock not the only one which emptyPLEASE dont panic THERE WILL ENOUGH FOOD FOR EVERYONE you not take more than you need Stay calm stay safe</div></span>"
      ],
      "text/plain": [
       "<IPython.core.display.HTML object>"
      ]
     },
     "metadata": {},
     "output_type": "display_data"
    },
    {
     "data": {
      "text/html": [
       "<span class=\"tex2jax_ignore\"><div class=\"entities\" style=\"line-height: 2.5; direction: ltr\">ready supermarket during the outbreakNot because paranoid but because food stock litteraly empty The serious thing but please dont panic causes shortage</div></span>"
      ],
      "text/plain": [
       "<IPython.core.display.HTML object>"
      ]
     },
     "metadata": {},
     "output_type": "display_data"
    },
    {
     "data": {
      "text/html": [
       "<span class=\"tex2jax_ignore\"><div class=\"entities\" style=\"line-height: 2.5; direction: ltr\">3631970882363649 news the regions first confirmed COVID19 case came out Sullivan County last week people flocked area stores purchase cleaning supplies hand sanitizer food toilet paper and other goods reports</div></span>"
      ],
      "text/plain": [
       "<IPython.core.display.HTML object>"
      ]
     },
     "metadata": {},
     "output_type": "display_data"
    },
    {
     "data": {
      "text/html": [
       "<span class=\"tex2jax_ignore\"><div class=\"entities\" style=\"line-height: 2.5; direction: ltr\">3592654178753267 Cashier grocery store was sharing his insights prove his credibility commented Civics class know what talking about</div></span>"
      ],
      "text/plain": [
       "<IPython.core.display.HTML object>"
      ]
     },
     "metadata": {},
     "output_type": "display_data"
    },
    {
     "data": {
      "text/html": [
       "<span class=\"tex2jax_ignore\"><div class=\"entities\" style=\"line-height: 2.5; direction: ltr\">Austria Was the supermarket today Didnt buy toilet paper</div></span>"
      ],
      "text/plain": [
       "<IPython.core.display.HTML object>"
      ]
     },
     "metadata": {},
     "output_type": "display_data"
    },
    {
     "data": {
      "text/html": [
       "<span class=\"tex2jax_ignore\"><div class=\"entities\" style=\"line-height: 2.5; direction: ltr\">Atlanta USA Due COVID19 our retail store and classroom Atlanta will not open for walkin business classes for the next two weeks beginning Monday March 16 will continue process online and phone orders normal Thank you for your understanding</div></span>"
      ],
      "text/plain": [
       "<IPython.core.display.HTML object>"
      ]
     },
     "metadata": {},
     "output_type": "display_data"
    },
    {
     "data": {
      "text/html": [
       "<span class=\"tex2jax_ignore\"><div class=\"entities\" style=\"line-height: 2.5; direction: ltr\">BHAVNAGARGUJRAT For corona preventionwe should stop buy things with the cash and should use online payment methods because corona can spread through the notes Also should prefer online shopping from our home Its time fight against COVID 19</div></span>"
      ],
      "text/plain": [
       "<IPython.core.display.HTML object>"
      ]
     },
     "metadata": {},
     "output_type": "display_data"
    },
    {
     "data": {
      "text/html": [
       "<span class=\"tex2jax_ignore\"><div class=\"entities\" style=\"line-height: 2.5; direction: ltr\">Makati Manila All month there hasnt been crowding the supermarkets restaurants however reducing all the hours and closing the malls means everyone now using the same entrance and dependent single supermarket</div></span>"
      ],
      "text/plain": [
       "<IPython.core.display.HTML object>"
      ]
     },
     "metadata": {},
     "output_type": "display_data"
    },
    {
     "data": {
      "text/html": [
       "<span class=\"tex2jax_ignore\"><div class=\"entities\" style=\"line-height: 2.5; direction: ltr\">Pitt Meadows Canada Due the Covid19 situation have increased demand for all food products The wait time may longer for all online orders particularly beef share and freezer packs thank you for your patience during this time</div></span>"
      ],
      "text/plain": [
       "<IPython.core.display.HTML object>"
      ]
     },
     "metadata": {},
     "output_type": "display_data"
    },
    {
     "data": {
      "text/html": [
       "<span class=\"tex2jax_ignore\"><div class=\"entities\" style=\"line-height: 2.5; direction: ltr\">Horningsea caring community Lets ALL look after the less capable our village and ensure they stay healthy Bringing shopping their doors help with online shopping and self isolation you have symptoms been exposed somebody who has</div></span>"
      ],
      "text/plain": [
       "<IPython.core.display.HTML object>"
      ]
     },
     "metadata": {},
     "output_type": "display_data"
    },
    {
     "data": {
      "text/html": [
       "<span class=\"tex2jax_ignore\"><div class=\"entities\" style=\"line-height: 2.5; direction: ltr\">Chicago dont need stock food Ill just have Amazon deliver whatever need Amazon</div></span>"
      ],
      "text/plain": [
       "<IPython.core.display.HTML object>"
      ]
     },
     "metadata": {},
     "output_type": "display_data"
    },
    {
     "data": {
      "text/html": [
       "<span class=\"tex2jax_ignore\"><div class=\"entities\" style=\"line-height: 2.5; direction: ltr\">ADARA Releases COVID19 Resource Center for Travel Brands Insights Help Travel Brands Stay UpToDate Consumer Travel Behavior Trends</div></span>"
      ],
      "text/plain": [
       "<IPython.core.display.HTML object>"
      ]
     },
     "metadata": {},
     "output_type": "display_data"
    },
    {
     "data": {
      "text/html": [
       "<span class=\"tex2jax_ignore\"><div class=\"entities\" style=\"line-height: 2.5; direction: ltr\">Houston Texas Lines the grocery store have been unpredictable but eating out safe alternative Find out more about whether you should avoiding restaurants right now</div></span>"
      ],
      "text/plain": [
       "<IPython.core.display.HTML object>"
      ]
     },
     "metadata": {},
     "output_type": "display_data"
    },
    {
     "data": {
      "text/html": [
       "<span class=\"tex2jax_ignore\"><div class=\"entities\" style=\"line-height: 2.5; direction: ltr\">Saudi Arabia 13</div></span>"
      ],
      "text/plain": [
       "<IPython.core.display.HTML object>"
      ]
     },
     "metadata": {},
     "output_type": "display_data"
    },
    {
     "data": {
      "text/html": [
       "<span class=\"tex2jax_ignore\"><div class=\"entities\" style=\"line-height: 2.5; direction: ltr\">Ontario Canada 16MAR20 Russia consumer surveillance watchdog reported case high \n",
       "<mark class=\"entity\" style=\"background: #EBD2B4; padding: 0.45em 0.6em; margin: 0 0.25em; line-height: 1; border-radius: 0.35em;\">\n",
       "    Arctic\n",
       "    <span style=\"font-size: 0.8em; font-weight: bold; line-height: 1; border-radius: 0.35em; vertical-align: middle; margin-left: 0.5rem\">LOC</span>\n",
       "</mark>\n",
       " where man who traveled Iran has COVID19 and 101 are observed</div></span>"
      ],
      "text/plain": [
       "<IPython.core.display.HTML object>"
      ]
     },
     "metadata": {},
     "output_type": "display_data"
    },
    {
     "data": {
      "text/html": [
       "<span class=\"tex2jax_ignore\"><div class=\"entities\" style=\"line-height: 2.5; direction: ltr\">North America Amazon Glitch Stymies Whole Foods Fresh Grocery DeliveriesAs COVID19 has spread weve seen significant increase people shopping online for groceries spokeswoman said statement Today this resulted systems impact affecting our</div></span>"
      ],
      "text/plain": [
       "<IPython.core.display.HTML object>"
      ]
     },
     "metadata": {},
     "output_type": "display_data"
    },
    {
     "data": {
      "text/html": [
       "<span class=\"tex2jax_ignore\"><div class=\"entities\" style=\"line-height: 2.5; direction: ltr\">Denver For those who arent struggling please consider donating food bank nonprofit The demand for these services will increase COVID19 impacts jobs and peoples way life</div></span>"
      ],
      "text/plain": [
       "<IPython.core.display.HTML object>"
      ]
     },
     "metadata": {},
     "output_type": "display_data"
    }
   ],
   "source": [
    "colors = {\"LOC\": \"#EBD2B4\",\n",
    "          \"MONEY\": \"#9BFBE1\",\n",
    "          \"QUANTITY\": \"#F6A5EB\"}\n",
    "          \n",
    "options = {\"ents\": ['LOC','MONEY','QUANTITY'],\n",
    "           \"colors\": colors}\n",
    "\n",
    "for i in range(0,20):\n",
    "    displacy.render(covid.Tweet_texts[i], style=\"ent\", jupyter = True, options = options)"
   ]
  },
  {
   "cell_type": "markdown",
   "id": "1400d6a1",
   "metadata": {},
   "source": [
    "## 3. Extract all the tokens from the Tweet_texts"
   ]
  },
  {
   "cell_type": "code",
   "execution_count": 18,
   "id": "b616f112",
   "metadata": {},
   "outputs": [],
   "source": [
    "covid['tokens'] = covid['Tweet_texts']\n",
    "covid_test['tokens'] = covid_test['Tweet_texts']"
   ]
  },
  {
   "cell_type": "markdown",
   "id": "f384179a",
   "metadata": {},
   "source": [
    "## 4. Replace the Tweet_texts column with the string only containing the lemmas of all the tokens"
   ]
  },
  {
   "cell_type": "code",
   "execution_count": 19,
   "id": "73e08773",
   "metadata": {},
   "outputs": [],
   "source": [
    "stop_words = nlp.Defaults.stop_words\n",
    "def get_lemma(sentence):\n",
    "    text = [word.lemma_ for word in sentence if word not in stop_words]\n",
    "    return ' '.join(text).strip().lower()\n",
    "\n",
    "covid['Tweet_texts'] = covid.Tweet_texts.apply(get_lemma)\n",
    "covid_test['Tweet_texts'] = covid_test.Tweet_texts.apply(get_lemma)"
   ]
  },
  {
   "cell_type": "markdown",
   "id": "694aab7b",
   "metadata": {},
   "source": [
    "## 5. Graphically summarize the Sentiment"
   ]
  },
  {
   "cell_type": "code",
   "execution_count": 20,
   "id": "efbfad7b",
   "metadata": {},
   "outputs": [
    {
     "data": {
      "image/png": "[encoded data removed]",
      "text/plain": [
       "<Figure size 720x576 with 1 Axes>"
      ]
     },
     "metadata": {
      "needs_background": "light"
     },
     "output_type": "display_data"
    }
   ],
   "source": [
    "covid.Sentiment = pd.Categorical(covid['Sentiment'],\n",
    "                                 categories=['Extremely Positive', 'Positive', 'Neutral', 'Negative', 'Extremely Negative'],\n",
    "                                 ordered=True)\n",
    "covid.Sentiment.value_counts().sort_index().plot(kind='bar',figsize=(10,8))\n",
    "plt.title('Value Counts of Sentiment in Tweets')\n",
    "plt.show()"
   ]
  },
  {
   "cell_type": "markdown",
   "id": "a58aae76",
   "metadata": {},
   "source": [
    "## 6. Graphically summarize the length of the text of the Tweet_texts using..."
   ]
  },
  {
   "cell_type": "markdown",
   "id": "a4e7fa64",
   "metadata": {},
   "source": [
    "### 6.1 Boxplot"
   ]
  },
  {
   "cell_type": "code",
   "execution_count": 21,
   "id": "5bd5b0c9",
   "metadata": {},
   "outputs": [],
   "source": [
    "covid['tweet_length'] = covid['Tweet_texts'].str.len()"
   ]
  },
  {
   "cell_type": "code",
   "execution_count": 22,
   "id": "283526b6",
   "metadata": {},
   "outputs": [
    {
     "data": {
      "image/png": "[encoded data removed]",
      "text/plain": [
       "<Figure size 720x576 with 1 Axes>"
      ]
     },
     "metadata": {
      "needs_background": "light"
     },
     "output_type": "display_data"
    }
   ],
   "source": [
    "plt.figure(figsize=(10,8))\n",
    "sns.boxplot(x=covid['tweet_length'])\n",
    "plt.title('Boxplot of Text Lengths')\n",
    "plt.show()"
   ]
  },
  {
   "cell_type": "markdown",
   "id": "0d4d7fc8",
   "metadata": {},
   "source": [
    "### 6.2 Histogram"
   ]
  },
  {
   "cell_type": "code",
   "execution_count": 23,
   "id": "18332017",
   "metadata": {},
   "outputs": [
    {
     "data": {
      "image/png": "[encoded data removed]",
      "text/plain": [
       "<Figure size 720x576 with 1 Axes>"
      ]
     },
     "metadata": {
      "needs_background": "light"
     },
     "output_type": "display_data"
    }
   ],
   "source": [
    "plt.figure(figsize=(10,8))\n",
    "sns.histplot(x=covid['tweet_length'])\n",
    "plt.title('Histogram of Text Lengths')\n",
    "plt.show()"
   ]
  },
  {
   "cell_type": "markdown",
   "id": "967c7295",
   "metadata": {},
   "source": [
    "### 6.3 Density Plot"
   ]
  },
  {
   "cell_type": "code",
   "execution_count": 24,
   "id": "378940c9",
   "metadata": {},
   "outputs": [
    {
     "data": {
      "image/png": "[encoded data removed]",
      "text/plain": [
       "<Figure size 720x576 with 1 Axes>"
      ]
     },
     "metadata": {
      "needs_background": "light"
     },
     "output_type": "display_data"
    }
   ],
   "source": [
    "plt.figure(figsize=(10,8))\n",
    "sns.kdeplot(x=covid['tweet_length'])\n",
    "plt.title('Kernel Density of Text Lengths')\n",
    "plt.show()"
   ]
  },
  {
   "cell_type": "markdown",
   "id": "99b56627",
   "metadata": {},
   "source": [
    "## 7. Graphically summarize the word count of the text of the Tweet_texts using..."
   ]
  },
  {
   "cell_type": "markdown",
   "id": "615fe865",
   "metadata": {},
   "source": [
    "### 7.1 Boxplot"
   ]
  },
  {
   "cell_type": "code",
   "execution_count": 25,
   "id": "3f53f10f",
   "metadata": {},
   "outputs": [],
   "source": [
    "covid['word_count'] = covid['Tweet_texts'].str.split().str.len()"
   ]
  },
  {
   "cell_type": "code",
   "execution_count": 26,
   "id": "7d73e35b",
   "metadata": {},
   "outputs": [
    {
     "data": {
      "image/png": "[encoded data removed]",
      "text/plain": [
       "<Figure size 720x576 with 1 Axes>"
      ]
     },
     "metadata": {
      "needs_background": "light"
     },
     "output_type": "display_data"
    }
   ],
   "source": [
    "plt.figure(figsize=(10,8))\n",
    "sns.boxplot(x=covid['word_count'])\n",
    "plt.title('Boxplot of Word Count')\n",
    "plt.show()"
   ]
  },
  {
   "cell_type": "markdown",
   "id": "8ebeebb2",
   "metadata": {},
   "source": [
    "### 7.2 Histogram"
   ]
  },
  {
   "cell_type": "code",
   "execution_count": 27,
   "id": "9ec6e344",
   "metadata": {},
   "outputs": [
    {
     "data": {
      "image/png": "[encoded data removed]",
      "text/plain": [
       "<Figure size 720x576 with 1 Axes>"
      ]
     },
     "metadata": {
      "needs_background": "light"
     },
     "output_type": "display_data"
    }
   ],
   "source": [
    "plt.figure(figsize=(10,8))\n",
    "sns.histplot(x=covid['word_count'])\n",
    "plt.title('Histogram of Word Count')\n",
    "plt.show()"
   ]
  },
  {
   "cell_type": "markdown",
   "id": "76b18cba",
   "metadata": {},
   "source": [
    "### 7.3 Density Plot"
   ]
  },
  {
   "cell_type": "code",
   "execution_count": 28,
   "id": "1cdb869f",
   "metadata": {},
   "outputs": [
    {
     "data": {
      "image/png": "[encoded data removed]",
      "text/plain": [
       "<Figure size 720x576 with 1 Axes>"
      ]
     },
     "metadata": {
      "needs_background": "light"
     },
     "output_type": "display_data"
    }
   ],
   "source": [
    "plt.figure(figsize=(10,8))\n",
    "sns.kdeplot(x=covid['word_count'])\n",
    "plt.title('Kernel Density of Word Count')\n",
    "plt.show()"
   ]
  },
  {
   "cell_type": "markdown",
   "id": "04216269",
   "metadata": {},
   "source": [
    "## 8. Graphically summarize the top 10 unigram and bigrams of the tf-idf of the text of the Tweet_texts"
   ]
  },
  {
   "cell_type": "code",
   "execution_count": 29,
   "id": "8ff96b12",
   "metadata": {},
   "outputs": [
    {
     "name": "stderr",
     "output_type": "stream",
     "text": [
      "C:\\Users\\Justin\\anaconda3\\lib\\site-packages\\sklearn\\utils\\deprecation.py:87: FutureWarning: Function get_feature_names is deprecated; get_feature_names is deprecated in 1.0 and will be removed in 1.2. Please use get_feature_names_out instead.\n",
      "  warnings.warn(msg, category=FutureWarning)\n"
     ]
    }
   ],
   "source": [
    "def top_tfidf_words(df=covid, col='Tweet_texts', use_idf=True, ngram_range=(1,1), top_n=10):\n",
    "    \n",
    "    tfidf = TfidfVectorizer(stop_words='english', ngram_range=ngram_range, use_idf=use_idf)\n",
    "    \n",
    "    sparse_matrix = tfidf.fit_transform(df[col])\n",
    "    features = np.array(tfidf.get_feature_names())\n",
    "    \n",
    "    tfidf_sparse_matrix = tfidf.transform(df[col])\n",
    "    sorted_idx = np.argsort(-tfidf_sparse_matrix.data)[:top_n]\n",
    "    \n",
    "    return pd.DataFrame( {\n",
    "        'feature': features[tfidf_sparse_matrix.indices[sorted_idx]],\n",
    "        'tf_idf': tfidf_sparse_matrix.data[sorted_idx],\n",
    "    })\n",
    "\n",
    "top10 = top_tfidf_words(ngram_range=(1,2))"
   ]
  },
  {
   "cell_type": "code",
   "execution_count": 30,
   "id": "0f414e5d",
   "metadata": {},
   "outputs": [
    {
     "data": {
      "image/png": "[encoded data removed]",
      "text/plain": [
       "<Figure size 504x216 with 1 Axes>"
      ]
     },
     "metadata": {
      "needs_background": "light"
     },
     "output_type": "display_data"
    }
   ],
   "source": [
    "x = range(0,10)\n",
    "\n",
    "plt.figure(figsize=(7,3))\n",
    "plt.plot(x, top10.tf_idf,'bo')\n",
    "plt.xticks(x, labels=top10.feature,rotation=60)\n",
    "plt.title('Top Unigrams/Bigrams of the TF-IDF')\n",
    "plt.show()"
   ]
  },
  {
   "cell_type": "markdown",
   "id": "174f7bee",
   "metadata": {},
   "source": [
    "## 9. Visualize the top 10 term frequency of the tokens associated with positive tweets using scattertext"
   ]
  },
  {
   "cell_type": "code",
   "execution_count": 31,
   "id": "80f7bf69",
   "metadata": {},
   "outputs": [
    {
     "name": "stdout",
     "output_type": "stream",
     "text": [
      "460.4351615905762\n"
     ]
    }
   ],
   "source": [
    "t0 = time()\n",
    "corpus = st.CorpusFromPandas(covid,\n",
    "                             category_col='Sentiment',\n",
    "                             text_col='Tweet_texts',\n",
    "                             nlp=nlp).build()\n",
    "\n",
    "print(time() - t0)"
   ]
  },
  {
   "cell_type": "code",
   "execution_count": 32,
   "id": "1a695e93",
   "metadata": {},
   "outputs": [
    {
     "name": "stderr",
     "output_type": "stream",
     "text": [
      "C:\\Users\\Justin\\anaconda3\\lib\\site-packages\\scattertext\\termscoring\\ScaledFScore.py:27: DeprecationWarning: `np.float` is a deprecated alias for the builtin `float`. To silence this warning, use `float` by itself. Doing this will not modify any behavior and is safe. If you specifically wanted the numpy scalar type, use `np.float64` here.\n",
      "Deprecated in NumPy 1.20; for more details and guidance: https://numpy.org/devdocs/release/1.20.0-notes.html#deprecations\n",
      "  scores = np.zeros(len(cat_scores)).astype(np.float)\n"
     ]
    }
   ],
   "source": [
    "term_freq = corpus.get_term_freq_df()\n",
    "term_freq['Positive Score'] = corpus.get_scaled_f_scores('Positive')\n",
    "\n",
    "term_freq_freq = term_freq.sort_values(by='Positive freq', ascending=False).head(10)"
   ]
  },
  {
   "cell_type": "code",
   "execution_count": 33,
   "id": "81be3fb3",
   "metadata": {},
   "outputs": [
    {
     "data": {
      "image/png": "[encoded data removed]",
      "text/plain": [
       "<Figure size 504x216 with 1 Axes>"
      ]
     },
     "metadata": {
      "needs_background": "light"
     },
     "output_type": "display_data"
    }
   ],
   "source": [
    "x = range(0,10)\n",
    "\n",
    "plt.figure(figsize=(7,3))\n",
    "plt.plot(x, term_freq_freq['Positive freq'],'bo')\n",
    "plt.xticks(x, labels=term_freq_freq.index,rotation=60)\n",
    "plt.title('Top 10 Term Frequency of tokens from Positive Tweets')\n",
    "plt.show()"
   ]
  },
  {
   "cell_type": "markdown",
   "id": "973e8fe8",
   "metadata": {},
   "source": [
    "## 10. Visualize the top 10 positive scores of the tokens associated with positive tweets using scattertext"
   ]
  },
  {
   "cell_type": "code",
   "execution_count": 34,
   "id": "24011af5",
   "metadata": {},
   "outputs": [
    {
     "data": {
      "image/png": "[encoded data removed]",
      "text/plain": [
       "<Figure size 504x216 with 1 Axes>"
      ]
     },
     "metadata": {
      "needs_background": "light"
     },
     "output_type": "display_data"
    }
   ],
   "source": [
    "term_freq_score = term_freq.sort_values(by='Positive Score', ascending=False).head(10)\n",
    "\n",
    "x = range(0,10)\n",
    "\n",
    "plt.figure(figsize=(7,3))\n",
    "plt.plot(x, term_freq_score['Positive Score'],'bo')\n",
    "plt.xticks(x, labels=term_freq_score.index,rotation=60)\n",
    "plt.title('Top 10 Positive Scores of Tokens')\n",
    "plt.show()"
   ]
  },
  {
   "cell_type": "markdown",
   "id": "0cd7f850",
   "metadata": {},
   "source": [
    "## 11. Convert the column of the Tweet_texts to a matrix of token counts using CountVectorizer and unigrams and bigrams"
   ]
  },
  {
   "cell_type": "code",
   "execution_count": 35,
   "id": "4760f1dc",
   "metadata": {},
   "outputs": [
    {
     "name": "stdout",
     "output_type": "stream",
     "text": [
      "Size of the feature matrix: (41142, 422743)\n"
     ]
    }
   ],
   "source": [
    "vectorizer = CountVectorizer(ngram_range=(1,2))\n",
    "\n",
    "matrix = vectorizer.fit_transform(covid['Tweet_texts'])\n",
    "print(f'Size of the feature matrix: {matrix.get_shape()}')"
   ]
  },
  {
   "cell_type": "markdown",
   "id": "aa806260",
   "metadata": {},
   "source": [
    "## 12. Perform the tf-idf analysis on the column of the Tweet_texts using Tfidfvectorizer"
   ]
  },
  {
   "cell_type": "code",
   "execution_count": 36,
   "id": "9bfe3bfc",
   "metadata": {},
   "outputs": [
    {
     "name": "stdout",
     "output_type": "stream",
     "text": [
      "Sparse tf_idf matrix with CountVectorizer/TFIDFTransformer:\n",
      "  (0, 215635)\t0.6336844523850849\n",
      "  (0, 215606)\t0.3191309994338385\n",
      "  (0, 28588)\t0.6450742554399274\n",
      "  (0, 28328)\t0.2836875481483069\n",
      "  (1, 421234)\t0.1303012405715499\n",
      "  (1, 420505)\t0.048566057646931025\n",
      "  (1, 411896)\t0.14725296089548318\n",
      "  (1, 410677)\t0.042010149547399275\n",
      "  (1, 356052)\t0.14142145707536902\n",
      "  (1, 355930)\t0.0824956416527962\n",
      "  (1, 352026)\t0.1572219825215275\n",
      "  (1, 351670)\t0.05938818559301778\n",
      "  (1, 325856)\t0.13728393926943885\n",
      "  (1, 325842)\t0.05389624495334442\n",
      "  (1, 321945)\t0.13558995325525483\n",
      "  (1, 321820)\t0.08327325038182266\n",
      "  (1, 316053)\t0.1572219825215275\n",
      "  (1, 316014)\t0.08755163374149094\n",
      "  (1, 299737)\t0.1572219825215275\n",
      "  (1, 299694)\t0.09763434969923625\n",
      "  (1, 280402)\t0.1572219825215275\n",
      "  (1, 280401)\t0.15139047870141334\n",
      "  (1, 274621)\t0.28808730551103967\n",
      "  (1, 274562)\t0.18615006912932341\n",
      "  (1, 263355)\t0.1572219825215275\n",
      "  :\t:\n",
      "  (41141, 95433)\t0.1481614815080444\n",
      "  (41141, 95362)\t0.0890485332670208\n",
      "  (41141, 94466)\t0.11135461551510054\n",
      "  (41141, 92947)\t0.03857551829957055\n",
      "  (41141, 49238)\t0.11135461551510054\n",
      "  (41141, 48413)\t0.08498168090864187\n",
      "  (41141, 47554)\t0.12145856942399332\n",
      "  (41141, 47470)\t0.127522054299685\n",
      "  (41141, 47271)\t0.11709598546694927\n",
      "  (41141, 44170)\t0.14411221253716291\n",
      "  (41141, 43920)\t0.07491248610610905\n",
      "  (41141, 33665)\t0.1481614815080444\n",
      "  (41141, 33648)\t0.0810515283033294\n",
      "  (41141, 30514)\t0.09511201814271247\n",
      "  (41141, 28328)\t0.026016587586444744\n",
      "  (41141, 24722)\t0.15386860558096582\n",
      "  (41141, 24714)\t0.08579552027066555\n",
      "  (41141, 24227)\t0.127522054299685\n",
      "  (41141, 24194)\t0.10747805423079278\n",
      "  (41141, 21188)\t0.15386860558096582\n",
      "  (41141, 21185)\t0.12459942644955711\n",
      "  (41141, 10594)\t0.15386860558096582\n",
      "  (41141, 10593)\t0.1384050884642415\n",
      "  (41141, 8292)\t0.15386860558096582\n",
      "  (41141, 8288)\t0.13623534059172007\n"
     ]
    }
   ],
   "source": [
    "tf_idf_transformer = TfidfTransformer(use_idf = True, smooth_idf = True, sublinear_tf = False)\n",
    "\n",
    "tf_idf_matrix = tf_idf_transformer.fit_transform(matrix)\n",
    "print(f'Sparse tf_idf matrix with CountVectorizer/TFIDFTransformer:\\n{tf_idf_matrix}')"
   ]
  },
  {
   "cell_type": "markdown",
   "id": "c0d2ddca",
   "metadata": {},
   "source": [
    "## 13. Find the cosine similarity in Tweet_texts between the 200th and 20,000th tweets"
   ]
  },
  {
   "cell_type": "code",
   "execution_count": 37,
   "id": "c65a7c17",
   "metadata": {},
   "outputs": [
    {
     "name": "stdout",
     "output_type": "stream",
     "text": [
      "Tweets to be analyzed\n",
      "Tweet 200:\tcambridge our retail store will close through the end march be do this keep our staff and customer safe during the covid19 crisis will continue fulfill and ship out order place online pickups will not available until return regular hour\n",
      "\n",
      "Tweet 20,000:\ttwo supermarket van be destroy sickening arson attack bristol and police riot van be call out soon after boris johnson announce the new restriction\n",
      "\n",
      "The cosine similarity between the two tweets using the Spacy function is 0.8150188512496247\n"
     ]
    }
   ],
   "source": [
    "doc1 = nlp(covid['Tweet_texts'][199])\n",
    "doc2 = nlp(covid['Tweet_texts'][19999])\n",
    "\n",
    "spacy_sim = doc1.similarity(doc2)\n",
    "\n",
    "print('Tweets to be analyzed')\n",
    "print(f'Tweet 200:\\t{covid[\"Tweet_texts\"][199]}\\n\\nTweet 20,000:\\t{covid[\"Tweet_texts\"][19999]}\\n')\n",
    "print(f'The cosine similarity between the two tweets using the Spacy function is {spacy_sim}')  "
   ]
  },
  {
   "cell_type": "markdown",
   "id": "1db9ac26",
   "metadata": {},
   "source": [
    "## 14. Find the corpus vector equal to the average of all the document vectors, where each document corresponds to a tweet or a row in this dataset"
   ]
  },
  {
   "cell_type": "code",
   "execution_count": 38,
   "id": "3bdd1096",
   "metadata": {},
   "outputs": [
    {
     "name": "stdout",
     "output_type": "stream",
     "text": [
      "The corpus vector/average of all document vectors is:\n",
      "[-8.45651776e-02  1.10172071e-01 -6.77762106e-02 -6.66793883e-02\n",
      "  9.54915881e-02 -3.32688913e-02 -2.28585433e-02 -4.33275662e-02\n",
      "  3.19618769e-02  1.95111465e+00 -2.39001274e-01 -3.02418824e-02\n",
      "  4.03981470e-02 -6.80448115e-02 -8.47371891e-02 -7.64227509e-02\n",
      " -7.90635571e-02  1.00455749e+00 -1.01109952e-01  1.97224766e-02\n",
      " -1.47814746e-04  3.40176038e-02  2.11600177e-02 -6.34621754e-02\n",
      " -1.71765499e-02  1.58358477e-02 -9.92465317e-02 -5.47822304e-02\n",
      "  1.75456870e-02 -2.96946820e-02 -5.68662807e-02  1.65452473e-02\n",
      "  1.28542888e-03  1.60646830e-02  6.26878440e-02  2.53784992e-02\n",
      " -1.19459303e-02  1.26308315e-02 -1.38385743e-02  4.74752439e-03\n",
      " -4.39141095e-02  2.42815446e-02  2.99776383e-02 -4.25442085e-02\n",
      "  1.45784416e-03  5.90724647e-02 -8.74843225e-02 -1.43517340e-02\n",
      "  1.22463088e-02  1.03035718e-02 -6.04011677e-02 -1.62730310e-02\n",
      "  1.64122190e-02 -1.39788296e-02  6.37744218e-02 -3.06658298e-02\n",
      " -2.50195116e-02 -6.65646791e-02 -5.22707589e-03 -6.80296794e-02\n",
      " -8.98266025e-03 -1.10714346e-01 -5.09831943e-02  1.03661761e-01\n",
      "  1.15180373e-01 -5.29017225e-02 -7.50280265e-03  8.92479047e-02\n",
      "  6.02267347e-02  9.52420980e-02  5.86669892e-02  3.62978205e-02\n",
      "  1.57632723e-01 -8.91550444e-03  1.41128540e-01  2.38737259e-02\n",
      "  1.01054147e-01 -1.84372030e-02  2.27613430e-02  1.49921194e-01\n",
      "  5.61503395e-02  1.15366518e-01 -8.71079564e-02 -4.91407998e-02\n",
      " -4.84450662e-04 -1.18121967e-01  4.42460030e-02  5.27718365e-02\n",
      "  1.62311226e-01  2.36638915e-02 -7.99909309e-02 -1.18194483e-02\n",
      " -2.89994963e-02 -4.90145907e-02  3.15191336e-02 -5.35414321e-03\n",
      "  4.29431815e-03 -1.55040007e-02  3.06810383e-02 -4.09181826e-02\n",
      " -3.42696235e-02  1.69145220e-04 -5.03059402e-02  6.59975363e-03\n",
      "  6.08761758e-02 -9.17353213e-01  9.69387516e-02  1.39234867e-02\n",
      " -1.88824032e-02 -1.20752053e-02  6.26390949e-02 -1.73937559e-01\n",
      "  7.12355971e-02 -4.09676954e-02  2.09200773e-02 -8.82313680e-03\n",
      "  4.39663790e-02  2.01543383e-02 -1.11298300e-02  2.74704536e-03\n",
      "  2.64171325e-02  3.70949581e-02 -1.01740882e-02 -6.91717789e-02\n",
      "  7.47773738e-04 -1.87117402e-02  3.17186154e-02 -6.41987175e-02\n",
      "  9.23918560e-03 -1.92579739e-02  3.03043742e-02 -8.55090693e-02\n",
      " -3.66124026e-02 -2.00850349e-02  7.84206092e-02  6.38034428e-03\n",
      " -4.03545722e-02 -1.84129085e-02 -4.67730965e-03 -1.99845321e-02\n",
      " -1.01536822e+00 -2.30931677e-03  1.35284841e-01 -6.82197735e-02\n",
      "  1.16273221e-02 -5.99752553e-02 -3.99369001e-02  1.01588883e-01\n",
      "  2.54031853e-03 -2.22703051e-02 -1.49550671e-02  1.82105508e-02\n",
      "  5.08203395e-02 -4.58371900e-02 -2.29801424e-02 -2.83266474e-02\n",
      " -5.46029361e-04  2.39846464e-02 -4.95955311e-02 -3.98787372e-02\n",
      "  1.22195750e-03  7.51153454e-02 -4.53071631e-02 -4.11122777e-02\n",
      " -1.59260556e-02 -7.43421167e-02  8.69275182e-02 -4.54856269e-02\n",
      "  1.13404535e-01 -2.67116111e-02 -1.21154850e-02  9.46935674e-04\n",
      "  9.66464635e-03 -9.84696764e-03 -8.44470412e-02  1.52932424e-02\n",
      " -3.95166278e-02  8.17210004e-02  8.37369710e-02  5.55758774e-02\n",
      "  5.64670600e-02 -2.97258422e-02 -9.01864618e-02 -2.67909449e-02\n",
      "  6.23990037e-03 -1.67255308e-02 -1.08767161e-02 -5.97752295e-02\n",
      "  1.78817157e-02  7.12315692e-03 -9.47951339e-03 -3.92328575e-02\n",
      " -3.00900415e-02 -5.01859700e-04  1.78916624e-03  7.30310380e-02\n",
      "  1.87669061e-02  8.23177584e-03  3.74713093e-02  1.18330203e-01\n",
      "  4.40090895e-02 -9.25613195e-02 -1.03195319e-02 -3.08482889e-02\n",
      "  1.21323116e-01  6.02447167e-02  5.81435077e-02  5.13643511e-02\n",
      "  6.98206499e-02  7.65899895e-03 -2.56510451e-02 -6.49384484e-02\n",
      " -3.06470059e-02 -6.68011606e-02  2.53815074e-02  1.17334295e-02\n",
      " -5.24649322e-02 -5.69516607e-03 -1.83894172e-01  2.63424814e-02\n",
      " -3.06760445e-02  4.52968013e-03 -6.31619394e-02 -3.33184674e-02\n",
      " -3.89723592e-02 -2.85495594e-02 -4.12980989e-02  9.82626528e-02\n",
      " -5.34860045e-02 -1.26484036e-02 -3.81560400e-02  5.25531312e-03\n",
      "  9.93605554e-02  1.22032827e-02 -8.52169748e-03 -7.34086931e-02\n",
      "  2.73254942e-02 -1.02781683e-01 -3.25718299e-02  6.49854317e-02\n",
      "  4.22342541e-03  7.98407290e-03  1.76525619e-02  3.81538160e-02\n",
      "  5.11250757e-02 -8.04806054e-02 -1.80858560e-02 -3.31770368e-02\n",
      " -1.22888163e-01  1.86181720e-03  2.06461381e-02 -3.18773575e-02\n",
      " -8.64090119e-03 -5.11903279e-02  4.92061824e-02  2.03812212e-01\n",
      "  7.82680977e-03 -1.26848435e-02 -6.72759190e-02  3.01590376e-02\n",
      "  7.58980438e-02  9.89781544e-02 -3.37733664e-02  4.92200181e-02\n",
      "  5.28471991e-02 -7.11730942e-02 -2.78606010e-03  6.14866056e-02\n",
      "  1.98911086e-01  7.57991150e-03 -2.07013488e-02  7.02936156e-03\n",
      " -4.77280729e-02 -5.23768999e-02 -5.08962851e-03  2.83556851e-03\n",
      " -2.54847258e-02  1.07650019e-01  4.02578898e-02  1.08420134e-01\n",
      "  1.47665273e-02  2.41591819e-02 -3.02973986e-02  8.86806846e-02\n",
      " -1.84013676e-02  1.80556788e-03  1.54292703e-01 -9.12058651e-02\n",
      "  3.80178541e-02 -1.08072842e-02 -2.24384099e-01  5.22808693e-02\n",
      "  3.45207937e-02 -1.36910807e-02  2.10753661e-02 -3.93872671e-02\n",
      " -2.41084006e-02 -9.54885632e-02  3.19854990e-02  1.24238536e-01]\n"
     ]
    }
   ],
   "source": [
    "average = np.array([token.vector for token in covid['tokens']]).mean(axis=0)\n",
    "print(f'The corpus vector/average of all document vectors is:\\n{average}')"
   ]
  },
  {
   "cell_type": "markdown",
   "id": "4336d45f",
   "metadata": {},
   "source": [
    "## 15. Build the first model based on the training dataset using the random forests and pipeline"
   ]
  },
  {
   "cell_type": "code",
   "execution_count": 39,
   "id": "2a9c8f49-1ebf-4abd-8a15-d0812f2585e9",
   "metadata": {},
   "outputs": [],
   "source": [
    "X_train = covid['Tweet_texts']\n",
    "y_train = covid['Sentiment']\n",
    "X_test = covid_test['Tweet_texts']\n",
    "y_test = covid_test['Sentiment']\n",
    "\n",
    "classifier = RandomForestClassifier()\n",
    "\n",
    "pipeline = Pipeline([(\"vectorizer\", TfidfVectorizer()),\n",
    "                     (\"classifier\", classifier)])"
   ]
  },
  {
   "cell_type": "code",
   "execution_count": 40,
   "id": "5512231a",
   "metadata": {},
   "outputs": [
    {
     "name": "stdout",
     "output_type": "stream",
     "text": [
      "158.16810393333435\n"
     ]
    }
   ],
   "source": [
    "t0 = time()\n",
    "\n",
    "pipeline.fit(X_train, y_train)\n",
    "\n",
    "print(time() - t0)"
   ]
  },
  {
   "cell_type": "markdown",
   "id": "0ae8cfbf-fce0-4072-9e9a-a87ad88a30aa",
   "metadata": {},
   "source": [
    "## 16. Check the first model on the test dataset. Is it a good model based on the selected evaluation metrics? Please justify your answer.\n",
    "The accuracy of this model is 46%. Given that there are 5 options I don't think this is a bad score to start out with."
   ]
  },
  {
   "cell_type": "code",
   "execution_count": 41,
   "id": "d5bb9989-ecb5-474b-bc96-1390a05c7a2a",
   "metadata": {},
   "outputs": [
    {
     "name": "stdout",
     "output_type": "stream",
     "text": [
      "                    precision    recall  f1-score   support\n",
      "\n",
      "Extremely Positive       0.65      0.24      0.36       592\n",
      "          Positive       0.69      0.31      0.43       599\n",
      "           Neutral       0.42      0.44      0.43      1041\n",
      "          Negative       0.51      0.60      0.55       619\n",
      "Extremely Negative       0.37      0.58      0.46       947\n",
      "\n",
      "          accuracy                           0.45      3798\n",
      "         macro avg       0.53      0.44      0.44      3798\n",
      "      weighted avg       0.50      0.45      0.44      3798\n",
      "\n"
     ]
    }
   ],
   "source": [
    "target_names = ['Extremely Positive', 'Positive', 'Neutral', 'Negative', 'Extremely Negative']\n",
    "y_pred = pipeline.predict(X_test)\n",
    "\n",
    "print(classification_report(y_test, y_pred, target_names = target_names))"
   ]
  },
  {
   "cell_type": "markdown",
   "id": "00460b30-e1c3-4a80-a6db-55f0d22d3727",
   "metadata": {},
   "source": [
    "## 17. Create the second model using pipeline, grid search CV for the hyperparameters"
   ]
  },
  {
   "cell_type": "code",
   "execution_count": 42,
   "id": "80751c08-d933-492b-8f92-20766c238d42",
   "metadata": {},
   "outputs": [
    {
     "name": "stdout",
     "output_type": "stream",
     "text": [
      "Fitting 5 folds for each of 32 candidates, totalling 160 fits\n",
      "4409.334873914719\n"
     ]
    }
   ],
   "source": [
    "t0 = time()\n",
    "parameters = {\n",
    "    'vectorizer__max_df': (0.5,1.0),\n",
    "    'vectorizer__ngram_range':((1,1),(1,2)),\n",
    "    'classifier__criterion':('gini','entropy'),\n",
    "    'classifier__n_estimators':(10,100),\n",
    "    'classifier__max_depth':(15,None)\n",
    "}\n",
    "\n",
    "grid_search = GridSearchCV(pipeline, parameters, n_jobs =-1, verbose=1)\n",
    "grid_search.fit(X_train, y_train)\n",
    "\n",
    "\n",
    "print(time() - t0)"
   ]
  },
  {
   "cell_type": "code",
   "execution_count": 43,
   "id": "45acd5e0-5f36-4210-8881-daeb04d02e24",
   "metadata": {},
   "outputs": [
    {
     "name": "stdout",
     "output_type": "stream",
     "text": [
      "Best Score: 0.477\n",
      "\tclassifier__criterion: 'gini'\n",
      "\tclassifier__max_depth: None\n",
      "\tclassifier__n_estimators: 100\n",
      "\tvectorizer__max_df: 0.5\n",
      "\tvectorizer__ngram_range: (1, 1)\n"
     ]
    }
   ],
   "source": [
    "best_parameters = grid_search.best_estimator_.get_params()\n",
    "print(f'Best Score: {grid_search.best_score_:0.3f}')\n",
    "for param_name in sorted(parameters.keys()):\n",
    "    print(\"\\t%s: %r\" % (param_name, best_parameters[param_name]))"
   ]
  },
  {
   "cell_type": "markdown",
   "id": "8b572c97-dcae-42ae-8d3c-5ed33ca7a629",
   "metadata": {},
   "source": [
    "## 18. Tune the second model and perform model diagnostics on the test dataset. Is it a good model? Please justify your answer.\n",
    "Tuning this model didn't seem to make much of a change overall. Mostly because the default choices ended up being the best for this model. It's the same quality as the first model."
   ]
  },
  {
   "cell_type": "code",
   "execution_count": 44,
   "id": "5a37588f-86b2-439f-adc0-0862aff9a702",
   "metadata": {},
   "outputs": [
    {
     "name": "stdout",
     "output_type": "stream",
     "text": [
      "                    precision    recall  f1-score   support\n",
      "\n",
      "Extremely Positive       0.60      0.24      0.35       592\n",
      "          Positive       0.64      0.27      0.38       599\n",
      "           Neutral       0.42      0.42      0.42      1041\n",
      "          Negative       0.53      0.63      0.57       619\n",
      "Extremely Negative       0.37      0.60      0.46       947\n",
      "\n",
      "          accuracy                           0.45      3798\n",
      "         macro avg       0.51      0.43      0.44      3798\n",
      "      weighted avg       0.49      0.45      0.44      3798\n",
      "\n"
     ]
    }
   ],
   "source": [
    "target_names = ['Extremely Positive', 'Positive', 'Neutral', 'Negative', 'Extremely Negative']\n",
    "\n",
    "y_pred = grid_search.predict(X_test)\n",
    "\n",
    "print(classification_report(y_test, y_pred, target_names = target_names))"
   ]
  },
  {
   "cell_type": "markdown",
   "id": "25f5f4b8-e999-40b1-89d2-cb8451452492",
   "metadata": {},
   "source": [
    "## 19. Build the third model using pipeline, GridSearchCV, hyperparameter for the following classifiers: Logistic Regression, Support Vector Machine, Random Forest"
   ]
  },
  {
   "cell_type": "code",
   "execution_count": 45,
   "id": "a475f04c-badc-4a26-a881-736c6a2e7644",
   "metadata": {},
   "outputs": [
    {
     "name": "stdout",
     "output_type": "stream",
     "text": [
      "Fitting 5 folds for each of 41 candidates, totalling 205 fits\n",
      "40371.44542527199\n",
      "Best Score: 0.602\n"
     ]
    }
   ],
   "source": [
    "parameters2 = [\n",
    "    {\n",
    "        'vectorizer__max_df': [0.5],\n",
    "        'vectorizer__ngram_range':[(1,1)],\n",
    "        'classifier':[LogisticRegression()],\n",
    "        'classifier__solver': ('lbfgs','newton-cg'),\n",
    "        'classifier__max_iter':(100,500),\n",
    "        'classifier__C':(1,4),\n",
    "        'classifier__penalty':('l2','none')\n",
    "    },\n",
    "    {\n",
    "        'vectorizer__max_df': [0.5],\n",
    "        'vectorizer__ngram_range':[(1,1)],\n",
    "        'classifier':[SVC()],\n",
    "        'classifier__gamma':(1,0.1),\n",
    "        'classifier__kernel':['linear'],\n",
    "        'classifier__C':(1,4)\n",
    "    },\n",
    "    {\n",
    "        'vectorizer__max_df': [0.5],\n",
    "        'vectorizer__ngram_range':[(1,1)],\n",
    "        'classifier':[RandomForestClassifier()],\n",
    "    }\n",
    "]\n",
    "grid_search2 = GridSearchCV(pipeline, parameters2, n_jobs=2, verbose=1)\n",
    "\n",
    "t0 = time()\n",
    "grid_search2.fit(X_train, y_train)\n",
    "print(time() - t0)\n",
    "\n",
    "print(f'Best Score: {grid_search2.best_score_:0.3f}')"
   ]
  },
  {
   "cell_type": "markdown",
   "id": "89cd4f0d-fd64-4edf-9342-ee3743a4ce23",
   "metadata": {},
   "source": [
    "## 20. Tune the third model and perform model diagnostics on the test dataset. Is it a good model? Please justify your answer."
   ]
  },
  {
   "cell_type": "code",
   "execution_count": 46,
   "id": "67778e73-640e-4f13-a073-50f48c7870b2",
   "metadata": {},
   "outputs": [
    {
     "name": "stdout",
     "output_type": "stream",
     "text": [
      "                    precision    recall  f1-score   support\n",
      "\n",
      "Extremely Positive       0.68      0.52      0.59       592\n",
      "          Positive       0.70      0.54      0.61       599\n",
      "           Neutral       0.55      0.56      0.56      1041\n",
      "          Negative       0.67      0.70      0.68       619\n",
      "Extremely Negative       0.52      0.64      0.57       947\n",
      "\n",
      "          accuracy                           0.59      3798\n",
      "         macro avg       0.62      0.59      0.60      3798\n",
      "      weighted avg       0.60      0.59      0.59      3798\n",
      "\n"
     ]
    }
   ],
   "source": [
    "target_names = ['Extremely Positive', 'Positive', 'Neutral', 'Negative', 'Extremely Negative']\n",
    "\n",
    "y_pred = grid_search2.predict(X_test)\n",
    "#y_pred = pipeline.predict(X_train)\n",
    "\n",
    "print(classification_report(y_test, y_pred, target_names = target_names))"
   ]
  },
  {
   "cell_type": "markdown",
   "id": "ebadeadc-197d-49c9-9e81-11d16bee335a",
   "metadata": {},
   "source": [
    "## 21. Generate the first topic model by setting five topics using LDA method and CountVectorizer"
   ]
  },
  {
   "cell_type": "code",
   "execution_count": 47,
   "id": "97f83060-934f-4e94-bf2f-9d42fb1913a1",
   "metadata": {},
   "outputs": [
    {
     "data": {
      "text/plain": [
       "LatentDirichletAllocation(n_components=5, random_state=69)"
      ]
     },
     "execution_count": 47,
     "metadata": {},
     "output_type": "execute_result"
    }
   ],
   "source": [
    "tf_vectorizer = CountVectorizer(max_df = 0.9, min_df = 5, stop_words='english')\n",
    "document_word_matrix_tf = tf_vectorizer.fit_transform(covid['Tweet_texts'])\n",
    "\n",
    "lda = LatentDirichletAllocation(n_components = 5, random_state = 69)\n",
    "lda.fit(document_word_matrix_tf)"
   ]
  },
  {
   "cell_type": "markdown",
   "id": "e8e8a588-9dff-4ecb-b50e-09613b16d95f",
   "metadata": {},
   "source": [
    "## 22. Plot the top 15 words for each topic for the model above"
   ]
  },
  {
   "cell_type": "code",
   "execution_count": 48,
   "id": "2f492227-3063-4955-9f80-516a2bb9d1a7",
   "metadata": {},
   "outputs": [
    {
     "name": "stdout",
     "output_type": "stream",
     "text": [
      "Top 15 words for topic 0\n",
      "['good', 'increase', 'essential', 'high', 'make', 'time', 'covid19', 'sell', 'mask', 'people', 'covid', 'amp', 'india', '19', 'price']\n",
      "Top 15 words for topic 1\n",
      "['impact', 'make', 'york', 'help', 'coronavirus', '19', 'pandemic', 'use', 'change', 'amp', 'new', 'covid19', 'sanitizer', 'hand', 'consumer']\n",
      "Top 15 words for topic 2\n",
      "['stock', 'shelf', 'paper', 'amp', 'toilet', 'work', 'england', 'just', 'worker', 'need', 'buy', 'panic', 'food', 'people', 'supermarket']\n",
      "Top 15 words for topic 3\n"
     ]
    },
    {
     "name": "stderr",
     "output_type": "stream",
     "text": [
      "C:\\Users\\Justin\\anaconda3\\lib\\site-packages\\sklearn\\utils\\deprecation.py:87: FutureWarning: Function get_feature_names is deprecated; get_feature_names is deprecated in 1.0 and will be removed in 1.2. Please use get_feature_names_out instead.\n",
      "  warnings.warn(msg, category=FutureWarning)\n"
     ]
    },
    {
     "name": "stdout",
     "output_type": "stream",
     "text": [
      "['covid', 'new', 'consumer', 'amid', 'amp', 'increase', '19', 'market', 'supply', 'pandemic', 'oil', 'demand', 'covid19', 'food', 'price']\n",
      "Top 15 words for topic 4\n",
      "['order', 'employee', 'worker', 'new', 'people', 'work', '19', 'stay', 'home', 'usa', 'covid19', 'shopping', 'online', 'grocery', 'store']\n"
     ]
    }
   ],
   "source": [
    "top_words = 15\n",
    "\n",
    "for index, topic in enumerate(lda.components_):\n",
    "    print(f'Top {top_words} words for topic {index}')\n",
    "    print([tf_vectorizer.get_feature_names()[j] for j in topic.argsort()[-top_words:]])"
   ]
  },
  {
   "cell_type": "markdown",
   "id": "3016a75f-7a70-4f70-8310-e64235badf5b",
   "metadata": {},
   "source": [
    "## 23. Generate the second topic model by setting five topics using LDA method and TfidfVectorizer"
   ]
  },
  {
   "cell_type": "code",
   "execution_count": 49,
   "id": "8bbd4e14-9d07-4c81-8c30-735d7eb0f78f",
   "metadata": {},
   "outputs": [
    {
     "data": {
      "text/plain": [
       "LatentDirichletAllocation(n_components=5, random_state=69)"
      ]
     },
     "execution_count": 49,
     "metadata": {},
     "output_type": "execute_result"
    }
   ],
   "source": [
    "tf_vectorizer = TfidfVectorizer(max_df = 0.9, min_df = 5, stop_words='english')\n",
    "document_word_matrix_tf = tf_vectorizer.fit_transform(covid['Tweet_texts'])\n",
    "\n",
    "lda = LatentDirichletAllocation(n_components = 5, random_state = 69)\n",
    "lda.fit(document_word_matrix_tf)"
   ]
  },
  {
   "cell_type": "markdown",
   "id": "98d08cb7-3ad4-4776-90d9-51a31b5d4a2c",
   "metadata": {},
   "source": [
    "## 24. Plot the top 15 words for each topic for the second model above"
   ]
  },
  {
   "cell_type": "code",
   "execution_count": 50,
   "id": "d6e88cad-8c44-4ecf-a346-89e533c45d07",
   "metadata": {},
   "outputs": [
    {
     "name": "stdout",
     "output_type": "stream",
     "text": [
      "Top 15 words for topic 0\n",
      "['help', 'government', 'increase', 'people', 'essential', 'consumer', 'supermarket', 'covid', 'store', 'food', 'amp', 'covid19', '19', 'india', 'price']\n",
      "Top 15 words for topic 1\n",
      "['alcohol', 'amp', '19', 'wash', 'soap', 'mask', 'covid19', 'new', 'make', 'use', 'san', 'consumer', 'price', 'sanitizer', 'hand']\n",
      "Top 15 words for topic 2\n",
      "['shelf', 'just', 'work', 'england', 'paper', 'need', 'toilet', 'buy', 'panic', 'worker', 'food', 'grocery', 'people', 'store', 'supermarket']\n",
      "Top 15 words for topic 3\n",
      "['supply', 'amp', 'global', 'crisis', 'market', '19', 'new', 'pandemic', 'impact', 'food', 'oil', 'demand', 'covid19', 'consumer', 'price']\n",
      "Top 15 words for topic 4\n",
      "['covid', 'new', 'food', 'amp', 'home', 'usa', 'stay', 'supermarket', '19', 'people', 'covid19', 'shopping', 'online', 'grocery', 'store']\n"
     ]
    }
   ],
   "source": [
    "top_words = 15\n",
    "\n",
    "for index, topic in enumerate(lda.components_):\n",
    "    print(f'Top {top_words} words for topic {index}')\n",
    "    print([tf_vectorizer.get_feature_names()[j] for j in topic.argsort()[-top_words:]])"
   ]
  },
  {
   "cell_type": "markdown",
   "id": "872149f8-6d56-476d-8eef-569cdc95bce6",
   "metadata": {},
   "source": [
    "## 25. Visualize the second topic model using the dimension reduction method"
   ]
  },
  {
   "cell_type": "code",
   "execution_count": 51,
   "id": "89f5bfad-7c48-4541-aff2-675598821d86",
   "metadata": {},
   "outputs": [
    {
     "name": "stderr",
     "output_type": "stream",
     "text": [
      "C:\\Users\\Justin\\anaconda3\\lib\\site-packages\\pyLDAvis\\_prepare.py:246: FutureWarning: In a future version of pandas all arguments of DataFrame.drop except for the argument 'labels' will be keyword-only\n",
      "  default_term_info = default_term_info.sort_values(\n"
     ]
    },
    {
     "data": {
      "text/html": [
       "\n",
       "<link rel=\"stylesheet\" type=\"text/css\" href=\"https://cdn.jsdelivr.net/gh/bmabey/pyLDAvis@3.3.1/pyLDAvis/js/ldavis.v1.0.0.css\">\n",
       "\n",
       "\n",
       "<div id=\"ldavis_el1234821178138556169608096006\"></div>\n",
       "<script type=\"text/javascript\">\n",
       "\n",
       "var ldavis_el1234821178138556169608096006_data = {\"mdsDat\": {\"x\": [0.16225718436462436, -0.11016914566955194, 0.06894550382012544, -0.015841599887435383, -0.10519194262776224], \"y\": [0.0005267004624742358, -0.13001251544528664, 0.000762706850900789, -0.010305277645105594, 0.13902838577701726], \"topics\": [1, 2, 3, 4, 5], \"cluster\": [1, 1, 1, 1, 1], \"Freq\": [28.637819442644645, 24.27280619682051, 22.058216186860243, 12.980816262007266, 12.05034191166732]}, \"tinfo\": {\"Term\": [\"hand\", \"sanitizer\", \"price\", \"consumer\", \"oil\", \"supermarket\", \"grocery\", \"toilet\", \"store\", \"india\", \"paper\", \"impact\", \"demand\", \"san\", \"soap\", \"mask\", \"use\", \"wash\", \"shelf\", \"alcohol\", \"shopping\", \"behavior\", \"global\", \"fall\", \"worker\", \"online\", \"make\", \"england\", \"panic\", \"increase\", \"nurse\", \"nhs\", \"hero\", \"selfish\", \"pasta\", \"tesco\", \"fucking\", \"loo\", \"cleaner\", \"teacher\", \"homemade\", \"tear\", \"neighbour\", \"realise\", \"bloody\", \"newcastle\", \"sainsburys\", \"pub\", \"tin\", \"isle\", \"brighton\", \"hate\", \"madness\", \"moron\", \"starve\", \"mum\", \"trolley\", \"cat\", \"unsung\", \"calculator\", \"bread\", \"pile\", \"roll\", \"toilet\", \"paper\", \"driver\", \"queue\", \"elderly\", \"idiot\", \"shelf\", \"frontline\", \"baby\", \"truck\", \"stupid\", \"supermarket\", \"grateful\", \"england\", \"panic\", \"staff\", \"slot\", \"buy\", \"worker\", \"thank\", \"stop\", \"hoard\", \"people\", \"kingdom\", \"just\", \"work\", \"think\", \"grocery\", \"store\", \"need\", \"shop\", \"london\", \"food\", \"like\", \"day\", \"time\", \"local\", \"stock\", \"united\", \"make\", \"amp\", \"19\", \"decline\", \"energy\", \"recession\", \"crude\", \"crash\", \"plunge\", \"saudi\", \"arabia\", \"webinar\", \"las\", \"unemployment\", \"plummet\", \"oil\", \"output\", \"vegas\", \"analyst\", \"opec\", \"inflation\", \"confidence\", \"investment\", \"investor\", \"barrel\", \"slump\", \"sharp\", \"disruption\", \"spending\", \"disrupt\", \"growth\", \"slowdown\", \"explore\", \"impact\", \"economic\", \"behavior\", \"sector\", \"russia\", \"fall\", \"economy\", \"insight\", \"global\", \"demand\", \"closure\", \"collapse\", \"industry\", \"consumer\", \"surge\", \"market\", \"drop\", \"rise\", \"change\", \"cut\", \"price\", \"amid\", \"low\", \"pandemic\", \"covid19\", \"crisis\", \"affect\", \"increase\", \"bank\", \"food\", \"march\", \"business\", \"supply\", \"new\", \"outbreak\", \"coronavirus\", \"19\", \"covid\", \"amp\", \"say\", \"curbside\", \"pickup\", \"d19\", \"stressful\", \"prefer\", \"fever\", \"kroger\", \"kuala\", \"bangladesh\", \"shameful\", \"joes\", \"lumpur\", \"precautionary\", \"scotia\", \"kindness\", \"birx\", \"kaduna\", \"firearm\", \"bike\", \"ocado\", \"print\", \"montana\", \"utah\", \"3d\", \"dhaka\", \"woods\", \"albany\", \"vigilant\", \"inperson\", \"arrow\", \"arrive\", \"takeout\", \"plz\", \"exposure\", \"transmission\", \"mouth\", \"republic\", \"walmart\", \"wear\", \"vote\", \"protective\", \"distancing\", \"church\", \"positive\", \"account\", \"senior\", \"malaysia\", \"shopping\", \"online\", \"social\", \"grocery\", \"store\", \"safe\", \"tip\", \"stay\", \"order\", \"distance\", \"nigeria\", \"practice\", \"email\", \"die\", \"test\", \"home\", \"usa\", \"avoid\", \"check\", \"employee\", \"mask\", \"covid19\", \"protect\", \"19\", \"ontario\", \"spread\", \"people\", \"customer\", \"covid\", \"close\", \"supermarket\", \"help\", \"amp\", \"new\", \"time\", \"food\", \"work\", \"like\", \"need\", \"shop\", \"just\", \"stock\", \"worker\", \"price\", \"petrol\", \"litre\", \"sri\", \"excessive\", \"lanka\", \"fiscal\", \"norm\", \"owe\", \"goods\", \"rid\", \"coordinator\", \"coimbatore\", \"supplies\", \"brick\", \"disappoint\", \"havoc\", \"des\", \"operational\", \"modi\", \"locate\", \"clearwater\", \"humber\", \"norway\", \"galway\", \"qubec\", \"strength\", \"lend\", \"slap\", \"jaipur\", \"poland\", \"vendor\", \"prime\", \"license\", \"hyderabad\", \"boy\", \"minister\", \"attorney\", \"india\", \"cape\", \"dining\", \"sir\", \"pune\", \"montral\", \"inflate\", \"hike\", \"mumbai\", \"price\", \"africa\", \"hiking\", \"commit\", \"metro\", \"charge\", \"medicine\", \"government\", \"essential\", \"sell\", \"19\", \"town\", \"increase\", \"south\", \"covid\", \"emergency\", \"amp\", \"state\", \"covid19\", \"medical\", \"gas\", \"food\", \"business\", \"close\", \"item\", \"retail\", \"store\", \"consumer\", \"supermarket\", \"help\", \"good\", \"people\", \"say\", \"time\", \"shop\", \"make\", \"mask\", \"coronavirus\", \"need\", \"grocery\", \"pandemic\", \"distillery\", \"arab\", \"emirates\", \"washing\", \"gel\", \"fiji\", \"fraudulent\", \"3wuhan\", \"antibacterial\", \"bacteria\", \"soap\", \"skin\", \"purell\", \"hindustan\", \"fmcg\", \"oz\", \"diy\", \"boise\", \"crore\", \"mississippi\", \"bargain\", \"unilever\", \"athome\", \"1sanitizer2italy\", \"netflix\", \"wedding\", \"hul\", \"violate\", \"diego\", \"watchdog\", \"alcohol\", \"disinfectant\", \"sanitizer\", \"hand\", \"advertising\", \"content\", \"san\", \"fda\", \"scams\", \"competition\", \"wash\", \"spray\", \"bottle\", \"ghana\", \"francisco\", \"kit\", \"dubai\", \"antonio\", \"use\", \"sanitiser\", \"germ\", \"disinfect\", \"water\", \"mask\", \"protection\", \"consumer\", \"fight\", \"make\", \"price\", \"new\", \"company\", \"york\", \"states\", \"product\", \"covid19\", \"united\", \"19\", \"india\", \"amp\", \"coronavirus\", \"report\", \"virus\", \"sell\", \"help\", \"pandemic\"], \"Freq\": [481.0, 437.0, 966.0, 643.0, 252.0, 865.0, 843.0, 294.0, 955.0, 270.0, 287.0, 231.0, 355.0, 144.0, 87.0, 298.0, 298.0, 109.0, 252.0, 69.0, 454.0, 119.0, 177.0, 138.0, 423.0, 517.0, 410.0, 329.0, 387.0, 245.0, 78.04615812314834, 63.28044782448094, 62.07119564169676, 57.478941153727455, 42.27521603911362, 29.144499912014837, 45.604150117128064, 23.747046523268303, 24.121275894183206, 21.58647890776464, 18.586040349976468, 17.364438247698356, 16.986263000351787, 16.835299837494286, 15.460019930714619, 15.509949487867694, 15.353358229511565, 28.99239730548533, 14.713459677762991, 17.452463134492145, 15.199724798779675, 16.40121849362736, 16.196252894203766, 14.209979406414513, 15.432510288761161, 23.538102940641807, 31.628497329403277, 17.77149903154453, 13.352007020367175, 12.976618977037303, 49.76274338569099, 23.902569884668793, 108.6856982640929, 264.22913972935675, 248.7232368807263, 87.11040303064881, 84.01834413738433, 81.89557918326045, 31.87216234254133, 206.87717551723006, 44.456737568146785, 35.412410819471454, 41.03088722313494, 26.464737832346092, 604.6338173931233, 25.316804657113046, 237.42999311842846, 272.66488654476416, 148.4641941656697, 50.85749899489088, 266.0557670194494, 275.1390095527881, 166.02017270863527, 161.9891698528462, 79.64336932838341, 386.3086948644652, 113.51045787845317, 230.139615450295, 233.59231789933474, 155.76425373778844, 366.1882127791712, 401.04385041166864, 250.6129432208876, 185.0159901609712, 178.51575370464204, 325.3582605833893, 194.04985317991472, 156.36867091347625, 192.9108110807808, 135.7372431814989, 160.24875426803385, 138.72369349044703, 161.10015291411028, 181.52209428658207, 157.18947803672387, 46.66349515721466, 41.76737607515757, 41.87911616932121, 40.044586743534126, 38.139240823322915, 36.44969838399575, 39.205821160680685, 34.33822216900954, 33.0443783191731, 35.60672208766288, 31.795775638546118, 38.21015587412906, 245.22896160338257, 24.92291766385016, 31.773230543944333, 23.575865167039844, 22.676061403907077, 22.510172646950227, 48.81003594011775, 20.620326264964962, 20.384874151659695, 20.17931648616357, 18.789698567504924, 17.995632698612035, 28.573516012423177, 58.04307443010976, 17.12764201505122, 31.501077935409505, 15.723265086971553, 16.092061743716602, 213.03583849030522, 85.57432691338285, 107.96113175010456, 59.54704374326195, 37.830063132382485, 122.95760935751898, 101.26088496761359, 44.52252811403681, 147.6875274861266, 272.4662127370735, 53.32223949979696, 45.71673600540928, 100.68289471872976, 399.0270511557396, 69.36162433653915, 160.56719860435635, 101.24378377486424, 91.57141643690845, 136.39550625732664, 77.57119528539465, 453.0067422912568, 128.68818035459813, 127.82937626226972, 205.12920596261725, 335.7833706609396, 148.16885709721345, 75.05948238296034, 134.11688339264538, 94.18853283700776, 243.4326306106162, 77.59261930680331, 123.70476551346853, 137.40167142144784, 180.84938666786164, 106.7291182923878, 136.45653588057465, 163.6117484851087, 133.05246078903465, 142.70976063942715, 97.73490472027004, 20.462272328187655, 31.932407086575466, 13.739123488304307, 12.737872012649621, 11.353820891122803, 11.076306918754987, 13.038529460589368, 10.504222983724132, 10.421377588590845, 9.723029757952379, 8.981765884775967, 8.784341947872255, 8.420693040978412, 8.277152201566093, 10.073303355551483, 7.97368193307401, 7.900933408702128, 7.533361207250772, 7.51172723564838, 7.513663596568873, 10.80434745589182, 7.163868781683975, 11.952305495190448, 7.132498987002507, 6.94180615766466, 6.812384160731998, 6.860021907282845, 10.597840935774958, 6.733420531357179, 6.5682948386971045, 23.31047684300704, 13.171674006517598, 10.663481596686584, 19.066115546744552, 13.992875119466758, 17.662992045857912, 17.987337408346775, 31.418165634122253, 98.78412251341058, 17.725828035670364, 27.665027101303966, 78.30262926388993, 17.443421077938353, 58.49710639809624, 29.019438832595366, 44.05877226691356, 25.66641705586703, 243.90613530203092, 271.2160950245236, 114.70495641319236, 389.4073435317321, 417.1365471323531, 113.5805604848921, 62.24046665574619, 144.34518544342743, 101.67353257981448, 58.254213515763915, 53.04229328494588, 41.14133020988537, 39.746998571980484, 64.3461583871422, 71.4077638997709, 141.87842022476232, 143.94646580271998, 57.84559110281674, 72.70354057980461, 88.97052479973202, 114.08098815536624, 216.94261250962091, 67.03920221228964, 168.12894815323386, 61.602682390661144, 88.64941072198668, 168.95339867204623, 82.82766684562624, 121.27661609861104, 81.0839147599655, 163.22245011552513, 110.65935755519052, 135.61733201556052, 124.61534880644541, 108.63224374052321, 132.47813619176765, 105.06044866627877, 99.26068966935895, 106.29133212191729, 92.58912688935015, 96.1941017549851, 92.48148675952598, 91.44228239707128, 93.91616013192855, 32.23427408394996, 16.71510527373254, 13.60333820811711, 17.486727447261952, 11.761045062677944, 11.79114226454607, 10.894431908486204, 10.80314435348188, 12.430047167618625, 9.98852564369722, 9.455000539129346, 8.923232236148747, 8.739028237899076, 8.708299053326172, 8.678862985078286, 8.676742151538809, 8.623537762302922, 8.419333783798855, 8.321390424396217, 8.154041974971172, 8.06984093480827, 7.987770247459507, 7.865279426238602, 7.876577380889564, 11.172758803607797, 7.7352770943075635, 7.654029300766665, 7.584782549917779, 7.3154371274385825, 7.1402011763281905, 15.641214443727078, 20.058945771477333, 11.189334318467077, 24.096202944057882, 16.413710099625714, 29.35986213516353, 20.529768878964273, 139.5878120491888, 20.9812735988008, 11.02423409243082, 22.9344724032563, 15.705768918827925, 11.086559862143432, 29.197404455199408, 38.123130870486115, 35.428628937660086, 212.42355667795, 44.4867226357756, 16.81870771162374, 14.408655034594377, 15.398875455314869, 33.192728777787806, 22.227040948500658, 51.18071520175984, 58.93669507140631, 49.43597303412078, 96.34565380874467, 25.56331596775488, 54.659611475135804, 45.28180233634021, 70.45335885170243, 34.84077969788124, 82.96807630141684, 41.89950948641248, 94.82887603463556, 34.86447813628428, 41.12755224361015, 82.44100424579075, 49.11751669306744, 43.157509037264376, 40.24503361079729, 42.1382251860896, 71.00453906668193, 60.312924796956814, 65.83023230190949, 50.86256944438463, 46.9498211710459, 58.02527834934256, 47.61859848783413, 49.447305413096906, 46.07739613869041, 45.78217922313554, 43.61946502674747, 44.12945169053398, 44.243909484983014, 42.98314138244326, 42.40470433337142, 30.33404570762195, 23.851514389442652, 20.53483114112955, 21.826621378816377, 19.605426043020024, 14.300314260609683, 12.783467266787135, 12.627394826823203, 12.472767210374112, 12.272208882999841, 82.54311320691545, 11.970275538718687, 11.077262255883644, 10.959807185655114, 10.978265262682013, 12.458852732188292, 16.407530183270502, 10.510878569329302, 10.302487557397669, 9.883630757655348, 9.85433915890066, 9.477205617366462, 9.315608610839298, 8.949371423206719, 9.189028049340866, 8.713751121451093, 8.586265984153178, 8.50671741432084, 39.07951317527562, 8.441686975683664, 62.862216961438534, 28.448052809300698, 335.9758156855526, 358.4568747939031, 15.395486595855928, 19.718096490882154, 105.3736913763282, 23.10448848461879, 18.63692922239403, 21.091809249014013, 74.15141028638999, 24.784902715547084, 49.101728917258136, 27.103788856778117, 49.24631876341482, 30.15264356695039, 27.63982543146401, 17.730368841408982, 103.4353038032156, 28.15910999341153, 18.533350535489284, 20.29453643262894, 40.332304483762954, 83.92773175381437, 43.81019186005912, 126.0671369735111, 54.41038647926489, 91.40413302695957, 140.18724201124863, 90.74514584115784, 54.27933853196548, 58.666074416004165, 48.55565578128145, 51.22855010106096, 84.04524601906486, 55.647929201268624, 73.19342005846525, 54.064954484408865, 64.30595370677226, 54.62804669751753, 44.11364992461469, 43.31084131659987, 42.07368766857462, 43.54076852685604, 43.384259038203645], \"Total\": [481.0, 437.0, 966.0, 643.0, 252.0, 865.0, 843.0, 294.0, 955.0, 270.0, 287.0, 231.0, 355.0, 144.0, 87.0, 298.0, 298.0, 109.0, 252.0, 69.0, 454.0, 119.0, 177.0, 138.0, 423.0, 517.0, 410.0, 329.0, 387.0, 245.0, 78.88563524455161, 64.17916289734404, 63.04758406909405, 58.59280246130146, 43.16580393903057, 29.947214172815684, 47.051149526700236, 24.547606310683552, 24.953433992552885, 22.388216748103435, 19.44024031819299, 18.180680645041903, 17.78875735956502, 17.63891896551823, 16.261487148086722, 16.31800153337842, 16.154068377950928, 30.543760041313522, 15.516801875183532, 18.405617455881664, 16.036482119384356, 17.308512315337143, 17.100389042070223, 15.011826803369795, 16.311962988322808, 24.90604434923633, 33.49993622274125, 18.829109388074237, 14.15176585696048, 13.780800944350538, 53.12801348844835, 25.430032586562582, 118.89652439017283, 294.61940904526125, 287.1191633981521, 97.57553427631281, 95.57362452506945, 93.29265421028792, 34.823119381494884, 252.15005210935928, 49.9227844036593, 39.22250512752943, 46.03293091440376, 28.829669292785436, 865.8180373767862, 27.499633973814344, 329.7110981225867, 387.49932780746934, 197.3250446774792, 59.64280356687653, 399.73044289776476, 423.0402417159051, 245.83652690702104, 239.0298007657581, 103.1207383641427, 685.2006585683113, 158.06764967840095, 399.685209637565, 426.66866584524877, 255.94869732598102, 843.6665081345566, 955.3694336891117, 509.4169401735083, 343.7654039197523, 332.79584538151994, 800.8844338906869, 381.91054416097774, 308.73200278679974, 456.5839346251926, 261.8986629741136, 384.45543035939176, 286.616664833684, 410.97529138202964, 607.1232169497588, 658.4692485422763, 47.46372975851918, 42.565220422890334, 42.68778399574249, 40.83923134875373, 38.93886254015788, 37.24420197235512, 40.06562476686228, 35.133751973664594, 33.84013976056957, 36.47765699498831, 32.60179918553557, 39.203256598168544, 252.63710239653176, 25.7240779921936, 32.806412870280575, 24.375881664651775, 23.470126622704093, 23.3083197285284, 50.70090866723781, 21.419406495971216, 21.185944950151878, 20.974255622599262, 19.583136665645686, 18.793187044542233, 29.874931752446162, 60.767598174822496, 17.939595606120672, 33.06100078821453, 16.517177188305048, 16.90679938007416, 231.46874305595423, 93.80482114011545, 119.2390190880153, 64.59825073109471, 40.51071380306449, 138.38013226126526, 116.26779642564996, 48.513762536971626, 177.6078911255936, 355.79659567089993, 59.72517326620539, 50.76707319871005, 123.42111602869014, 643.3997928825554, 83.6454943270078, 233.1044177369836, 133.27530651899013, 119.80249189413688, 204.0451771600642, 99.21889922338909, 966.7336344868615, 198.6200445368303, 199.08457381870915, 411.46151443236386, 856.303302148251, 279.4567068102475, 103.15396319192865, 245.96323257494487, 153.61368049179558, 800.8844338906869, 113.62470210196072, 259.62775823962306, 313.3725467016894, 533.3188955977103, 214.2798739105014, 375.9547203530311, 658.4692485422763, 418.37812587721896, 607.1232169497588, 349.57764843412644, 21.252482746472733, 33.41460247624124, 14.531005858065072, 13.533630996942941, 12.153578343203558, 11.870332250977512, 14.014030121992525, 11.30173050478193, 11.216242141777398, 10.527635587573856, 9.771257544684342, 9.577593738972064, 9.2151278032862, 9.07404081306923, 11.060205870880958, 8.763802323530799, 8.696259818187531, 8.327234643066085, 8.305075882739548, 8.311184063462122, 11.968702929218763, 7.959579981377018, 13.282274006854225, 7.926575633882881, 7.741501628935559, 7.6017916068858975, 7.658095835330017, 11.835344249831895, 7.526514470411702, 7.3678089893142715, 26.277624156487875, 15.148240124092407, 12.150185061289253, 22.62717044254362, 16.421398678887527, 21.10655904666238, 21.665786440665325, 40.12497164861238, 146.531532664957, 21.56576928277255, 35.568347493316374, 116.71266923723155, 21.192427829451024, 84.7300248027261, 37.942654536843875, 61.38473991064581, 33.16579022382809, 454.76452399545684, 517.3893263897497, 196.8660844613292, 843.6665081345566, 955.3694336891117, 200.13699017033818, 101.370702897905, 290.3642173394527, 193.2105945796236, 101.40492979616303, 91.29759525609872, 65.39370725949966, 63.23010182653949, 123.69108644466357, 142.69705788198243, 371.11706461599, 379.0381254844549, 107.32946785341719, 150.89687952978832, 206.54549312794617, 298.50921277380434, 856.303302148251, 144.59574080031518, 658.4692485422763, 127.2685902801992, 232.30013152860775, 685.2006585683113, 213.10900356676078, 418.37812587721896, 208.6175566874696, 865.8180373767862, 395.77700143224286, 607.1232169497588, 533.3188955977103, 456.5839346251926, 800.8844338906869, 426.66866584524877, 381.91054416097774, 509.4169401735083, 343.7654039197523, 399.685209637565, 384.45543035939176, 423.0402417159051, 966.7336344868615, 33.12832994212888, 17.52325141113042, 14.368567144873413, 18.571037125166058, 12.526074615775183, 12.566846635360688, 11.666350659986373, 11.600113711320908, 13.355899317726406, 10.766662060090969, 10.219502794219757, 9.690964776008707, 9.507246523163449, 9.478852834956532, 9.447850071221609, 9.447298459314656, 9.391029334832432, 9.188555752450922, 9.08630458454851, 8.923579573096513, 8.836585240416587, 8.765200053498354, 8.63533162749415, 8.64828137767812, 12.270495409676098, 8.509186461693158, 8.422479149433187, 8.354156465753004, 8.08096311619593, 7.9073439094899305, 17.664107298052677, 22.878514202471795, 12.541174345671395, 30.236878034753815, 19.679291006754767, 40.18595176466813, 26.826897283457257, 270.86823429295794, 28.48699664892422, 13.050673032954169, 34.15781416701337, 20.805054203358768, 13.191994951283068, 50.63909029877538, 78.09791859012839, 70.88448145397322, 966.7336344868615, 101.27984962711282, 24.9862928489448, 19.82446169411558, 22.18860802350008, 76.62102248765912, 40.37939574795776, 181.3642347204217, 232.52060702467043, 175.06450961198811, 658.4692485422763, 57.421206121118985, 245.96323257494487, 172.48657765069862, 418.37812587721896, 105.85535535269128, 607.1232169497588, 155.6985334254221, 856.303302148251, 108.25498153369256, 157.53772690016734, 800.8844338906869, 259.62775823962306, 208.6175566874696, 179.18850646143935, 206.38194439133935, 955.3694336891117, 643.3997928825554, 865.8180373767862, 395.77700143224286, 309.590074766904, 685.2006585683113, 349.57764843412644, 456.5839346251926, 343.7654039197523, 410.97529138202964, 298.50921277380434, 375.9547203530311, 509.4169401735083, 843.6665081345566, 411.46151443236386, 31.161291412383296, 24.616913777768424, 21.29713415749906, 22.657850704538934, 20.620020710662832, 15.10152760682976, 13.546130598250976, 13.388064916075965, 13.247003022853361, 13.034703161551867, 87.7206668353015, 12.733841938643735, 11.842440192523949, 11.72106689365134, 11.744588937926151, 13.345063687474152, 17.5752870197888, 11.291759132664895, 11.077117981686046, 10.655909078089671, 10.629526200721749, 10.238227697920378, 10.083459739073113, 9.710094633048444, 9.979389649083249, 9.482490169153564, 9.348453672828818, 9.270983493538518, 42.62368075715538, 9.208590986149236, 69.23589660501706, 32.20907943046174, 437.5038924232588, 481.22667105626704, 17.310287522062254, 22.723919315901238, 144.90950121909228, 27.45493680302458, 21.904757812131603, 25.319948882399153, 109.03648769491832, 30.7912867718216, 70.64226260425389, 34.832551903055524, 74.3426243684587, 43.00210075430458, 38.40097380147286, 22.098614932413927, 298.61116018701193, 44.37742219697624, 23.960862577719787, 27.572455678164758, 86.1362349075055, 298.50921277380434, 102.84562292743044, 643.3997928825554, 151.9400187349432, 410.97529138202964, 966.7336344868615, 533.3188955977103, 197.9607518549385, 237.37487328353794, 162.46072726806676, 197.84211613417185, 856.303302148251, 286.616664833684, 658.4692485422763, 270.86823429295794, 607.1232169497588, 375.9547203530311, 183.29199716708038, 195.90059310520758, 175.06450961198811, 395.77700143224286, 411.46151443236386], \"Category\": [\"Default\", \"Default\", \"Default\", \"Default\", \"Default\", \"Default\", \"Default\", \"Default\", \"Default\", \"Default\", \"Default\", \"Default\", \"Default\", \"Default\", \"Default\", \"Default\", \"Default\", \"Default\", \"Default\", \"Default\", \"Default\", \"Default\", \"Default\", \"Default\", \"Default\", \"Default\", \"Default\", \"Default\", \"Default\", \"Default\", \"Topic1\", \"Topic1\", \"Topic1\", \"Topic1\", \"Topic1\", \"Topic1\", \"Topic1\", \"Topic1\", \"Topic1\", \"Topic1\", \"Topic1\", \"Topic1\", \"Topic1\", \"Topic1\", \"Topic1\", \"Topic1\", \"Topic1\", \"Topic1\", \"Topic1\", \"Topic1\", \"Topic1\", \"Topic1\", \"Topic1\", \"Topic1\", \"Topic1\", \"Topic1\", \"Topic1\", \"Topic1\", \"Topic1\", \"Topic1\", \"Topic1\", \"Topic1\", \"Topic1\", \"Topic1\", \"Topic1\", \"Topic1\", \"Topic1\", \"Topic1\", \"Topic1\", \"Topic1\", \"Topic1\", \"Topic1\", \"Topic1\", \"Topic1\", \"Topic1\", \"Topic1\", \"Topic1\", \"Topic1\", \"Topic1\", \"Topic1\", \"Topic1\", \"Topic1\", \"Topic1\", \"Topic1\", \"Topic1\", \"Topic1\", \"Topic1\", \"Topic1\", \"Topic1\", \"Topic1\", \"Topic1\", \"Topic1\", \"Topic1\", \"Topic1\", \"Topic1\", \"Topic1\", \"Topic1\", \"Topic1\", \"Topic1\", \"Topic1\", \"Topic1\", \"Topic1\", \"Topic1\", \"Topic1\", \"Topic1\", \"Topic2\", \"Topic2\", \"Topic2\", \"Topic2\", \"Topic2\", \"Topic2\", \"Topic2\", \"Topic2\", \"Topic2\", \"Topic2\", \"Topic2\", \"Topic2\", \"Topic2\", \"Topic2\", \"Topic2\", \"Topic2\", \"Topic2\", \"Topic2\", \"Topic2\", \"Topic2\", \"Topic2\", \"Topic2\", \"Topic2\", \"Topic2\", \"Topic2\", \"Topic2\", \"Topic2\", \"Topic2\", \"Topic2\", \"Topic2\", \"Topic2\", \"Topic2\", \"Topic2\", \"Topic2\", \"Topic2\", \"Topic2\", \"Topic2\", \"Topic2\", \"Topic2\", \"Topic2\", \"Topic2\", \"Topic2\", \"Topic2\", \"Topic2\", \"Topic2\", \"Topic2\", \"Topic2\", \"Topic2\", \"Topic2\", \"Topic2\", \"Topic2\", \"Topic2\", \"Topic2\", \"Topic2\", \"Topic2\", \"Topic2\", \"Topic2\", \"Topic2\", \"Topic2\", \"Topic2\", \"Topic2\", \"Topic2\", \"Topic2\", \"Topic2\", \"Topic2\", \"Topic2\", \"Topic2\", \"Topic2\", \"Topic2\", \"Topic2\", \"Topic3\", \"Topic3\", \"Topic3\", \"Topic3\", \"Topic3\", \"Topic3\", \"Topic3\", \"Topic3\", \"Topic3\", \"Topic3\", \"Topic3\", \"Topic3\", \"Topic3\", \"Topic3\", \"Topic3\", \"Topic3\", \"Topic3\", \"Topic3\", \"Topic3\", \"Topic3\", \"Topic3\", \"Topic3\", \"Topic3\", \"Topic3\", \"Topic3\", \"Topic3\", \"Topic3\", \"Topic3\", \"Topic3\", \"Topic3\", \"Topic3\", \"Topic3\", \"Topic3\", \"Topic3\", \"Topic3\", \"Topic3\", \"Topic3\", \"Topic3\", \"Topic3\", \"Topic3\", \"Topic3\", \"Topic3\", \"Topic3\", \"Topic3\", \"Topic3\", \"Topic3\", \"Topic3\", \"Topic3\", \"Topic3\", \"Topic3\", \"Topic3\", \"Topic3\", \"Topic3\", \"Topic3\", \"Topic3\", \"Topic3\", \"Topic3\", \"Topic3\", \"Topic3\", \"Topic3\", \"Topic3\", \"Topic3\", \"Topic3\", \"Topic3\", \"Topic3\", \"Topic3\", \"Topic3\", \"Topic3\", \"Topic3\", \"Topic3\", \"Topic3\", \"Topic3\", \"Topic3\", \"Topic3\", \"Topic3\", \"Topic3\", \"Topic3\", \"Topic3\", \"Topic3\", \"Topic3\", \"Topic3\", \"Topic3\", \"Topic3\", \"Topic3\", \"Topic3\", \"Topic3\", \"Topic3\", \"Topic3\", \"Topic3\", \"Topic3\", \"Topic3\", \"Topic4\", \"Topic4\", \"Topic4\", \"Topic4\", \"Topic4\", \"Topic4\", \"Topic4\", \"Topic4\", \"Topic4\", \"Topic4\", \"Topic4\", \"Topic4\", \"Topic4\", \"Topic4\", \"Topic4\", \"Topic4\", \"Topic4\", \"Topic4\", \"Topic4\", \"Topic4\", \"Topic4\", \"Topic4\", \"Topic4\", \"Topic4\", \"Topic4\", \"Topic4\", \"Topic4\", \"Topic4\", \"Topic4\", \"Topic4\", \"Topic4\", \"Topic4\", \"Topic4\", \"Topic4\", \"Topic4\", \"Topic4\", \"Topic4\", \"Topic4\", \"Topic4\", \"Topic4\", \"Topic4\", \"Topic4\", \"Topic4\", \"Topic4\", \"Topic4\", \"Topic4\", \"Topic4\", \"Topic4\", \"Topic4\", \"Topic4\", \"Topic4\", \"Topic4\", \"Topic4\", \"Topic4\", \"Topic4\", \"Topic4\", \"Topic4\", \"Topic4\", \"Topic4\", \"Topic4\", \"Topic4\", \"Topic4\", \"Topic4\", \"Topic4\", \"Topic4\", \"Topic4\", \"Topic4\", \"Topic4\", \"Topic4\", \"Topic4\", \"Topic4\", \"Topic4\", \"Topic4\", \"Topic4\", \"Topic4\", \"Topic4\", \"Topic4\", \"Topic4\", \"Topic4\", \"Topic4\", \"Topic4\", \"Topic4\", \"Topic4\", \"Topic4\", \"Topic4\", \"Topic4\", \"Topic4\", \"Topic5\", \"Topic5\", \"Topic5\", \"Topic5\", \"Topic5\", \"Topic5\", \"Topic5\", \"Topic5\", \"Topic5\", \"Topic5\", \"Topic5\", \"Topic5\", \"Topic5\", \"Topic5\", \"Topic5\", \"Topic5\", \"Topic5\", \"Topic5\", \"Topic5\", \"Topic5\", \"Topic5\", \"Topic5\", \"Topic5\", \"Topic5\", \"Topic5\", \"Topic5\", \"Topic5\", \"Topic5\", \"Topic5\", \"Topic5\", \"Topic5\", \"Topic5\", \"Topic5\", \"Topic5\", \"Topic5\", \"Topic5\", \"Topic5\", \"Topic5\", \"Topic5\", \"Topic5\", \"Topic5\", \"Topic5\", \"Topic5\", \"Topic5\", \"Topic5\", \"Topic5\", \"Topic5\", \"Topic5\", \"Topic5\", \"Topic5\", \"Topic5\", \"Topic5\", \"Topic5\", \"Topic5\", \"Topic5\", \"Topic5\", \"Topic5\", \"Topic5\", \"Topic5\", \"Topic5\", \"Topic5\", \"Topic5\", \"Topic5\", \"Topic5\", \"Topic5\", \"Topic5\", \"Topic5\", \"Topic5\", \"Topic5\", \"Topic5\", \"Topic5\", \"Topic5\", \"Topic5\", \"Topic5\", \"Topic5\"], \"logprob\": [30.0, 29.0, 28.0, 27.0, 26.0, 25.0, 24.0, 23.0, 22.0, 21.0, 20.0, 19.0, 18.0, 17.0, 16.0, 15.0, 14.0, 13.0, 12.0, 11.0, 10.0, 9.0, 8.0, 7.0, 6.0, 5.0, 4.0, 3.0, 2.0, 1.0, -6.2399, -6.4497, -6.469, -6.5458, -6.853, -7.225, -6.7772, -7.4298, -7.4141, -7.5252, -7.6748, -7.7428, -7.7648, -7.7738, -7.859, -7.8558, -7.8659, -7.2302, -7.9085, -7.7378, -7.876, -7.7999, -7.8125, -7.9433, -7.8608, -7.4386, -7.1432, -7.7196, -8.0056, -8.0341, -6.69, -7.4233, -5.9088, -5.0204, -5.0809, -6.1301, -6.1662, -6.1918, -7.1355, -5.2651, -6.8027, -7.0302, -6.8829, -7.3214, -4.1926, -7.3658, -5.1274, -4.989, -5.5969, -6.6682, -5.0135, -4.98, -5.4851, -5.5097, -6.2197, -4.6406, -5.8653, -5.1586, -5.1437, -5.5489, -4.6941, -4.6032, -5.0733, -5.3768, -5.4126, -4.8123, -5.3291, -5.545, -5.335, -5.6865, -5.5205, -5.6648, -5.5152, -5.3959, -5.5398, -6.5889, -6.6997, -6.6971, -6.7419, -6.7906, -6.8359, -6.763, -6.8956, -6.934, -6.8593, -6.9725, -6.7888, -4.9297, -7.2161, -6.9732, -7.2716, -7.3106, -7.3179, -6.5439, -7.4056, -7.4171, -7.4272, -7.4986, -7.5417, -7.0794, -6.3707, -7.5912, -6.9818, -7.6767, -7.6535, -5.0704, -5.9825, -5.7501, -6.3451, -6.7988, -5.62, -5.8142, -6.6359, -5.4368, -4.8244, -6.4555, -6.6094, -5.8199, -4.4428, -6.1925, -5.3532, -5.8143, -5.9147, -5.5163, -6.0807, -4.316, -5.5745, -5.5812, -5.1082, -4.6154, -5.4335, -6.1136, -5.5332, -5.8866, -4.937, -6.0804, -5.614, -5.509, -5.2342, -5.7616, -5.5159, -5.3344, -5.5411, -5.4711, -5.8496, -7.3176, -6.8726, -7.7159, -7.7916, -7.9066, -7.9314, -7.7683, -7.9844, -7.9923, -8.0617, -8.141, -8.1632, -8.2055, -8.2227, -8.0263, -8.26, -8.2692, -8.3169, -8.3197, -8.3195, -7.9562, -8.3671, -7.8553, -8.3715, -8.3986, -8.4175, -8.4105, -7.9755, -8.4291, -8.4539, -7.1873, -7.7581, -7.9694, -7.3883, -7.6976, -7.4647, -7.4465, -6.8888, -5.7433, -7.4612, -7.016, -5.9756, -7.4772, -6.2672, -6.9682, -6.5507, -7.091, -4.8394, -4.7333, -5.5938, -4.3716, -4.3028, -5.6037, -6.2052, -5.364, -5.7144, -6.2714, -6.3651, -6.6192, -6.6537, -6.1719, -6.0678, -5.3812, -5.3668, -6.2784, -6.0498, -5.8479, -5.5993, -4.9566, -6.1309, -5.2115, -6.2155, -5.8515, -5.2066, -5.9194, -5.5381, -5.9407, -5.2411, -5.6297, -5.4264, -5.511, -5.6482, -5.4498, -5.6817, -5.7384, -5.67, -5.808, -5.7698, -5.8092, -5.8205, -5.7938, -6.333, -6.9897, -7.1957, -6.9445, -7.3412, -7.3386, -7.4177, -7.4261, -7.2859, -7.5045, -7.5594, -7.6173, -7.6382, -7.6417, -7.6451, -7.6453, -7.6515, -7.6755, -7.6872, -7.7075, -7.7178, -7.7281, -7.7435, -7.7421, -7.3925, -7.7602, -7.7707, -7.7798, -7.816, -7.8402, -7.0561, -6.8073, -7.391, -6.6239, -7.0079, -6.4264, -6.7841, -4.8673, -6.7624, -7.4059, -6.6733, -7.052, -7.4002, -6.4319, -6.1652, -6.2385, -4.4474, -6.0108, -6.9835, -7.1382, -7.0717, -6.3037, -6.7047, -5.8706, -5.7295, -5.9053, -5.238, -6.5648, -5.8049, -5.9931, -5.551, -6.2552, -5.3875, -6.0707, -5.2539, -6.2545, -6.0893, -5.3939, -5.9118, -6.0411, -6.111, -6.065, -5.5432, -5.7064, -5.6189, -5.8769, -5.9569, -5.7451, -5.9428, -5.9051, -5.9757, -5.9821, -6.0305, -6.0189, -6.0163, -6.0452, -6.0587, -6.3193, -6.5598, -6.7095, -6.6485, -6.7558, -7.0713, -7.1834, -7.1957, -7.2081, -7.2243, -5.3183, -7.2492, -7.3267, -7.3374, -7.3357, -7.2092, -6.9339, -7.3792, -7.3992, -7.4407, -7.4437, -7.4827, -7.4999, -7.54, -7.5136, -7.5667, -7.5814, -7.5907, -6.066, -7.5984, -5.5907, -6.3835, -3.9146, -3.8498, -6.9975, -6.7501, -5.0741, -6.5916, -6.8065, -6.6827, -5.4255, -6.5214, -5.8377, -6.4319, -5.8348, -6.3253, -6.4123, -6.8563, -5.0927, -6.3937, -6.812, -6.7213, -6.0344, -5.3016, -5.9517, -4.8948, -5.735, -5.2163, -4.7886, -5.2235, -5.7375, -5.6597, -5.8489, -5.7953, -5.3002, -5.7126, -5.4385, -5.7414, -5.5679, -5.7311, -5.9448, -5.9632, -5.9922, -5.9579, -5.9615], \"loglift\": [30.0, 29.0, 28.0, 27.0, 26.0, 25.0, 24.0, 23.0, 22.0, 21.0, 20.0, 19.0, 18.0, 17.0, 16.0, 15.0, 14.0, 13.0, 12.0, 11.0, 10.0, 9.0, 8.0, 7.0, 6.0, 5.0, 4.0, 3.0, 2.0, 1.0, 1.2397, 1.2363, 1.2348, 1.2312, 1.2296, 1.2233, 1.2192, 1.2173, 1.2165, 1.214, 1.2055, 1.2045, 1.2043, 1.2038, 1.1999, 1.1997, 1.1996, 1.1983, 1.1973, 1.1973, 1.1969, 1.1966, 1.1961, 1.1955, 1.195, 1.194, 1.193, 1.1926, 1.1923, 1.1903, 1.185, 1.1885, 1.1606, 1.1416, 1.1069, 1.137, 1.1216, 1.1201, 1.1619, 1.0525, 1.1345, 1.1483, 1.1354, 1.1649, 0.8914, 1.1677, 0.9221, 0.899, 0.9659, 1.0911, 0.8434, 0.8203, 0.8579, 0.8614, 0.9921, 0.6774, 0.9193, 0.6985, 0.648, 0.7538, 0.4158, 0.3824, 0.5411, 0.6309, 0.6276, 0.3497, 0.5734, 0.5702, 0.3889, 0.5932, 0.3753, 0.5248, 0.3139, 0.0431, -0.182, 1.3988, 1.3969, 1.3967, 1.3962, 1.3951, 1.3943, 1.3941, 1.3929, 1.392, 1.3916, 1.3908, 1.3902, 1.3861, 1.3842, 1.3838, 1.3824, 1.3814, 1.381, 1.3778, 1.3778, 1.3773, 1.3772, 1.3745, 1.3724, 1.3713, 1.3699, 1.3695, 1.3675, 1.3666, 1.3664, 1.3328, 1.324, 1.3165, 1.3344, 1.3474, 1.2976, 1.2776, 1.33, 1.2313, 1.149, 1.3024, 1.311, 1.2122, 0.9381, 1.2286, 1.043, 1.1409, 1.1471, 1.013, 1.1697, 0.6578, 0.9818, 0.9728, 0.7197, 0.4797, 0.7813, 1.0979, 0.8093, 0.9267, 0.2249, 1.0344, 0.6745, 0.5913, 0.3344, 0.7188, 0.4024, 0.0234, 0.2702, -0.0321, 0.1413, 1.4736, 1.4661, 1.4554, 1.4509, 1.4434, 1.4423, 1.4393, 1.4383, 1.438, 1.432, 1.4272, 1.425, 1.4213, 1.4196, 1.418, 1.417, 1.4156, 1.4113, 1.4111, 1.4106, 1.4091, 1.4062, 1.406, 1.4059, 1.4025, 1.4018, 1.4014, 1.401, 1.4001, 1.3966, 1.3917, 1.3717, 1.381, 1.3402, 1.3514, 1.3334, 1.3254, 1.2669, 1.1172, 1.3154, 1.2602, 1.1124, 1.3168, 1.141, 1.2434, 1.1798, 1.2551, 0.8885, 0.8656, 0.9713, 0.7384, 0.6828, 0.945, 1.0237, 0.8126, 0.8695, 0.9572, 0.9685, 1.0481, 1.0472, 0.858, 0.8192, 0.5499, 0.5433, 0.8934, 0.7813, 0.6693, 0.5496, 0.1385, 0.7428, 0.1463, 0.7859, 0.5481, 0.1114, 0.5664, 0.2732, 0.5665, -0.1571, 0.2371, 0.0126, 0.0576, 0.0757, -0.2878, 0.11, 0.164, -0.0556, 0.1997, 0.0872, 0.0867, -0.0203, -0.82, 2.0143, 1.9945, 1.987, 1.9815, 1.9787, 1.978, 1.9732, 1.9705, 1.9699, 1.9667, 1.9639, 1.9592, 1.9574, 1.9569, 1.9568, 1.9566, 1.9564, 1.9543, 1.9538, 1.9515, 1.9509, 1.9488, 1.9483, 1.9482, 1.948, 1.9463, 1.946, 1.9451, 1.9422, 1.9396, 1.9201, 1.9102, 1.9276, 1.8147, 1.8602, 1.7278, 1.7742, 1.3788, 1.7359, 1.873, 1.6433, 1.7605, 1.8678, 1.4911, 1.3246, 1.3482, 0.5264, 1.219, 1.6459, 1.7226, 1.6764, 1.2052, 1.4447, 0.7766, 0.6692, 0.7772, 0.1197, 1.2324, 0.5376, 0.7043, 0.2603, 0.9304, 0.0514, 0.7291, -0.1589, 0.9087, 0.6987, -0.2319, 0.3767, 0.4661, 0.5482, 0.4529, -0.5577, -0.3255, -0.5349, -0.01, 0.1555, -0.4271, 0.0482, -0.1812, 0.0321, -0.1529, 0.1184, -0.1006, -0.4019, -0.9353, -0.2308, 2.0892, 2.0845, 2.0796, 2.0787, 2.0656, 2.0616, 2.0581, 2.0576, 2.0559, 2.0558, 2.0552, 2.0542, 2.0493, 2.0489, 2.0486, 2.0474, 2.0473, 2.0444, 2.0436, 2.0408, 2.0404, 2.0388, 2.0369, 2.0345, 2.0336, 2.0315, 2.031, 2.03, 2.0293, 2.0291, 2.0195, 1.9919, 1.852, 1.8215, 1.9989, 1.9742, 1.7975, 1.9436, 1.9545, 1.9334, 1.7305, 1.8991, 1.7523, 1.8652, 1.7042, 1.7611, 1.7873, 1.8958, 1.0559, 1.6612, 1.8592, 1.8096, 1.3573, 0.8472, 1.2627, 0.4861, 1.0891, 0.6128, 0.1851, 0.345, 0.8222, 0.7183, 0.9084, 0.7649, -0.2052, 0.477, -0.0807, 0.5046, -0.129, 0.1872, 0.6918, 0.6069, 0.6903, -0.0911, -0.1335]}, \"token.table\": {\"Topic\": [1, 2, 3, 4, 5, 5, 3, 5, 2, 3, 5, 2, 5, 1, 2, 3, 4, 1, 2, 3, 4, 5, 3, 1, 4, 5, 1, 2, 3, 4, 5, 1, 2, 3, 4, 5, 2, 5, 3, 5, 5, 2, 2, 3, 4, 3, 5, 4, 5, 1, 2, 3, 4, 5, 1, 3, 5, 3, 1, 2, 3, 4, 5, 5, 2, 2, 5, 3, 3, 1, 5, 1, 3, 4, 5, 3, 4, 1, 3, 4, 1, 1, 2, 3, 4, 5, 1, 2, 3, 4, 5, 1, 1, 2, 3, 4, 1, 1, 2, 3, 4, 5, 1, 2, 3, 4, 5, 1, 2, 3, 4, 5, 1, 3, 5, 1, 4, 1, 2, 3, 4, 5, 2, 3, 4, 2, 3, 4, 5, 3, 4, 5, 1, 2, 3, 4, 5, 2, 5, 2, 5, 1, 2, 3, 4, 5, 2, 5, 4, 1, 2, 3, 4, 5, 1, 2, 3, 4, 5, 1, 2, 3, 4, 5, 2, 1, 2, 3, 4, 5, 5, 2, 3, 1, 2, 3, 4, 5, 1, 2, 3, 4, 5, 3, 1, 2, 3, 4, 5, 2, 1, 2, 3, 4, 5, 4, 3, 1, 3, 4, 1, 3, 5, 3, 4, 4, 1, 3, 5, 1, 5, 2, 2, 4, 1, 3, 4, 5, 1, 2, 3, 4, 5, 1, 5, 1, 2, 3, 4, 1, 2, 3, 4, 5, 2, 5, 2, 4, 5, 2, 3, 4, 5, 1, 3, 1, 2, 3, 4, 5, 1, 2, 3, 4, 5, 5, 1, 2, 3, 4, 5, 2, 1, 2, 3, 4, 5, 1, 2, 3, 4, 5, 4, 2, 1, 2, 3, 2, 3, 4, 5, 3, 4, 5, 3, 1, 2, 3, 4, 5, 5, 3, 4, 5, 1, 2, 3, 4, 5, 2, 3, 4, 5, 5, 1, 3, 1, 3, 4, 1, 2, 3, 4, 5, 5, 1, 5, 4, 5, 1, 2, 3, 4, 5, 1, 2, 3, 4, 5, 4, 1, 2, 3, 4, 5, 1, 3, 1, 2, 3, 4, 5, 2, 5, 1, 3, 4, 5, 1, 4, 1, 2, 3, 4, 5, 1, 1, 2, 3, 4, 5, 1, 4, 5, 5, 1, 2, 3, 4, 5, 1, 2, 3, 4, 5, 1, 5, 4, 2, 3, 4, 5, 1, 3, 2, 3, 4, 5, 1, 2, 3, 4, 5, 2, 3, 4, 5, 1, 2, 3, 4, 5, 1, 2, 3, 4, 5, 2, 3, 2, 5, 2, 2, 1, 1, 2, 3, 4, 5, 4, 3, 1, 2, 3, 4, 5, 3, 3, 1, 2, 3, 4, 5, 3, 4, 5, 3, 3, 4, 2, 4, 4, 5, 1, 2, 3, 4, 5, 4, 1, 2, 3, 4, 5, 4, 1, 2, 3, 4, 5, 1, 1, 2, 3, 4, 5, 3, 1, 1, 2, 3, 4, 5, 2, 3, 4, 1, 2, 3, 4, 5, 1, 2, 3, 4, 5, 1, 3, 4, 5, 1, 2, 3, 4, 5, 1, 2, 3, 4, 5, 2, 3, 4, 1, 2, 4, 5, 5, 4, 3, 2, 4, 1, 1, 3, 5, 1, 3, 2, 3, 4, 5, 1, 2, 3, 4, 5, 1, 5, 1, 2, 3, 4, 5, 1, 1, 2, 3, 4, 5, 4, 4, 1, 3, 2, 4, 5, 1, 2, 3, 4, 5, 1, 2, 3, 4, 2, 4, 1, 2, 3, 4, 5, 1, 2, 3, 4, 5, 2, 4, 5, 1, 2, 3, 4, 5, 1, 2, 3, 4, 5, 1, 3, 5, 1, 1, 2, 3, 4, 5, 4, 2, 3, 1, 2, 2, 2, 1, 3, 4, 1, 2, 3, 4, 5, 1, 2, 3, 4, 5, 3, 3, 1, 2, 3, 4, 5, 3, 4, 1, 3, 1, 2, 3, 4, 5, 1, 2, 3, 4, 5, 1, 2, 3, 4, 5, 1, 3, 4, 5, 1, 4, 3, 4, 5, 5, 1, 4, 1, 3, 4, 1, 2, 1, 2, 3, 4, 5, 3, 4, 5, 1, 2, 3, 4, 5, 4, 1, 2, 3, 4, 5, 1, 2, 3, 4, 5, 2, 3, 1, 2, 3, 4, 5, 1, 1, 2, 3, 4, 5, 1, 4, 5, 1, 3, 4, 5, 2, 1, 2, 3, 4, 5, 3, 5, 3, 2, 3, 5, 1, 4, 1, 2, 3, 4, 5, 1, 2, 3, 4, 3, 2, 1, 2, 3, 4, 5, 1, 2, 3, 4, 5, 1, 2, 3, 4, 5, 3, 4, 5, 4, 1, 3, 2, 2, 1, 3, 5, 1, 2, 3, 4, 5, 1, 2, 3, 4, 5, 2, 5, 1, 5, 1, 2, 3, 4, 5, 4, 1, 2, 3, 4, 1, 1, 2, 3, 4, 5, 1, 2, 3, 4, 5, 1, 2, 3, 4, 5, 1, 2, 3, 4, 5, 1, 2, 3, 4, 5, 1, 2, 3, 4, 5, 4, 3, 1, 3, 1, 2, 3, 4, 5, 4, 1, 2, 3, 4, 5, 2, 3, 4, 5, 2, 3, 1, 1, 1, 1, 2, 3, 4, 5, 1, 2, 3, 4, 5, 1, 2, 3, 4, 5, 1, 2, 3, 4, 5, 1, 1, 2, 3, 4, 5, 1, 3, 5, 1, 3, 4, 2, 3, 4, 1, 3, 1, 2, 4, 2, 5, 1, 2, 3, 4, 5, 1, 1, 2, 3, 4, 5, 1, 2, 3, 4, 5, 3, 4, 2, 4, 5, 3, 4, 5, 1, 2, 3, 4, 5, 2, 3, 1, 3, 1, 3, 5, 5, 5, 1, 2, 3, 4, 5, 1, 3, 4, 5, 2, 5, 3, 1, 2, 3, 4, 5, 1, 2, 3, 4, 5, 1, 2, 3, 4, 5], \"Freq\": [0.23843178758547595, 0.24906250422941437, 0.25513719945452207, 0.14579268540258403, 0.11086318785821493, 0.9268704724430155, 0.8831051797547799, 0.9710141145483998, 0.15813337451584347, 0.7643113101599102, 0.07906668725792174, 0.057769115546202406, 0.866536733193036, 0.07755397613870801, 0.7270685263003877, 0.11633096420806202, 0.07755397613870801, 0.029620897059437316, 0.22709354412235278, 0.1382308529440408, 0.434439823538414, 0.15797811765033237, 0.9140653434638485, 0.04333012421453368, 0.04333012421453368, 0.9099326085052073, 0.07552107862516633, 0.6494812761764305, 0.1258684643752772, 0.08055581720017742, 0.06545160147514416, 0.29977440315062276, 0.2355370310469179, 0.22400724631035548, 0.13671030473352577, 0.10541517473428492, 0.9845797715207629, 0.9058652722655783, 0.1810068193067095, 0.8145306868801927, 0.9749394345961613, 0.9677304042416413, 0.07611038152040109, 0.8752693874846126, 0.038055190760200544, 0.9500789190045895, 0.892550794359327, 0.7827964515654071, 0.22365612901868775, 0.17702500888152006, 0.06521974011424424, 0.5403921323751665, 0.046585528653031595, 0.16770790315091375, 0.8923448384084538, 0.07648670043501032, 0.9206193536801126, 0.8915642042670217, 0.16925575845042426, 0.6119246651669185, 0.09113771608868998, 0.12368690040607926, 0.006509836863477856, 0.9407757045013913, 0.9535499309186675, 0.9057437810712002, 0.09225168140540004, 0.9632663341013431, 0.912845783675427, 0.9224248596331397, 0.9741617644126953, 0.1840258157192317, 0.02831166395680488, 0.09909082384881708, 0.6936357669417196, 0.15244451636851514, 0.8130374206320808, 0.941123085862631, 0.056467385151757865, 0.9494819844453543, 0.9353672387953782, 0.06933002896934821, 0.4776068662332877, 0.19258341380374502, 0.18873174552767014, 0.0731816972454231, 0.6654484408835288, 0.08755900537941169, 0.1375927227390755, 0.05003371735966382, 0.06004046083159659, 0.9433413959389183, 0.14041494262439405, 0.03510373565609851, 0.07020747131219703, 0.7371784487780688, 0.9559666168491555, 0.09801750905541327, 0.6665190615768103, 0.08821575814987195, 0.08821575814987195, 0.058810505433247964, 0.24797372030711565, 0.07830749062329967, 0.15661498124659934, 0.43069119842814824, 0.07830749062329967, 0.17230309918282558, 0.1789301414590881, 0.4837740861671641, 0.053016338210100176, 0.11265971869646288, 0.14155999605816344, 0.8021733109962594, 0.04718666535272115, 0.9617914715530765, 0.9053270898593009, 0.2588468624474282, 0.13421689163940723, 0.3882702936711423, 0.20611879787480394, 0.00958692083138623, 0.8873980116184823, 0.08371679354891343, 0.9287001044808991, 0.9060991130993311, 0.0393956136130144, 0.0393956136130144, 0.0196978068065072, 0.1513281947469211, 0.7061982421522984, 0.10088546316461407, 0.055566570125277, 0.35865695262678793, 0.13133916575065474, 0.18185422950090654, 0.2727813442513598, 0.15797820203264906, 0.8293855606714076, 0.9664521068369547, 0.019723512384427648, 0.0015542435839461602, 0.6201431899945179, 0.08859188428493113, 0.0932546150367696, 0.19583469157721617, 0.08801298632496396, 0.8801298632496396, 0.8806690678817057, 0.15161400273542394, 0.36174569073715185, 0.2234311619258879, 0.11703537053260794, 0.14629421316575994, 0.1481913039072102, 0.3178942487041767, 0.2892120608511683, 0.16731276247588248, 0.07648583427468914, 0.14597631433442596, 0.39238433293093694, 0.25341488168456344, 0.11094199889416372, 0.09809608323273424, 0.9758888041685957, 0.164605102969435, 0.5295990269451387, 0.08945929509208424, 0.09661603869945098, 0.1180862695215512, 0.902761893168705, 0.9794503637547199, 0.9410665209606813, 0.25808388702249324, 0.15485033221349595, 0.3894720476884898, 0.15485033221349595, 0.042231908785498894, 0.10078724999241553, 0.7861405499408413, 0.06047234999544932, 0.03023617499772466, 0.02015744999848311, 0.9634570474162771, 0.5052926116886188, 0.08745449048456864, 0.27531969226623465, 0.09069354568770083, 0.03886866243758607, 0.9902298078790164, 0.03653773014743674, 0.7644817384694456, 0.06745427104142167, 0.0983708119354066, 0.03091654089398493, 0.9583613977882001, 0.9042173386408608, 0.4204021606946072, 0.5174180439318242, 0.04850794161860852, 0.023461136678866634, 0.07038341003659991, 0.9149843304757987, 0.07662440070905972, 0.8428684077996569, 0.9525976737728119, 0.10880423691734381, 0.14507231588979175, 0.7253615794489587, 0.09314143878209538, 0.8693200952995569, 0.9476244823601208, 0.9707135146049489, 0.033472879813963755, 0.37473523305410195, 0.5719643030825766, 0.03944581400569494, 0.009861453501423735, 0.2656095538093558, 0.042840250614412226, 0.6683079095848308, 0.017136100245764892, 0.9627328855850369, 0.05689807505698515, 0.9103692009117624, 0.8916169472732255, 0.030745411974938807, 0.040993882633251745, 0.030745411974938807, 0.09003918515310369, 0.757829808371956, 0.06002612343540246, 0.052522858005977155, 0.037516327147126535, 0.26041006282024165, 0.7291481758966766, 0.9167972280608322, 0.03198129865328485, 0.05330216442214141, 0.8686842195774022, 0.025802501571606004, 0.04300416928601, 0.06020583700041401, 0.8789545189181399, 0.11790853302560414, 0.11070676462301535, 0.06326100835600877, 0.6326100835600877, 0.14233726880101974, 0.06326100835600877, 0.27395874212860694, 0.17004335718327326, 0.15114965082957624, 0.330639861189698, 0.07557482541478812, 0.9860481623817713, 0.34374993578784363, 0.07746477426204927, 0.4308978068326491, 0.13556335495858624, 0.01452464517413424, 0.9867210737481257, 0.7188111087236843, 0.12435128885093273, 0.054593248763824126, 0.08795578967504998, 0.009098874793970688, 0.3913631620200652, 0.043006940881325846, 0.26664303346422025, 0.2537409511998225, 0.04730763496945843, 0.9154039101544249, 0.94636481100362, 0.04419465538297265, 0.04419465538297265, 0.8396984522764803, 0.8888559216562449, 0.028905883631097393, 0.04335882544664609, 0.036132354538871744, 0.07284664373292855, 0.07284664373292855, 0.8377364029286783, 0.9266800429359641, 0.25009869234181387, 0.06581544535310892, 0.10530471256497427, 0.22377251420057032, 0.3554034049067882, 0.9270585310633351, 0.960703083665528, 0.9548934866630988, 0.9366015326835585, 0.40580136939502487, 0.30341456234766473, 0.16481778695428703, 0.10238680704736013, 0.021226533168355148, 0.20176850262450569, 0.08070740104980227, 0.05380493403320152, 0.6591104419067186, 0.9596836458729041, 0.8813610964530824, 0.10015467005148664, 0.9776594294236374, 0.021253465857035594, 0.9250392824461766, 0.07617223020873265, 0.5395532973118562, 0.12060603116382669, 0.2602551198798365, 0.0063476858507277205, 0.9699311305569052, 0.20867362282062804, 0.7929597667183865, 0.20096144604857266, 0.7751370061873517, 0.028151902307450412, 0.8332963083005323, 0.056303804614900824, 0.028151902307450412, 0.06193418507639091, 0.29716714939672556, 0.15181365240919675, 0.2713265277100538, 0.15181365240919675, 0.12920310843335894, 0.8984793696425362, 0.1654129881023449, 0.20400935199289202, 0.21503688453304834, 0.2812020797739863, 0.1323303904818759, 0.9091030092911585, 0.03636412037164634, 0.43382070577776993, 0.03674437671888215, 0.4610826626982309, 0.05096800641651395, 0.0165942346472371, 0.9679077837053031, 0.03024711824079072, 0.12052532307216696, 0.09351102652150885, 0.04156045623178171, 0.7439321665488926, 0.9244006479876572, 0.9526532943527748, 0.2779342902743985, 0.2046607046566025, 0.28046096564052936, 0.12886044367267566, 0.11117371610975939, 0.9833842313775893, 0.1280443855678377, 0.0896310698974864, 0.0896310698974864, 0.4865686651577833, 0.20487101690854034, 0.08004388694597656, 0.6803730390408007, 0.24013166083792967, 0.9384811211987961, 0.7757896352283851, 0.009697370440354814, 0.08727633396319333, 0.07757896352283851, 0.04848685220177407, 0.36376661940805666, 0.12125553980268555, 0.3826285922662522, 0.0538913510234158, 0.0808370265351237, 0.9773541730458447, 0.9627260630448868, 0.9127002180408936, 0.09921659228680438, 0.033072197428934795, 0.793732738294435, 0.06614439485786959, 0.9189297388735629, 0.05743310867959768, 0.9202106391898898, 0.0043202377426755385, 0.03024166419872877, 0.047522615169430925, 0.032525186452663835, 0.5447968730821192, 0.09757555935799149, 0.22361065686206383, 0.10164120766457448, 0.22520174858904038, 0.05906931110532207, 0.516856472171568, 0.19935892498046198, 0.008102341253886756, 0.8183364666425623, 0.024307023761660267, 0.0729210712849808, 0.08102341253886755, 0.01974759013441802, 0.07899036053767208, 0.05924277040325406, 0.5726801138981226, 0.2764662618818523, 0.9867721169042044, 0.9300453785770904, 0.9275718403763501, 0.061838122691756675, 0.9804193222603949, 0.9440220885619087, 0.9236310621335614, 0.39623077061183565, 0.0725492960275192, 0.22880931824063747, 0.22322860316159754, 0.07813001110655914, 0.8662333807675158, 0.9210687528030704, 0.5754528675418444, 0.057545286754184445, 0.24018902297398723, 0.06254922473280917, 0.06254922473280917, 0.9199357157278857, 0.90414230229907, 0.7212101921673443, 0.1518337246668093, 0.05693764675005349, 0.03163202597225194, 0.037958431166702326, 0.1395280671119164, 0.1395280671119164, 0.697640335559582, 0.9276417908934572, 0.9733022739611192, 0.9580016380301095, 0.9869054913517628, 0.94983909821117, 0.8771108427973228, 0.07973734934521116, 0.5079723588836755, 0.0602235270841471, 0.25922300788393754, 0.10211815462094509, 0.0706971839683466, 0.970139593454782, 0.5192848197680277, 0.08782022687253409, 0.25582413915042534, 0.10309330980688784, 0.03436443660229595, 0.8965012229082384, 0.5378672915666748, 0.273440913589762, 0.06610659449422819, 0.09315020133277607, 0.030048452042830992, 0.9776920688822834, 0.09543682684978809, 0.6429428335143619, 0.07534486330246429, 0.14064374483126665, 0.04520691798147857, 0.939693230396505, 0.9356512276204327, 0.39175104532096916, 0.063264143964877, 0.21169155865170383, 0.11192887009170548, 0.22142450387706952, 0.18090930321597695, 0.7839403139359001, 0.03015155053599616, 0.04400451580953997, 0.6864704466288235, 0.08800903161907994, 0.1408144505905279, 0.052805418971447964, 0.05147907584291191, 0.6906776008924015, 0.13298761259418912, 0.0815085367512772, 0.04289922986909326, 0.19094888050638426, 0.3818977610127685, 0.1473991358294896, 0.2813983502199347, 0.2955984061577853, 0.0923745019243079, 0.15703665327132343, 0.3233107567350777, 0.13856175288646186, 0.14859063363531036, 0.04953021121177012, 0.19812084484708048, 0.5448323233294713, 0.04953021121177012, 0.045068171871840465, 0.22534085935920234, 0.676022578077607, 0.0248843179292125, 0.1741902255044875, 0.7216452199471626, 0.0746529537876375, 0.9384464456966577, 0.8804459420834518, 0.8794433897740658, 0.07580354629401514, 0.8338390092341665, 0.9325980231038461, 0.04737863702885914, 0.8528154665194645, 0.09475727405771828, 0.9636215074328288, 0.040150896143034534, 0.2962566639305352, 0.028214920374336684, 0.493761106550892, 0.16928952224602012, 0.4927201673240567, 0.12955988463501092, 0.20808102683804786, 0.08637325642334062, 0.08244719931318878, 0.9556597831078456, 0.9018587625573654, 0.18938012666287693, 0.3393841873859477, 0.23438134487979817, 0.06750182732538187, 0.17062961907249308, 0.9805122255487015, 0.9816270134400141, 0.2847829663757019, 0.5805191237658538, 0.06571914608670043, 0.06571914608670043, 0.9428826820479652, 0.926426493515164, 0.988773174712911, 0.9625583958812609, 0.9697704639418133, 0.011874740374797714, 0.01583298716639695, 0.19714361081187695, 0.1778158058303204, 0.5237835150001829, 0.057983414944669694, 0.04252117095942444, 0.15714796522824104, 0.34572552350213026, 0.4871586922075472, 0.015714796522824103, 0.9799691484301873, 0.8706482515346451, 0.18114948652868115, 0.09833829268699834, 0.5279213607407279, 0.11386539153231386, 0.08281119384168281, 0.10266946493159117, 0.49934694307637517, 0.16800457897896737, 0.12133664037369865, 0.10733625879211803, 0.9718521304276354, 0.9482665664962199, 0.8992088970892925, 0.11422696498076948, 0.4982239961927179, 0.17741634986374832, 0.10207516019558123, 0.10450552115261888, 0.704517351151745, 0.15483897827510879, 0.07741948913755439, 0.04903234312045111, 0.012903248189592398, 0.8672357395201387, 0.010448623367712514, 0.12190060595664601, 0.9729924191687197, 0.56333862960162, 0.07005247207481285, 0.24664307876340358, 0.08464673709039885, 0.03502623603740643, 0.9659406331650303, 0.029927035663854722, 0.9576651412433511, 0.9437659947271078, 0.03932358311362949, 0.9693072284656894, 0.9665934049740509, 0.08230327315639176, 0.9053360047203094, 0.8852530103817807, 0.15342849279541032, 0.11802191753493102, 0.6845271217025999, 0.023604383506986203, 0.011802191753493101, 0.07645995630984288, 0.07645995630984288, 0.6269716417407117, 0.10704393883378005, 0.10704393883378005, 0.8681377155883966, 0.9050832346961705, 0.0693055435436084, 0.4685882272426061, 0.09723464318058493, 0.219295152705149, 0.1448175536732116, 0.08741826424129938, 0.8741826424129937, 0.08355124242901343, 0.9190636667191477, 0.1516360650916952, 0.2729449171650513, 0.12130885207335615, 0.19207234911614723, 0.25778131065588183, 0.1728958257112474, 0.07607416331294886, 0.46336081290614306, 0.11065332845519835, 0.1728958257112474, 0.04861655613217572, 0.204189535755138, 0.14584966839652716, 0.16529629084939745, 0.4278256939631463, 0.05622977003291533, 0.7872167804608146, 0.05622977003291533, 0.11245954006583066, 0.9494574329019927, 0.03273991147937906, 0.0961304873542276, 0.7690438988338208, 0.14419573103134142, 0.9288626179378322, 0.08149630203287749, 0.8964593223616523, 0.8789035721666743, 0.08370510211111183, 0.03138941329166694, 0.9637778841907925, 0.9838880370128585, 0.05455775568250516, 0.4364620454600413, 0.10365973579675981, 0.169129042615766, 0.24005412500302273, 0.8308029828178831, 0.09231144253532035, 0.046155721267660176, 0.135670783035684, 0.32464080226395814, 0.305259261830289, 0.203506174553526, 0.033917695758921, 0.9287929670484623, 0.016694143572299765, 0.7679306043257892, 0.07512364607534895, 0.1001648614337986, 0.041735358930749415, 0.9167635518285108, 0.00841067478741753, 0.01682134957483506, 0.01682134957483506, 0.050464048724505176, 0.9380234617619954, 0.04936965588221028, 0.2648186122659848, 0.03497604312946969, 0.5696098452513636, 0.04996577589924242, 0.0849418190287121, 0.9285586546404531, 0.013801717507647413, 0.11731459881500302, 0.1035128813073556, 0.04140515252294224, 0.7245901691514892, 0.22533981256534935, 0.13520388753920962, 0.6309514751829782, 0.07999928824893654, 0.07999928824893654, 0.07085651244905808, 0.7679931671897907, 0.9734030163497253, 0.32324721133105694, 0.28033828947295203, 0.19738104054728256, 0.1373085499459357, 0.06293308539188719, 0.1369565473277453, 0.8673914664090534, 0.8816358846962312, 0.928817720618535, 0.0309605906872845, 0.04644088603092675, 0.9728157317214269, 0.017066942661779418, 0.26276028249217454, 0.0856827008126656, 0.13138014124608727, 0.27989682265470767, 0.2399115622754637, 0.19548832523307422, 0.08145346884711425, 0.7167905258546055, 0.01629069376942285, 0.9498809031539196, 0.9577939046388312, 0.820939747060701, 0.04759070997453339, 0.10707909744270014, 0.019829462489388914, 0.003965892497877783, 0.5381577025801756, 0.03781648720833666, 0.2705333315673315, 0.13381218550642204, 0.023271684435899484, 0.25947494532616366, 0.14732899438010988, 0.5365414123693554, 0.03518304343405609, 0.021989402146285055, 0.3220346579033397, 0.673345193797892, 0.9423707360135573, 0.9576071543303227, 0.8550905884699821, 0.13413185701489916, 0.9686885245336452, 0.970222509519189, 0.022799644281718323, 0.034199466422577485, 0.9461852376913104, 0.2793777310626796, 0.09651230709438023, 0.584153437676512, 0.025397975551152693, 0.015238785330691616, 0.28408007548987124, 0.18552168195256896, 0.18552168195256896, 0.2608898652458001, 0.08696328841526671, 0.9544560216637099, 0.03291227660909345, 0.1623836001740502, 0.8119180008702511, 0.1506671553291383, 0.19371491399460639, 0.38312505212266595, 0.13775282772949787, 0.13775282772949787, 0.9743490675752652, 0.7500315038159537, 0.030406682587133263, 0.12162673034853305, 0.09628782819258866, 0.9195705023814731, 0.1541440338068164, 0.2761747272372127, 0.17983470610795246, 0.2697520591619287, 0.1156080253551123, 0.3077666882378163, 0.20312601423695875, 0.1477280103541518, 0.04308733635329428, 0.3016113544730599, 0.33406320134344014, 0.061991109527648684, 0.4959288762211895, 0.041327406351765794, 0.06543506005696251, 0.4161730785033543, 0.19768221228909327, 0.2392995201394287, 0.09624002440390068, 0.04942055307227332, 0.6777397608206813, 0.0376522089344823, 0.1547924145084272, 0.05857010278697246, 0.0753044178689646, 0.4197329178217042, 0.05652263731264844, 0.43648036591434075, 0.0743168009110748, 0.013607301575267218, 0.94016038266579, 0.9605700054136631, 0.901848707869377, 0.0693729775284136, 0.6987611413513628, 0.02309954186285497, 0.188261266182268, 0.07622848814742139, 0.01501470221085573, 0.9466463268910096, 0.24252283998683247, 0.4371793299762638, 0.13402577999272322, 0.111688149993936, 0.0733950699960151, 0.8249099435081108, 0.0836865160080692, 0.04782086629032526, 0.03586564971774395, 0.06601426910374608, 0.858185498348699, 0.982659773555376, 0.9350585014888378, 0.9683705413348428, 0.14716491223924213, 0.049054970746414045, 0.4975575604279139, 0.09110208852905466, 0.21023558891320304, 0.6752454653037936, 0.061016156503354846, 0.1586420069087226, 0.06915164403713549, 0.04067743766890323, 0.6094971438800312, 0.09767582433974858, 0.19144461570590723, 0.05079142865666927, 0.04688439568307932, 0.42270431647673434, 0.1642633354184201, 0.23872938080810385, 0.10731871247336779, 0.06570533416736803, 0.9666940469214814, 0.08878304818567062, 0.06905348192218826, 0.6116165541679531, 0.009864783131741179, 0.20716044576656478, 0.896071310629242, 0.0033942095099592498, 0.09843207578881825, 0.36571854578784957, 0.17415168847040455, 0.45279439002305183, 0.06089615260883157, 0.852546136523642, 0.06089615260883157, 0.9552256991545248, 0.0298508030985789, 0.8906667289171252, 0.021723578754076222, 0.08689431501630489, 0.9815409210359602, 0.879058394240256, 0.48496831152737746, 0.1779380135819874, 0.10466941975411025, 0.038378787243173756, 0.19538291687433912, 0.9186132763499624, 0.22952836179422284, 0.21897533366575284, 0.37990901262492055, 0.0633181687708201, 0.11080679534893516, 0.21432554617154484, 0.05023254988395583, 0.2746046060322918, 0.1138604464036332, 0.34493017586983, 0.903459753488558, 0.07528831279071317, 0.9754190476883529, 0.9057915993164211, 0.056611974957276316, 0.9294195223900006, 0.08449268385363642, 0.9707707932251868, 0.23991759930384107, 0.1225111145381316, 0.2909638970280626, 0.1225111145381316, 0.21949908021415246, 0.13910934317545998, 0.8346560590527599, 0.199377087915691, 0.7725862156733027, 0.11005490229633712, 0.21093856273464615, 0.6786718974940789, 0.9709658822843621, 0.8687539724625523, 0.34828548092698147, 0.023219032061798765, 0.1277046763398932, 0.03482854809269815, 0.4643806412359753, 0.2729787866988304, 0.6756224970796052, 0.02729787866988304, 0.02729787866988304, 0.9751732774594359, 0.9491177780786845, 0.9208355558785932, 0.5484349302671103, 0.08437460465647852, 0.24609259691472898, 0.08671834367471402, 0.03749982429176823, 0.6500563607957601, 0.061459874111599144, 0.215109559390597, 0.06618755673556831, 0.004727682623969165, 0.16850983192404306, 0.3538706470404904, 0.2022117983088517, 0.02527647478860646, 0.24855200208796352], \"Term\": [\"19\", \"19\", \"19\", \"19\", \"19\", \"1sanitizer2italy\", \"3d\", \"3wuhan\", \"account\", \"account\", \"account\", \"advertising\", \"advertising\", \"affect\", \"affect\", \"affect\", \"affect\", \"africa\", \"africa\", \"africa\", \"africa\", \"africa\", \"albany\", \"alcohol\", \"alcohol\", \"alcohol\", \"amid\", \"amid\", \"amid\", \"amid\", \"amid\", \"amp\", \"amp\", \"amp\", \"amp\", \"amp\", \"analyst\", \"antibacterial\", \"antonio\", \"antonio\", \"arab\", \"arabia\", \"arrive\", \"arrive\", \"arrive\", \"arrow\", \"athome\", \"attorney\", \"attorney\", \"avoid\", \"avoid\", \"avoid\", \"avoid\", \"avoid\", \"baby\", \"baby\", \"bacteria\", \"bangladesh\", \"bank\", \"bank\", \"bank\", \"bank\", \"bank\", \"bargain\", \"barrel\", \"behavior\", \"behavior\", \"bike\", \"birx\", \"bloody\", \"boise\", \"bottle\", \"bottle\", \"bottle\", \"bottle\", \"boy\", \"boy\", \"bread\", \"bread\", \"brick\", \"brighton\", \"business\", \"business\", \"business\", \"business\", \"business\", \"buy\", \"buy\", \"buy\", \"buy\", \"buy\", \"calculator\", \"cape\", \"cape\", \"cape\", \"cape\", \"cat\", \"change\", \"change\", \"change\", \"change\", \"change\", \"charge\", \"charge\", \"charge\", \"charge\", \"charge\", \"check\", \"check\", \"check\", \"check\", \"check\", \"church\", \"church\", \"church\", \"cleaner\", \"clearwater\", \"close\", \"close\", \"close\", \"close\", \"close\", \"closure\", \"closure\", \"coimbatore\", \"collapse\", \"collapse\", \"collapse\", \"collapse\", \"commit\", \"commit\", \"commit\", \"company\", \"company\", \"company\", \"company\", \"company\", \"competition\", \"competition\", \"confidence\", \"confidence\", \"consumer\", \"consumer\", \"consumer\", \"consumer\", \"consumer\", \"content\", \"content\", \"coordinator\", \"coronavirus\", \"coronavirus\", \"coronavirus\", \"coronavirus\", \"coronavirus\", \"covid\", \"covid\", \"covid\", \"covid\", \"covid\", \"covid19\", \"covid19\", \"covid19\", \"covid19\", \"covid19\", \"crash\", \"crisis\", \"crisis\", \"crisis\", \"crisis\", \"crisis\", \"crore\", \"crude\", \"curbside\", \"customer\", \"customer\", \"customer\", \"customer\", \"customer\", \"cut\", \"cut\", \"cut\", \"cut\", \"cut\", \"d19\", \"day\", \"day\", \"day\", \"day\", \"day\", \"decline\", \"demand\", \"demand\", \"demand\", \"demand\", \"demand\", \"des\", \"dhaka\", \"die\", \"die\", \"die\", \"diego\", \"diego\", \"diego\", \"dining\", \"dining\", \"disappoint\", \"disinfect\", \"disinfect\", \"disinfect\", \"disinfectant\", \"disinfectant\", \"disrupt\", \"disruption\", \"disruption\", \"distance\", \"distance\", \"distance\", \"distance\", \"distancing\", \"distancing\", \"distancing\", \"distancing\", \"distillery\", \"diy\", \"diy\", \"driver\", \"driver\", \"driver\", \"driver\", \"drop\", \"drop\", \"drop\", \"drop\", \"drop\", \"dubai\", \"dubai\", \"economic\", \"economic\", \"economic\", \"economy\", \"economy\", \"economy\", \"economy\", \"elderly\", \"elderly\", \"email\", \"email\", \"email\", \"email\", \"email\", \"emergency\", \"emergency\", \"emergency\", \"emergency\", \"emergency\", \"emirates\", \"employee\", \"employee\", \"employee\", \"employee\", \"employee\", \"energy\", \"england\", \"england\", \"england\", \"england\", \"england\", \"essential\", \"essential\", \"essential\", \"essential\", \"essential\", \"excessive\", \"explore\", \"exposure\", \"exposure\", \"exposure\", \"fall\", \"fall\", \"fall\", \"fall\", \"fda\", \"fda\", \"fda\", \"fever\", \"fight\", \"fight\", \"fight\", \"fight\", \"fight\", \"fiji\", \"firearm\", \"fiscal\", \"fmcg\", \"food\", \"food\", \"food\", \"food\", \"food\", \"francisco\", \"francisco\", \"francisco\", \"francisco\", \"fraudulent\", \"frontline\", \"frontline\", \"fucking\", \"fucking\", \"galway\", \"gas\", \"gas\", \"gas\", \"gas\", \"gas\", \"gel\", \"germ\", \"germ\", \"ghana\", \"ghana\", \"global\", \"global\", \"global\", \"global\", \"global\", \"good\", \"good\", \"good\", \"good\", \"good\", \"goods\", \"government\", \"government\", \"government\", \"government\", \"government\", \"grateful\", \"grateful\", \"grocery\", \"grocery\", \"grocery\", \"grocery\", \"grocery\", \"growth\", \"growth\", \"hand\", \"hand\", \"hand\", \"hand\", \"hate\", \"havoc\", \"help\", \"help\", \"help\", \"help\", \"help\", \"hero\", \"hike\", \"hike\", \"hike\", \"hike\", \"hike\", \"hiking\", \"hiking\", \"hiking\", \"hindustan\", \"hoard\", \"hoard\", \"hoard\", \"hoard\", \"hoard\", \"home\", \"home\", \"home\", \"home\", \"home\", \"homemade\", \"hul\", \"humber\", \"hyderabad\", \"hyderabad\", \"hyderabad\", \"hyderabad\", \"idiot\", \"idiot\", \"impact\", \"impact\", \"impact\", \"impact\", \"increase\", \"increase\", \"increase\", \"increase\", \"increase\", \"india\", \"india\", \"india\", \"india\", \"industry\", \"industry\", \"industry\", \"industry\", \"industry\", \"inflate\", \"inflate\", \"inflate\", \"inflate\", \"inflate\", \"inflation\", \"inperson\", \"insight\", \"insight\", \"investment\", \"investor\", \"isle\", \"item\", \"item\", \"item\", \"item\", \"item\", \"jaipur\", \"joes\", \"just\", \"just\", \"just\", \"just\", \"just\", \"kaduna\", \"kindness\", \"kingdom\", \"kingdom\", \"kingdom\", \"kingdom\", \"kingdom\", \"kit\", \"kit\", \"kit\", \"kroger\", \"kuala\", \"lanka\", \"las\", \"lend\", \"license\", \"license\", \"like\", \"like\", \"like\", \"like\", \"like\", \"litre\", \"local\", \"local\", \"local\", \"local\", \"local\", \"locate\", \"london\", \"london\", \"london\", \"london\", \"london\", \"loo\", \"low\", \"low\", \"low\", \"low\", \"low\", \"lumpur\", \"madness\", \"make\", \"make\", \"make\", \"make\", \"make\", \"malaysia\", \"malaysia\", \"malaysia\", \"march\", \"march\", \"march\", \"march\", \"march\", \"market\", \"market\", \"market\", \"market\", \"market\", \"mask\", \"mask\", \"mask\", \"mask\", \"medical\", \"medical\", \"medical\", \"medical\", \"medical\", \"medicine\", \"medicine\", \"medicine\", \"medicine\", \"medicine\", \"metro\", \"metro\", \"metro\", \"minister\", \"minister\", \"minister\", \"minister\", \"mississippi\", \"modi\", \"montana\", \"montral\", \"montral\", \"moron\", \"mouth\", \"mouth\", \"mouth\", \"mum\", \"mum\", \"mumbai\", \"mumbai\", \"mumbai\", \"mumbai\", \"need\", \"need\", \"need\", \"need\", \"need\", \"neighbour\", \"netflix\", \"new\", \"new\", \"new\", \"new\", \"new\", \"newcastle\", \"nhs\", \"nigeria\", \"nigeria\", \"nigeria\", \"nigeria\", \"norm\", \"norway\", \"nurse\", \"ocado\", \"oil\", \"oil\", \"oil\", \"online\", \"online\", \"online\", \"online\", \"online\", \"ontario\", \"ontario\", \"ontario\", \"ontario\", \"opec\", \"operational\", \"order\", \"order\", \"order\", \"order\", \"order\", \"outbreak\", \"outbreak\", \"outbreak\", \"outbreak\", \"outbreak\", \"output\", \"owe\", \"oz\", \"pandemic\", \"pandemic\", \"pandemic\", \"pandemic\", \"pandemic\", \"panic\", \"panic\", \"panic\", \"panic\", \"panic\", \"paper\", \"paper\", \"paper\", \"pasta\", \"people\", \"people\", \"people\", \"people\", \"people\", \"petrol\", \"pickup\", \"pickup\", \"pile\", \"pile\", \"plummet\", \"plunge\", \"plz\", \"plz\", \"poland\", \"positive\", \"positive\", \"positive\", \"positive\", \"positive\", \"practice\", \"practice\", \"practice\", \"practice\", \"practice\", \"precautionary\", \"prefer\", \"price\", \"price\", \"price\", \"price\", \"price\", \"prime\", \"prime\", \"print\", \"print\", \"product\", \"product\", \"product\", \"product\", \"product\", \"protect\", \"protect\", \"protect\", \"protect\", \"protect\", \"protection\", \"protection\", \"protection\", \"protection\", \"protection\", \"protective\", \"protective\", \"protective\", \"protective\", \"pub\", \"pub\", \"pune\", \"pune\", \"pune\", \"purell\", \"qubec\", \"qubec\", \"queue\", \"queue\", \"queue\", \"realise\", \"recession\", \"report\", \"report\", \"report\", \"report\", \"report\", \"republic\", \"republic\", \"republic\", \"retail\", \"retail\", \"retail\", \"retail\", \"retail\", \"rid\", \"rise\", \"rise\", \"rise\", \"rise\", \"rise\", \"roll\", \"roll\", \"roll\", \"roll\", \"roll\", \"russia\", \"russia\", \"safe\", \"safe\", \"safe\", \"safe\", \"safe\", \"sainsburys\", \"san\", \"san\", \"san\", \"san\", \"san\", \"sanitiser\", \"sanitiser\", \"sanitiser\", \"sanitizer\", \"sanitizer\", \"sanitizer\", \"sanitizer\", \"saudi\", \"say\", \"say\", \"say\", \"say\", \"say\", \"scams\", \"scams\", \"scotia\", \"sector\", \"sector\", \"sector\", \"selfish\", \"selfish\", \"sell\", \"sell\", \"sell\", \"sell\", \"sell\", \"senior\", \"senior\", \"senior\", \"senior\", \"shameful\", \"sharp\", \"shelf\", \"shelf\", \"shelf\", \"shelf\", \"shelf\", \"shop\", \"shop\", \"shop\", \"shop\", \"shop\", \"shopping\", \"shopping\", \"shopping\", \"shopping\", \"shopping\", \"sir\", \"sir\", \"skin\", \"slap\", \"slot\", \"slot\", \"slowdown\", \"slump\", \"soap\", \"soap\", \"soap\", \"social\", \"social\", \"social\", \"social\", \"social\", \"south\", \"south\", \"south\", \"south\", \"south\", \"spending\", \"spending\", \"spray\", \"spray\", \"spread\", \"spread\", \"spread\", \"spread\", \"spread\", \"sri\", \"staff\", \"staff\", \"staff\", \"staff\", \"starve\", \"state\", \"state\", \"state\", \"state\", \"state\", \"states\", \"states\", \"states\", \"states\", \"states\", \"stay\", \"stay\", \"stay\", \"stay\", \"stay\", \"stock\", \"stock\", \"stock\", \"stock\", \"stock\", \"stop\", \"stop\", \"stop\", \"stop\", \"stop\", \"store\", \"store\", \"store\", \"store\", \"store\", \"strength\", \"stressful\", \"stupid\", \"stupid\", \"supermarket\", \"supermarket\", \"supermarket\", \"supermarket\", \"supermarket\", \"supplies\", \"supply\", \"supply\", \"supply\", \"supply\", \"supply\", \"surge\", \"surge\", \"surge\", \"surge\", \"takeout\", \"takeout\", \"teacher\", \"tear\", \"tesco\", \"test\", \"test\", \"test\", \"test\", \"test\", \"thank\", \"thank\", \"thank\", \"thank\", \"thank\", \"think\", \"think\", \"think\", \"think\", \"think\", \"time\", \"time\", \"time\", \"time\", \"time\", \"tin\", \"tip\", \"tip\", \"tip\", \"tip\", \"tip\", \"toilet\", \"toilet\", \"toilet\", \"town\", \"town\", \"town\", \"transmission\", \"transmission\", \"transmission\", \"trolley\", \"trolley\", \"truck\", \"truck\", \"truck\", \"unemployment\", \"unilever\", \"united\", \"united\", \"united\", \"united\", \"united\", \"unsung\", \"usa\", \"usa\", \"usa\", \"usa\", \"usa\", \"use\", \"use\", \"use\", \"use\", \"use\", \"utah\", \"utah\", \"vegas\", \"vendor\", \"vendor\", \"vigilant\", \"vigilant\", \"violate\", \"virus\", \"virus\", \"virus\", \"virus\", \"virus\", \"vote\", \"vote\", \"walmart\", \"walmart\", \"wash\", \"wash\", \"wash\", \"washing\", \"watchdog\", \"water\", \"water\", \"water\", \"water\", \"water\", \"wear\", \"wear\", \"wear\", \"wear\", \"webinar\", \"wedding\", \"woods\", \"work\", \"work\", \"work\", \"work\", \"work\", \"worker\", \"worker\", \"worker\", \"worker\", \"worker\", \"york\", \"york\", \"york\", \"york\", \"york\"]}, \"R\": 30, \"lambda.step\": 0.01, \"plot.opts\": {\"xlab\": \"PC1\", \"ylab\": \"PC2\"}, \"topic.order\": [3, 4, 5, 1, 2]};\n",
       "\n",
       "function LDAvis_load_lib(url, callback){\n",
       "  var s = document.createElement('script');\n",
       "  s.src = url;\n",
       "  s.async = true;\n",
       "  s.onreadystatechange = s.onload = callback;\n",
       "  s.onerror = function(){console.warn(\"failed to load library \" + url);};\n",
       "  document.getElementsByTagName(\"head\")[0].appendChild(s);\n",
       "}\n",
       "\n",
       "if(typeof(LDAvis) !== \"undefined\"){\n",
       "   // already loaded: just create the visualization\n",
       "   !function(LDAvis){\n",
       "       new LDAvis(\"#\" + \"ldavis_el1234821178138556169608096006\", ldavis_el1234821178138556169608096006_data);\n",
       "   }(LDAvis);\n",
       "}else if(typeof define === \"function\" && define.amd){\n",
       "   // require.js is available: use it to load d3/LDAvis\n",
       "   require.config({paths: {d3: \"https://d3js.org/d3.v5\"}});\n",
       "   require([\"d3\"], function(d3){\n",
       "      window.d3 = d3;\n",
       "      LDAvis_load_lib(\"https://cdn.jsdelivr.net/gh/bmabey/pyLDAvis@3.3.1/pyLDAvis/js/ldavis.v3.0.0.js\", function(){\n",
       "        new LDAvis(\"#\" + \"ldavis_el1234821178138556169608096006\", ldavis_el1234821178138556169608096006_data);\n",
       "      });\n",
       "    });\n",
       "}else{\n",
       "    // require.js not available: dynamically load d3 & LDAvis\n",
       "    LDAvis_load_lib(\"https://d3js.org/d3.v5.js\", function(){\n",
       "         LDAvis_load_lib(\"https://cdn.jsdelivr.net/gh/bmabey/pyLDAvis@3.3.1/pyLDAvis/js/ldavis.v3.0.0.js\", function(){\n",
       "                 new LDAvis(\"#\" + \"ldavis_el1234821178138556169608096006\", ldavis_el1234821178138556169608096006_data);\n",
       "            })\n",
       "         });\n",
       "}\n",
       "</script>"
      ],
      "text/plain": [
       "PreparedData(topic_coordinates=              x         y  topics  cluster       Freq\n",
       "topic                                                \n",
       "2      0.162257  0.000527       1        1  28.637819\n",
       "3     -0.110169 -0.130013       2        1  24.272806\n",
       "4      0.068946  0.000763       3        1  22.058216\n",
       "0     -0.015842 -0.010305       4        1  12.980816\n",
       "1     -0.105192  0.139028       5        1  12.050342, topic_info=           Term        Freq       Total Category  logprob  loglift\n",
       "3420       hand  481.000000  481.000000  Default  30.0000  30.0000\n",
       "6318  sanitizer  437.000000  437.000000  Default  29.0000  29.0000\n",
       "5654      price  966.000000  966.000000  Default  28.0000  28.0000\n",
       "1763   consumer  643.000000  643.000000  Default  27.0000  27.0000\n",
       "5098        oil  252.000000  252.000000  Default  26.0000  26.0000\n",
       "...         ...         ...         ...      ...      ...      ...\n",
       "6046     report   44.113650  183.291997   Topic5  -5.9448   0.6918\n",
       "7716      virus   43.310841  195.900593   Topic5  -5.9632   0.6069\n",
       "6444       sell   42.073688  175.064510   Topic5  -5.9922   0.6903\n",
       "3520       help   43.540769  395.777001   Topic5  -5.9579  -0.0911\n",
       "5258   pandemic   43.384259  411.461514   Topic5  -5.9615  -0.1335\n",
       "\n",
       "[428 rows x 6 columns], token_table=      Topic      Freq  Term\n",
       "term                       \n",
       "74        1  0.238432    19\n",
       "74        2  0.249063    19\n",
       "74        3  0.255137    19\n",
       "74        4  0.145793    19\n",
       "74        5  0.110863    19\n",
       "...     ...       ...   ...\n",
       "8014      1  0.168510  york\n",
       "8014      2  0.353871  york\n",
       "8014      3  0.202212  york\n",
       "8014      4  0.025276  york\n",
       "8014      5  0.248552  york\n",
       "\n",
       "[934 rows x 3 columns], R=30, lambda_step=0.01, plot_opts={'xlab': 'PC1', 'ylab': 'PC2'}, topic_order=[3, 4, 5, 1, 2])"
      ]
     },
     "execution_count": 51,
     "metadata": {},
     "output_type": "execute_result"
    }
   ],
   "source": [
    "pyLDAvis.enable_notebook()\n",
    "\n",
    "pyLDAvis.sklearn.prepare(lda_model = lda, dtm = document_word_matrix_tf, vectorizer = tf_vectorizer)"
   ]
  },
  {
   "cell_type": "code",
   "execution_count": null,
   "id": "ad218b7f-b738-4b57-942b-4635f796f975",
   "metadata": {},
   "outputs": [],
   "source": [
    "classifier = RandomForestClassifier()\n",
    "\n",
    "pipeline = Pipeline([(\"vectorizer\", TfidfVectorizer()),\n",
    "                     (\"classifier\", classifier)])"
   ]
  }
 ],
 "metadata": {
  "kernelspec": {
   "display_name": "Python 3 (ipykernel)",
   "language": "python",
   "name": "python3"
  },
  "language_info": {
   "codemirror_mode": {
    "name": "ipython",
    "version": 3
   },
   "file_extension": ".py",
   "mimetype": "text/x-python",
   "name": "python",
   "nbconvert_exporter": "python",
   "pygments_lexer": "ipython3",
   "version": "3.8.12"
  }
 },
 "nbformat": 4,
 "nbformat_minor": 5
}
