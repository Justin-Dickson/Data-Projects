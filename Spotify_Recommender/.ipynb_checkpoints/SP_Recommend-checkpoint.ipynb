{
 "cells": [
  {
   "cell_type": "markdown",
   "id": "8f9cf973-986e-4ac1-9e81-d0198d111f68",
   "metadata": {},
   "source": [
    "# Playlist of Recommended Songs with Spotify"
   ]
  },
  {
   "cell_type": "markdown",
   "id": "4e4055ea-8df3-43e0-b0a2-0ca5a1e498ed",
   "metadata": {},
   "source": [
    "Using a spotify playlist to curate another list of recommended songs with Machine Learning."
   ]
  },
  {
   "cell_type": "code",
   "execution_count": null,
   "id": "0dcaf249-e3a4-484a-9a95-842865372deb",
   "metadata": {},
   "outputs": [],
   "source": [
    "import numpy as np\n",
    "import pandas as np\n",
    "import matplotlib.pyplot as plt\n",
    "\n",
    "import spotipy\n",
    "from spotipy.oauth2 import SpotifyOAuth"
   ]
  },
  {
   "cell_type": "code",
   "execution_count": null,
   "id": "65b16352-40e9-456b-8049-e6b5312fca3f",
   "metadata": {},
   "outputs": [],
   "source": [
    "import spotipy\n",
    "import yaml\n",
    "from spotipy.oauth2 import SpotifyOAuth\n",
    "from data_functions import offset_api_limit, get_artists_df, get_tracks_df, get_track_audio_df,\\\n",
    "    get_all_playlist_tracks_df, get_recommendations\n",
    "\n",
    "\n",
    "with open(\"spotify/spotify_details.yml\", 'r') as stream:\n",
    "    spotify_details = yaml.safe_load(stream)\n",
    "\n",
    "# https://developer.spotify.com/web-api/using-scopes/\n",
    "scope = \"user-library-read user-follow-read user-top-read playlist-read-private\"\n",
    "\n",
    "sp = spotipy.Spotify(auth_manager=SpotifyOAuth(\n",
    "    client_id=spotify_details['client_id'],\n",
    "    client_secret=spotify_details['client_secret'],\n",
    "    redirect_uri=spotify_details['redirect_uri'],\n",
    "    scope=scope,\n",
    "))\n",
    "\n",
    "print(\"Getting, transforming, and saving playlist track data...\")\n",
    "playlist_tracks_df = get_all_playlist_tracks_df(sp, sp.current_user_playlists())  # limit of 50 playlists by default\n",
    "print('...')\n",
    "playlist_tracks_df = get_track_audio_df(sp, playlist_tracks_df)\n",
    "print('tracks to pickle')\n",
    "playlist_tracks_df.to_pickle(\"spotify/playlist_tracks.pkl\")\n",
    "# Create yaml dump\n",
    "print('create dictionary')\n",
    "playlist_dict = dict(zip(playlist_tracks_df['playlist_name'], playlist_tracks_df['playlist_id']))\n",
    "with open('spotify/playlists.yml', 'w') as outfile:\n",
    "    yaml.dump(playlist_dict, outfile, default_flow_style=False)\n",
    "    \n",
    "print(\"Getting, transforming, and saving tracks recommendations...\")\n",
    "# Define a sample playlists to yield tracks to get recommendations for, 20 recommendations per track\n",
    "recommendation_tracks = get_recommendations(sp, playlist_tracks_df[playlist_tracks_df['playlist_name'].isin(\n",
    "    [\"Chill\", \"Chill '20\", \"Chill '19\", \"Chill '18\", \"Your Top Songs 2020\", \"Your Top Songs 2019\", \"Your Top Songs 2018\"\n",
    "     ])].drop_duplicates(subset='id', keep=\"first\")['id'].tolist())\n",
    "recommendation_tracks_df = get_tracks_df(recommendation_tracks)\n",
    "recommendation_tracks_df = get_track_audio_df(sp, recommendation_tracks_df)\n",
    "recommendation_tracks_df.to_pickle(\"spotify/recommendation_tracks.pkl\")"
   ]
  },
  {
   "cell_type": "code",
   "execution_count": null,
   "id": "d13143d9-c0b9-4079-a46e-f2e1b8a87ff3",
   "metadata": {},
   "outputs": [
    {
     "name": "stdout",
     "output_type": "stream",
     "text": [
      "Getting, transforming, and saving playlist track data...\n"
     ]
    },
    {
     "name": "stderr",
     "output_type": "stream",
     "text": [
      "C:\\Users\\Justin\\OneDrive\\GitHub\\Data-Projects\\Spotify_Recommender\\data_functions.py:118: FutureWarning: In a future version of pandas all arguments of DataFrame.drop except for the argument 'labels' will be keyword-only\n",
      "  tracks_df = tracks_df.drop('track', 1).assign(**tracks_df['track'].apply(pd.Series))\n"
     ]
    },
    {
     "name": "stdout",
     "output_type": "stream",
     "text": [
      "...\n"
     ]
    }
   ],
   "source": [
    "# %load music_data.py\n",
    "import spotipy\n",
    "import yaml\n",
    "from spotipy.oauth2 import SpotifyOAuth\n",
    "from data_functions import offset_api_limit, get_artists_df, get_tracks_df, get_track_audio_df,\\\n",
    "    get_all_playlist_tracks_df, get_recommendations\n",
    "\n",
    "\n",
    "with open(\"spotify/spotify_details.yml\", 'r') as stream:\n",
    "    spotify_details = yaml.safe_load(stream)\n",
    "\n",
    "# https://developer.spotify.com/web-api/using-scopes/\n",
    "scope = \"user-library-read user-follow-read user-top-read playlist-read-private\"\n",
    "\n",
    "sp = spotipy.Spotify(auth_manager=SpotifyOAuth(\n",
    "    client_id=spotify_details['client_id'],\n",
    "    client_secret=spotify_details['client_secret'],\n",
    "    redirect_uri=spotify_details['redirect_uri'],\n",
    "    scope=scope,\n",
    "))\n",
    "\n",
    "# Spotify API calls and data manipulation\n",
    "# Save for later to be quickly read by multiple workflows\n",
    "#print(\"Getting, transforming, and saving top artist data...\")\n",
    "#top_artists = offset_api_limit(sp, sp.current_user_top_artists())\n",
    "#top_artists_df = get_artists_df(top_artists)\n",
    "#top_artists_df.to_pickle(\"spotify/top_artists.pkl\")\n",
    "#\n",
    "#print(\"Getting, transforming, and saving followed artist data...\")\n",
    "#followed_artists = offset_api_limit(sp, sp.current_user_followed_artists())\n",
    "#followed_artists_df = get_artists_df(followed_artists)\n",
    "#followed_artists_df.to_pickle(\"spotify/followed_artists.pkl\")\n",
    "#\n",
    "#print(\"Getting, transforming, and saving top track data...\")\n",
    "#top_tracks = offset_api_limit(sp, sp.current_user_top_tracks())\n",
    "#top_tracks_df = get_tracks_df(top_tracks)\n",
    "#top_tracks_df = get_track_audio_df(sp, top_tracks_df)\n",
    "#top_tracks_df.to_pickle(\"spotify/top_tracks.pkl\")\n",
    "#\n",
    "#print(\"Getting, transforming, and saving saved track data...\")\n",
    "#saved_tracks = offset_api_limit(sp, sp.current_user_saved_tracks())\n",
    "#saved_tracks_df = get_tracks_df(saved_tracks)\n",
    "#saved_tracks_df = get_track_audio_df(sp, saved_tracks_df)\n",
    "#saved_tracks_df.to_pickle(\"spotify/saved_tracks.pkl\")\n",
    "\n",
    "print(\"Getting, transforming, and saving playlist track data...\")\n",
    "playlist_tracks_df = get_all_playlist_tracks_df(sp, sp.current_user_playlists())  # limit of 50 playlists by default\n",
    "print('...')\n",
    "playlist_tracks_df = get_track_audio_df(sp, playlist_tracks_df)\n",
    "print('tracks to pickle')\n",
    "playlist_tracks_df.to_pickle(\"spotify/playlist_tracks.pkl\")\n",
    "# Create yaml dump\n",
    "print('create dictionary')\n",
    "playlist_dict = dict(zip(playlist_tracks_df['playlist_name'], playlist_tracks_df['playlist_id']))\n",
    "with open('spotify/playlists.yml', 'w') as outfile:\n",
    "    yaml.dump(playlist_dict, outfile, default_flow_style=False)\n",
    "\n",
    "print(\"Getting, transforming, and saving tracks recommendations...\")\n",
    "# Define a sample playlists to yield tracks to get recommendations for, 20 recommendations per track\n",
    "recommendation_tracks = get_recommendations(sp, playlist_tracks_df[playlist_tracks_df['playlist_name'].isin(\n",
    "    [\"Chill\", \"Chill '20\", \"Chill '19\", \"Chill '18\", \"Your Top Songs 2020\", \"Your Top Songs 2019\", \"Your Top Songs 2018\"\n",
    "     ])].drop_duplicates(subset='id', keep=\"first\")['id'].tolist())\n",
    "recommendation_tracks_df = get_tracks_df(recommendation_tracks)\n",
    "recommendation_tracks_df = get_track_audio_df(sp, recommendation_tracks_df)\n",
    "recommendation_tracks_df.to_pickle(\"spotify/recommendation_tracks.pkl\")"
   ]
  },
  {
   "cell_type": "code",
   "execution_count": null,
   "id": "5906cd38-2fc3-4b48-883a-c8e71b8dfb3a",
   "metadata": {},
   "outputs": [],
   "source": []
  }
 ],
 "metadata": {
  "kernelspec": {
   "display_name": "Python 3 (ipykernel)",
   "language": "python",
   "name": "python3"
  },
  "language_info": {
   "codemirror_mode": {
    "name": "ipython",
    "version": 3
   },
   "file_extension": ".py",
   "mimetype": "text/x-python",
   "name": "python",
   "nbconvert_exporter": "python",
   "pygments_lexer": "ipython3",
   "version": "3.8.12"
  }
 },
 "nbformat": 4,
 "nbformat_minor": 5
}
