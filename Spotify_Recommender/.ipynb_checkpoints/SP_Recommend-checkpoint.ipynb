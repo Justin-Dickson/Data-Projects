{
 "cells": [
  {
   "cell_type": "markdown",
   "id": "8f9cf973-986e-4ac1-9e81-d0198d111f68",
   "metadata": {},
   "source": [
    "# Playlist of Recommended Songs with Spotify"
   ]
  },
  {
   "cell_type": "markdown",
   "id": "4e4055ea-8df3-43e0-b0a2-0ca5a1e498ed",
   "metadata": {},
   "source": [
    "Using a spotify playlist to curate another list of recommended songs with Machine Learning."
   ]
  },
  {
   "cell_type": "code",
   "execution_count": 2,
   "id": "0dcaf249-e3a4-484a-9a95-842865372deb",
   "metadata": {},
   "outputs": [],
   "source": [
    "import numpy as np\n",
    "import pandas as np\n",
    "import matplotlib.pyplot as plt\n",
    "\n",
    "import spotipy\n",
    "from spotipy.oauth2 import SpotifyOAuth"
   ]
  }
 ],
 "metadata": {
  "kernelspec": {
   "display_name": "Python 3 (ipykernel)",
   "language": "python",
   "name": "python3"
  },
  "language_info": {
   "codemirror_mode": {
    "name": "ipython",
    "version": 3
   },
   "file_extension": ".py",
   "mimetype": "text/x-python",
   "name": "python",
   "nbconvert_exporter": "python",
   "pygments_lexer": "ipython3",
   "version": "3.10.9"
  }
 },
 "nbformat": 4,
 "nbformat_minor": 5
}
